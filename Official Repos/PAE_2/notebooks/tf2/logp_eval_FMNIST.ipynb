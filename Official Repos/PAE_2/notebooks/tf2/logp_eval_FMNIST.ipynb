{
 "cells": [
  {
   "cell_type": "markdown",
   "metadata": {},
   "source": [
    "# PAE logp sampling"
   ]
  },
  {
   "cell_type": "code",
   "execution_count": 1,
   "metadata": {
    "colab": {
     "base_uri": "https://localhost:8080/",
     "height": 35
    },
    "colab_type": "code",
    "id": "D-Fe5G8m1FTC",
    "outputId": "8f21ee4e-6ad4-4fe2-a7a5-0bad6eae0cde"
   },
   "outputs": [],
   "source": [
    "\n",
    "#To make tf 2.0 compatible with tf1.0 code, we disable the tf2.0 functionalities\n",
    "#tf.disable_eager_execution()\n",
    "import numpy as np\n",
    "import os\n",
    "import matplotlib\n",
    "import matplotlib.pyplot as plt\n",
    "import matplotlib.cm as cm\n",
    "from matplotlib import rcParams\n",
    "import sys\n",
    "import pickle\n",
    "from functools import partial\n",
    "import time\n",
    "from tqdm import tqdm\n",
    "\n",
    "plt.rcParams.update({'font.family' : 'lmodern', 'font.size': 16,                                                                                                                                                    \n",
    "                     'axes.labelsize': 16, 'legend.fontsize': 12, \n",
    "                     'xtick.labelsize': 16, 'ytick.labelsize': 16, 'axes.titlesize': 16,\n",
    "                     'axes.linewidth': 1.5})"
   ]
  },
  {
   "cell_type": "code",
   "execution_count": 2,
   "metadata": {},
   "outputs": [],
   "source": [
    "import scipy"
   ]
  },
  {
   "cell_type": "code",
   "execution_count": 3,
   "metadata": {
    "colab": {},
    "colab_type": "code",
    "id": "-AEYmOsH1FTI"
   },
   "outputs": [
    {
     "data": {
      "text/plain": [
       "[PhysicalDevice(name='/physical_device:GPU:0', device_type='GPU')]"
      ]
     },
     "execution_count": 3,
     "metadata": {},
     "output_type": "execute_result"
    }
   ],
   "source": [
    "import tensorflow as tf\n",
    "import tensorflow_probability as tfp\n",
    "import tensorflow_hub as hub\n",
    "tfd = tfp.distributions\n",
    "tfb = tfp.bijectors\n",
    "tf.__version__\n",
    "tf.config.list_physical_devices('GPU')"
   ]
  },
  {
   "cell_type": "code",
   "execution_count": 4,
   "metadata": {},
   "outputs": [
    {
     "name": "stdout",
     "output_type": "stream",
     "text": [
      "2.2.0 0.10.0 0.8.0\n"
     ]
    }
   ],
   "source": [
    "print(tf.__version__, tfp.__version__, hub.__version__)"
   ]
  },
  {
   "cell_type": "markdown",
   "metadata": {},
   "source": [
    "### Loading the trained modules and evaluating logp in tensorflow"
   ]
  },
  {
   "cell_type": "code",
   "execution_count": null,
   "metadata": {
    "colab": {},
    "colab_type": "code",
    "id": "GI5FLHJsZLTV"
   },
   "outputs": [],
   "source": []
  },
  {
   "cell_type": "code",
   "execution_count": 5,
   "metadata": {
    "colab": {},
    "colab_type": "code",
    "id": "V9oAjWb9ZLTc"
   },
   "outputs": [],
   "source": [
    "import pae.create_datasets as crd\n",
    "import pae.load_data as ld\n",
    "load_funcs=dict(mnist=ld.load_mnist, fmnist=ld.load_fmnist)"
   ]
  },
  {
   "cell_type": "code",
   "execution_count": 9,
   "metadata": {
    "colab": {},
    "colab_type": "code",
    "id": "vxW5NtaPZLTi"
   },
   "outputs": [],
   "source": [
    "\n",
    "PARAMS_PATH = '/global/cscratch1/sd/vboehm/PAE_samples/FMNIST/latent_dim64/PAE/modules/'\n",
    "\n",
    "param_file  = 'params_fmnist_-1_64_infoGAN_AE_v2rot_full_sigma'\n",
    "params      = pickle.load(open(os.path.join(PARAMS_PATH,param_file+'.pkl'),'rb'))"
   ]
  },
  {
   "cell_type": "code",
   "execution_count": 10,
   "metadata": {},
   "outputs": [],
   "source": [
    "# params['module_dir']='../../modules/mnist/class-1/latent_size10/net_type_vae10/loss_AE/test_full_sigma'\n",
    "# params['data_dir']= '../../data/'"
   ]
  },
  {
   "cell_type": "code",
   "execution_count": 11,
   "metadata": {},
   "outputs": [],
   "source": [
    "load_func                                          = partial(load_funcs[params['data_set']])\n",
    "x_train, y_train, x_valid, y_valid, x_test, y_test = load_func(params['data_dir'],flatten=False)\n",
    "\n",
    "if np.all(x_test)==None:\n",
    "    x_test=x_valid\n",
    "\n",
    "x_train = (x_train/256.-0.5).astype(np.float32)\n",
    "x_test  = (x_test/256.-0.5).astype(np.float32)\n",
    "x_valid = (x_valid/256.-0.5).astype(np.float32)"
   ]
  },
  {
   "cell_type": "code",
   "execution_count": 12,
   "metadata": {},
   "outputs": [],
   "source": [
    "load_func                                          = partial(load_funcs['mnist'])\n",
    "x_train_ood, y_train, x_valid_ood, y_valid, x_test_ood, y_test = load_func(params['data_dir'],flatten=False)\n",
    "\n",
    "\n",
    "x_train_ood = (x_train_ood/256.-0.5).astype(np.float32)\n",
    "x_test_ood  = (x_test_ood/256.-0.5).astype(np.float32)\n",
    "x_valid_ood = (x_valid_ood/256.-0.5).astype(np.float32)"
   ]
  },
  {
   "cell_type": "code",
   "execution_count": 13,
   "metadata": {},
   "outputs": [],
   "source": [
    "params['module_dir']='/global/cscratch1/sd/vboehm/PAE_samples/FMNIST/latent_dim64/PAE/modules/'"
   ]
  },
  {
   "cell_type": "code",
   "execution_count": 14,
   "metadata": {},
   "outputs": [],
   "source": [
    "generator_path   = os.path.join(params['module_dir'],'decoder')\n",
    "encoder_path     = os.path.join(params['module_dir'],'encoder')\n",
    "nvp_path         = os.path.join(params['module_dir'],'hybrid1_nepoch100')"
   ]
  },
  {
   "cell_type": "code",
   "execution_count": null,
   "metadata": {},
   "outputs": [],
   "source": []
  },
  {
   "cell_type": "code",
   "execution_count": 15,
   "metadata": {},
   "outputs": [],
   "source": [
    "def get_likelihood(decoder,sigma):\n",
    "    sigma = tf.reshape(sigma,(params['batch_size'],-1))\n",
    "    def likelihood(z):\n",
    "        mean  = decoder({'z':z})['x']\n",
    "        mean  = tf.reshape(mean,(params['batch_size'],-1))\n",
    "        \n",
    "        LL = tfd.MultivariateNormalDiag(loc=mean,scale_diag=sigma)\n",
    "        return tfd.Independent(LL)\n",
    "\n",
    "    return likelihood\n",
    "\n",
    "def get_prior(latent_size):\n",
    "    return tfd.MultivariateNormalDiag(tf.zeros(latent_size), scale_identity_multiplier=1.0)"
   ]
  },
  {
   "cell_type": "code",
   "execution_count": 16,
   "metadata": {},
   "outputs": [
    {
     "name": "stdout",
     "output_type": "stream",
     "text": [
      "(28, 28, 1)\n",
      "WARNING:tensorflow:From /global/homes/v/vboehm/.conda/envs/tf22/lib/python3.8/site-packages/tensorflow/python/ops/resource_variable_ops.py:1813: calling BaseResourceVariable.__init__ (from tensorflow.python.ops.resource_variable_ops) with constraint is deprecated and will be removed in a future version.\n",
      "Instructions for updating:\n",
      "If using Keras pass *_constraint arguments to layers.\n"
     ]
    }
   ],
   "source": [
    "#z_fill        = tf.Variable(tf.zeros((params['batch_size'],params['latent_size']),tf.float32),trainable=False)\n",
    "\n",
    "sigma         = params['full_sigma']\n",
    "sigma         = sigma.astype(np.float32)\n",
    "print(sigma.shape)\n",
    "encoder       = hub.KerasLayer(encoder_path,trainable=False, signature_outputs_as_dict=True)\n",
    "decoder       = hub.KerasLayer(generator_path, trainable=False, signature_outputs_as_dict=True)\n",
    "nvp_funcs     = hub.KerasLayer(nvp_path, trainable=False, signature_outputs_as_dict=True)\n",
    "\n",
    "likelihood    = get_likelihood(decoder,np.repeat(np.expand_dims(sigma,0),params['batch_size'],axis=0))\n",
    "prior         = get_prior(params['latent_size'])"
   ]
  },
  {
   "cell_type": "code",
   "execution_count": 17,
   "metadata": {
    "colab": {
     "base_uri": "https://localhost:8080/",
     "height": 160
    },
    "colab_type": "code",
    "id": "yvTEYw44O_5q",
    "outputId": "898dcdf7-f38f-4dae-a3aa-4f32a487f0ae"
   },
   "outputs": [],
   "source": [
    "def get_encoded(x):\n",
    "    mu, sigma        = tf.split(encoder({'x':x})['z'], 2, axis=-1)\n",
    "    return mu\n",
    "\n",
    "def get_decoded(z):\n",
    "    return decoder({'z':z})['x']\n",
    "\n",
    "def likelihood_eval(z,x,likelihood):\n",
    "    likelihood    = likelihood(z).log_prob(x)\n",
    "    return likelihood\n",
    "\n",
    "def NF_prior_eval(z,nvp_funcs=nvp_funcs):\n",
    "    prior         = nvp_funcs({'z_sample':z,'sample_size':1, 'u_sample':np.zeros((1,params['latent_size']))})['log_prob']\n",
    "    return prior\n",
    "\n",
    "def posterior_eval(z,x,likelihood, nvp_funcs):\n",
    "    x            = tf.reshape(x,(params['batch_size'],-1))\n",
    "    likelihood   = likelihood_eval(z,x,likelihood)\n",
    "    NF_prior     = NF_prior_eval(z, nvp_funcs)\n",
    "    logprob      = likelihood+NF_prior\n",
    "    return logprob\n",
    "\n",
    "def Jacobian_eval(z,nvp_funcs):\n",
    "    NF_prior = NF_prior_eval(z,nvp_funcs=nvp_funcs)\n",
    "    J        = NF_prior-prior.log_prob(z)\n",
    "    return J"
   ]
  },
  {
   "cell_type": "code",
   "execution_count": 18,
   "metadata": {},
   "outputs": [],
   "source": [
    "samples_ood = []\n",
    "for ii in range(1,4):\n",
    "    samples_ood.append(np.load(os.path.join('/global/cscratch1/sd/vboehm/PAE_samples/FMNIST/latent_dim64/PAE/samples','HMC_MNIST_latent_dim64_burnin50_leapfrog3_%d.npy'%ii),allow_pickle=True))"
   ]
  },
  {
   "cell_type": "code",
   "execution_count": 19,
   "metadata": {},
   "outputs": [],
   "source": [
    "samples_ood = np.array(samples_ood, dtype=object)\n",
    "samples_ood = np.vstack(samples_ood)"
   ]
  },
  {
   "cell_type": "code",
   "execution_count": 20,
   "metadata": {},
   "outputs": [],
   "source": [
    "samples = []\n",
    "for ii in range(1,4):\n",
    "    samples.append(np.load(os.path.join('/global/cscratch1/sd/vboehm/PAE_samples/FMNIST/latent_dim64/PAE/samples/','HMC_FMNIST_latent_dim64_burnin50_leapfrog3_%d.npy'%ii),allow_pickle=True))"
   ]
  },
  {
   "cell_type": "code",
   "execution_count": 21,
   "metadata": {},
   "outputs": [],
   "source": [
    "samples = np.array(samples, dtype=object)\n",
    "samples = np.vstack(samples)"
   ]
  },
  {
   "cell_type": "code",
   "execution_count": 22,
   "metadata": {},
   "outputs": [
    {
     "data": {
      "text/plain": [
       "((9984, 25, 64), (9984, 25, 64))"
      ]
     },
     "execution_count": 22,
     "metadata": {},
     "output_type": "execute_result"
    }
   ],
   "source": [
    "samples_ood.shape, samples.shape"
   ]
  },
  {
   "cell_type": "code",
   "execution_count": 23,
   "metadata": {},
   "outputs": [
    {
     "name": "stdout",
     "output_type": "stream",
     "text": [
      "156\n",
      "0\n",
      "WARNING:tensorflow:Layer keras_layer_2 is casting an input tensor from dtype float64 to the layer's dtype of float32, which is new behavior in TensorFlow 2.  The layer has dtype float32 because it's dtype defaults to floatx.\n",
      "\n",
      "If you intended to run this layer in float32, you can safely ignore this warning. If in doubt, this warning is likely only an issue if you are porting a TensorFlow 1.X model to TensorFlow 2.\n",
      "\n",
      "To change all layers to have dtype float64 by default, call `tf.keras.backend.set_floatx('float64')`. To change just this layer, pass dtype='float64' to the layer constructor. If you are the author of this layer, you can disable autocasting by passing autocast=False to the base Layer constructor.\n",
      "\n",
      "1\n",
      "2\n",
      "3\n",
      "4\n",
      "5\n",
      "6\n",
      "7\n",
      "8\n",
      "9\n",
      "10\n",
      "11\n",
      "12\n",
      "13\n",
      "14\n",
      "15\n",
      "16\n",
      "17\n",
      "18\n",
      "19\n",
      "20\n",
      "21\n",
      "22\n",
      "23\n",
      "24\n",
      "25\n",
      "26\n",
      "27\n",
      "28\n",
      "29\n",
      "30\n",
      "31\n",
      "32\n",
      "33\n",
      "34\n",
      "35\n",
      "36\n",
      "37\n",
      "38\n",
      "39\n",
      "40\n",
      "41\n",
      "42\n",
      "43\n",
      "44\n",
      "45\n",
      "46\n",
      "47\n",
      "48\n",
      "49\n",
      "50\n",
      "51\n",
      "52\n",
      "53\n",
      "54\n",
      "55\n",
      "56\n",
      "57\n",
      "58\n",
      "59\n",
      "60\n",
      "61\n",
      "62\n",
      "63\n",
      "64\n",
      "65\n",
      "66\n",
      "67\n",
      "68\n",
      "69\n",
      "70\n",
      "71\n",
      "72\n",
      "73\n",
      "74\n",
      "75\n",
      "76\n",
      "77\n",
      "78\n",
      "79\n",
      "80\n",
      "81\n",
      "82\n",
      "83\n",
      "84\n",
      "85\n",
      "86\n",
      "87\n",
      "88\n",
      "89\n",
      "90\n",
      "91\n",
      "92\n",
      "93\n",
      "94\n",
      "95\n",
      "96\n",
      "97\n",
      "98\n",
      "99\n",
      "100\n",
      "101\n",
      "102\n",
      "103\n",
      "104\n",
      "105\n",
      "106\n",
      "107\n",
      "108\n",
      "109\n",
      "110\n",
      "111\n",
      "112\n",
      "113\n",
      "114\n",
      "115\n",
      "116\n",
      "117\n",
      "118\n",
      "119\n",
      "120\n",
      "121\n",
      "122\n",
      "123\n",
      "124\n",
      "125\n",
      "126\n",
      "127\n",
      "128\n",
      "129\n",
      "130\n",
      "131\n",
      "132\n",
      "133\n",
      "134\n",
      "135\n",
      "136\n",
      "137\n",
      "138\n",
      "139\n",
      "140\n",
      "141\n",
      "142\n",
      "143\n",
      "144\n",
      "145\n",
      "146\n",
      "147\n",
      "148\n",
      "149\n",
      "150\n",
      "151\n",
      "152\n",
      "153\n",
      "154\n",
      "155\n"
     ]
    }
   ],
   "source": [
    "posteriors_ood  = np.zeros(samples.shape[:-1])\n",
    "likelihoods_ood = np.zeros(samples.shape[:-1])\n",
    "Jacobians_ood   = np.zeros(samples.shape[:-1])\n",
    "NF_priors_ood   = np.zeros(samples.shape[:-1])\n",
    "\n",
    "num_chunks = len(posteriors_ood)//params['batch_size']\n",
    "print(num_chunks)\n",
    "for ii in range(num_chunks):\n",
    "    print(ii)\n",
    "    for jj in range(25):\n",
    "        z  = samples_ood[ii*params['batch_size']:(ii+1)*params['batch_size'],jj]\n",
    "        post = posterior_eval(z,x_test_ood[ii*params['batch_size']:(ii+1)*params['batch_size']],likelihood, nvp_funcs)\n",
    "        posteriors_ood[ii*params['batch_size']:(ii+1)*params['batch_size'],jj]=post\n",
    "        like = likelihood_eval(z,np.reshape(x_test_ood[ii*params['batch_size']:(ii+1)*params['batch_size']],(-1,28*28)),likelihood)\n",
    "        likelihoods_ood[ii*params['batch_size']:(ii+1)*params['batch_size'],jj]=like\n",
    "        jac = Jacobian_eval(z,nvp_funcs)\n",
    "        Jacobians_ood[ii*params['batch_size']:(ii+1)*params['batch_size'],jj]=jac\n",
    "        NFprior = NF_prior_eval(z,nvp_funcs)\n",
    "        NF_priors_ood[ii*params['batch_size']:(ii+1)*params['batch_size'],jj]=NFprior   "
   ]
  },
  {
   "cell_type": "code",
   "execution_count": 24,
   "metadata": {},
   "outputs": [
    {
     "data": {
      "text/plain": [
       "(9984, 25, 64)"
      ]
     },
     "execution_count": 24,
     "metadata": {},
     "output_type": "execute_result"
    }
   ],
   "source": [
    "samples.shape"
   ]
  },
  {
   "cell_type": "code",
   "execution_count": 25,
   "metadata": {},
   "outputs": [
    {
     "name": "stdout",
     "output_type": "stream",
     "text": [
      "156\n",
      "0\n",
      "1\n",
      "2\n",
      "3\n",
      "4\n",
      "5\n",
      "6\n",
      "7\n",
      "8\n",
      "9\n",
      "10\n",
      "11\n",
      "12\n",
      "13\n",
      "14\n",
      "15\n",
      "16\n",
      "17\n",
      "18\n",
      "19\n",
      "20\n",
      "21\n",
      "22\n",
      "23\n",
      "24\n",
      "25\n",
      "26\n",
      "27\n",
      "28\n",
      "29\n",
      "30\n",
      "31\n",
      "32\n",
      "33\n",
      "34\n",
      "35\n",
      "36\n",
      "37\n",
      "38\n",
      "39\n",
      "40\n",
      "41\n",
      "42\n",
      "43\n",
      "44\n",
      "45\n",
      "46\n",
      "47\n",
      "48\n",
      "49\n",
      "50\n",
      "51\n",
      "52\n",
      "53\n",
      "54\n",
      "55\n",
      "56\n",
      "57\n",
      "58\n",
      "59\n",
      "60\n",
      "61\n",
      "62\n",
      "63\n",
      "64\n",
      "65\n",
      "66\n",
      "67\n",
      "68\n",
      "69\n",
      "70\n",
      "71\n",
      "72\n",
      "73\n",
      "74\n",
      "75\n",
      "76\n",
      "77\n",
      "78\n",
      "79\n",
      "80\n",
      "81\n",
      "82\n",
      "83\n",
      "84\n",
      "85\n",
      "86\n",
      "87\n",
      "88\n",
      "89\n",
      "90\n",
      "91\n",
      "92\n",
      "93\n",
      "94\n",
      "95\n",
      "96\n",
      "97\n",
      "98\n",
      "99\n",
      "100\n",
      "101\n",
      "102\n",
      "103\n",
      "104\n",
      "105\n",
      "106\n",
      "107\n",
      "108\n",
      "109\n",
      "110\n",
      "111\n",
      "112\n",
      "113\n",
      "114\n",
      "115\n",
      "116\n",
      "117\n",
      "118\n",
      "119\n",
      "120\n",
      "121\n",
      "122\n",
      "123\n",
      "124\n",
      "125\n",
      "126\n",
      "127\n",
      "128\n",
      "129\n",
      "130\n",
      "131\n",
      "132\n",
      "133\n",
      "134\n",
      "135\n",
      "136\n",
      "137\n",
      "138\n",
      "139\n",
      "140\n",
      "141\n",
      "142\n",
      "143\n",
      "144\n",
      "145\n",
      "146\n",
      "147\n",
      "148\n",
      "149\n",
      "150\n",
      "151\n",
      "152\n",
      "153\n",
      "154\n",
      "155\n"
     ]
    }
   ],
   "source": [
    "posteriors  = np.zeros(samples.shape[:-1])\n",
    "likelihoods = np.zeros(samples.shape[:-1])\n",
    "Jacobians   = np.zeros(samples.shape[:-1])\n",
    "NF_priors   = np.zeros(samples.shape[:-1])\n",
    "\n",
    "num_chunks = len(posteriors)//params['batch_size']\n",
    "print(num_chunks)\n",
    "for ii in range(num_chunks):\n",
    "    print(ii)\n",
    "    for jj in range(25):\n",
    "        z  = samples[ii*params['batch_size']:(ii+1)*params['batch_size'],jj]\n",
    "        post = posterior_eval(z,x_test[ii*params['batch_size']:(ii+1)*params['batch_size']],likelihood, nvp_funcs)\n",
    "        posteriors[ii*params['batch_size']:(ii+1)*params['batch_size'],jj]=post\n",
    "        like = likelihood_eval(z,np.reshape(x_test[ii*params['batch_size']:(ii+1)*params['batch_size']],(-1,28*28)),likelihood)\n",
    "        likelihoods[ii*params['batch_size']:(ii+1)*params['batch_size'],jj]=like\n",
    "        jac = Jacobian_eval(z,nvp_funcs)\n",
    "        Jacobians[ii*params['batch_size']:(ii+1)*params['batch_size'],jj]=jac\n",
    "        NFprior = NF_prior_eval(z,nvp_funcs)\n",
    "        NF_priors[ii*params['batch_size']:(ii+1)*params['batch_size'],jj]=NFprior        "
   ]
  },
  {
   "cell_type": "code",
   "execution_count": 26,
   "metadata": {},
   "outputs": [
    {
     "name": "stderr",
     "output_type": "stream",
     "text": [
      "<ipython-input-26-1ff1ecd6d2ea>:1: RuntimeWarning: divide by zero encountered in log\n",
      "  z_var = np.sum(np.log(np.var(samples, axis=1)),axis=-1)\n",
      "<ipython-input-26-1ff1ecd6d2ea>:2: RuntimeWarning: divide by zero encountered in log\n",
      "  z_var_ood = np.sum(np.log(np.var(samples_ood, axis=1)),axis=-1)\n"
     ]
    }
   ],
   "source": [
    "z_var = np.sum(np.log(np.var(samples, axis=1)),axis=-1)\n",
    "z_var_ood = np.sum(np.log(np.var(samples_ood, axis=1)),axis=-1)"
   ]
  },
  {
   "cell_type": "code",
   "execution_count": 27,
   "metadata": {},
   "outputs": [
    {
     "data": {
      "text/plain": [
       "<matplotlib.legend.Legend at 0x2aab91900fa0>"
      ]
     },
     "execution_count": 27,
     "metadata": {},
     "output_type": "execute_result"
    },
    {
     "name": "stderr",
     "output_type": "stream",
     "text": [
      "findfont: Font family ['lmodern'] not found. Falling back to DejaVu Sans.\n",
      "findfont: Font family ['lmodern'] not found. Falling back to DejaVu Sans.\n"
     ]
    },
    {
     "data": {
      "image/png": "[encoded data removed]",
      "text/plain": [
       "<Figure size 432x288 with 1 Axes>"
      ]
     },
     "metadata": {
      "needs_background": "light"
     },
     "output_type": "display_data"
    }
   ],
   "source": [
    "plt.title('posterior')\n",
    "_ = plt.hist(np.mean(posteriors, axis=1),bins=100,density=True,range=(-1000,2000),label='in dis.')\n",
    "_ = plt.hist(np.mean(posteriors_ood, axis=1),bins=100,density=True, alpha=0.5,range=(-1000,2000),label='ood')\n",
    "plt.legend()"
   ]
  },
  {
   "cell_type": "code",
   "execution_count": 28,
   "metadata": {},
   "outputs": [
    {
     "data": {
      "text/plain": [
       "<matplotlib.legend.Legend at 0x2aab913ee760>"
      ]
     },
     "execution_count": 28,
     "metadata": {},
     "output_type": "execute_result"
    },
    {
     "data": {
      "image/png": "[encoded data removed]",
      "text/plain": [
       "<Figure size 432x288 with 1 Axes>"
      ]
     },
     "metadata": {
      "needs_background": "light"
     },
     "output_type": "display_data"
    }
   ],
   "source": [
    "plt.title('sum log var(z)')\n",
    "_ = plt.hist(z_var,bins=100,density=True,range=(-800,0),label='in dis.')\n",
    "_ = plt.hist(z_var_ood,bins=100,density=True, alpha=0.5,range=(-800,0),label='ood')\n",
    "plt.legend()"
   ]
  },
  {
   "cell_type": "code",
   "execution_count": 29,
   "metadata": {},
   "outputs": [
    {
     "data": {
      "text/plain": [
       "<matplotlib.legend.Legend at 0x2aab9177f790>"
      ]
     },
     "execution_count": 29,
     "metadata": {},
     "output_type": "execute_result"
    },
    {
     "data": {
      "image/png": "[encoded data removed]",
      "text/plain": [
       "<Figure size 432x288 with 1 Axes>"
      ]
     },
     "metadata": {
      "needs_background": "light"
     },
     "output_type": "display_data"
    }
   ],
   "source": [
    "plt.title('likelihood')\n",
    "_ = plt.hist(np.mean(likelihoods, axis=1),bins=100,density=True,range=(-300,1500),label='in dis.')\n",
    "_ = plt.hist(np.mean(likelihoods_ood, axis=1),bins=100,density=True, alpha=0.5,range=(-300,1500),label='ood')\n",
    "plt.legend()"
   ]
  },
  {
   "cell_type": "code",
   "execution_count": 30,
   "metadata": {},
   "outputs": [
    {
     "data": {
      "text/plain": [
       "<matplotlib.legend.Legend at 0x2aab910e7d00>"
      ]
     },
     "execution_count": 30,
     "metadata": {},
     "output_type": "execute_result"
    },
    {
     "data": {
      "image/png": "[encoded data removed]",
      "text/plain": [
       "<Figure size 432x288 with 1 Axes>"
      ]
     },
     "metadata": {
      "needs_background": "light"
     },
     "output_type": "display_data"
    }
   ],
   "source": [
    "plt.title('NF prior')\n",
    "_ = plt.hist(np.mean(NF_priors, axis=1),bins=100,density=True,range=(-200,200),label='in dis.')\n",
    "_ = plt.hist(np.mean(NF_priors_ood, axis=1),bins=100,density=True, alpha=0.5,range=(-200,200),label='ood')\n",
    "plt.legend()"
   ]
  },
  {
   "cell_type": "code",
   "execution_count": 31,
   "metadata": {},
   "outputs": [
    {
     "data": {
      "text/plain": [
       "<matplotlib.legend.Legend at 0x2aab90fc5700>"
      ]
     },
     "execution_count": 31,
     "metadata": {},
     "output_type": "execute_result"
    },
    {
     "data": {
      "image/png": "[encoded data removed]",
      "text/plain": [
       "<Figure size 432x288 with 1 Axes>"
      ]
     },
     "metadata": {
      "needs_background": "light"
     },
     "output_type": "display_data"
    }
   ],
   "source": [
    "plt.title('NF Jacobian')\n",
    "_ = plt.hist(np.mean(Jacobians, axis=1),bins=100,density=True,range=(-200,200),label='in dis.')\n",
    "_ = plt.hist(np.mean(Jacobians_ood, axis=1),bins=100,density=True, alpha=0.5,range=(-200,200),label='ood')\n",
    "plt.legend()"
   ]
  },
  {
   "cell_type": "code",
   "execution_count": null,
   "metadata": {},
   "outputs": [],
   "source": []
  }
 ],
 "metadata": {
  "accelerator": "GPU",
  "colab": {
   "collapsed_sections": [],
   "include_colab_link": true,
   "name": "LambdaNetwork.ipynb",
   "provenance": []
  },
  "kernelspec": {
   "display_name": "tf22",
   "language": "python",
   "name": "tf22"
  },
  "language_info": {
   "codemirror_mode": {
    "name": "ipython",
    "version": 3
   },
   "file_extension": ".py",
   "mimetype": "text/x-python",
   "name": "python",
   "nbconvert_exporter": "python",
   "pygments_lexer": "ipython3",
   "version": "3.8.3"
  }
 },
 "nbformat": 4,
 "nbformat_minor": 4
}
