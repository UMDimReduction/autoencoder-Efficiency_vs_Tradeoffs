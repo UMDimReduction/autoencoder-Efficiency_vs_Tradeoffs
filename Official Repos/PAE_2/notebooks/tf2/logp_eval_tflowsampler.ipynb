{
 "cells": [
  {
   "cell_type": "markdown",
   "metadata": {},
   "source": [
    "# PAE logp sampling"
   ]
  },
  {
   "cell_type": "code",
   "execution_count": 1,
   "metadata": {
    "colab": {
     "base_uri": "https://localhost:8080/",
     "height": 35
    },
    "colab_type": "code",
    "id": "D-Fe5G8m1FTC",
    "outputId": "8f21ee4e-6ad4-4fe2-a7a5-0bad6eae0cde"
   },
   "outputs": [],
   "source": [
    "\n",
    "#To make tf 2.0 compatible with tf1.0 code, we disable the tf2.0 functionalities\n",
    "#tf.disable_eager_execution()\n",
    "import numpy as np\n",
    "import os\n",
    "import matplotlib\n",
    "import matplotlib.pyplot as plt\n",
    "import matplotlib.cm as cm\n",
    "from matplotlib import rcParams\n",
    "import sys\n",
    "import pickle\n",
    "from functools import partial\n",
    "import time\n",
    "from tqdm import tqdm\n",
    "\n",
    "plt.rcParams.update({'font.family' : 'lmodern', 'font.size': 16,                                                                                                                                                    \n",
    "                     'axes.labelsize': 16, 'legend.fontsize': 12, \n",
    "                     'xtick.labelsize': 16, 'ytick.labelsize': 16, 'axes.titlesize': 16,\n",
    "                     'axes.linewidth': 1.5})"
   ]
  },
  {
   "cell_type": "code",
   "execution_count": 2,
   "metadata": {},
   "outputs": [],
   "source": [
    "import scipy"
   ]
  },
  {
   "cell_type": "code",
   "execution_count": 3,
   "metadata": {
    "colab": {},
    "colab_type": "code",
    "id": "-AEYmOsH1FTI"
   },
   "outputs": [
    {
     "data": {
      "text/plain": [
       "[PhysicalDevice(name='/physical_device:GPU:0', device_type='GPU')]"
      ]
     },
     "execution_count": 3,
     "metadata": {},
     "output_type": "execute_result"
    }
   ],
   "source": [
    "import tensorflow as tf\n",
    "import tensorflow_probability as tfp\n",
    "import tensorflow_hub as hub\n",
    "tfd = tfp.distributions\n",
    "tfb = tfp.bijectors\n",
    "tf.__version__\n",
    "tf.config.list_physical_devices('GPU')"
   ]
  },
  {
   "cell_type": "code",
   "execution_count": 4,
   "metadata": {},
   "outputs": [
    {
     "name": "stdout",
     "output_type": "stream",
     "text": [
      "2.2.0 0.10.0 0.8.0\n"
     ]
    }
   ],
   "source": [
    "print(tf.__version__, tfp.__version__, hub.__version__)"
   ]
  },
  {
   "cell_type": "markdown",
   "metadata": {},
   "source": [
    "### Loading the trained modules and evaluating logp in tensorflow"
   ]
  },
  {
   "cell_type": "code",
   "execution_count": 5,
   "metadata": {
    "colab": {},
    "colab_type": "code",
    "id": "GI5FLHJsZLTV"
   },
   "outputs": [],
   "source": [
    "from pae.model_tf2 import get_prior, get_posterior"
   ]
  },
  {
   "cell_type": "code",
   "execution_count": 1,
   "metadata": {},
   "outputs": [
    {
     "data": {
      "text/plain": [
       "78.125"
      ]
     },
     "execution_count": 1,
     "metadata": {},
     "output_type": "execute_result"
    }
   ],
   "source": [
    "5000/64"
   ]
  },
  {
   "cell_type": "code",
   "execution_count": 6,
   "metadata": {
    "colab": {},
    "colab_type": "code",
    "id": "V9oAjWb9ZLTc"
   },
   "outputs": [],
   "source": [
    "import pae.create_datasets as crd\n",
    "import pae.load_data as ld\n",
    "load_funcs=dict(mnist=ld.load_mnist, fmnist=ld.load_fmnist)"
   ]
  },
  {
   "cell_type": "code",
   "execution_count": 7,
   "metadata": {
    "colab": {},
    "colab_type": "code",
    "id": "vxW5NtaPZLTi"
   },
   "outputs": [],
   "source": [
    "PROJECT_PATH = \"../../\" \n",
    "PARAMS_PATH = os.path.join(PROJECT_PATH,'params')\n",
    "\n",
    "param_file  = 'params_mnist_-1_10_vae10_AE_test_full_sigma'\n",
    "params      = pickle.load(open(os.path.join(PARAMS_PATH,param_file+'.pkl'),'rb'))"
   ]
  },
  {
   "cell_type": "code",
   "execution_count": 8,
   "metadata": {},
   "outputs": [],
   "source": [
    "# params['module_dir']='../../modules/mnist/class-1/latent_size10/net_type_vae10/loss_AE/test_full_sigma'\n",
    "# params['data_dir']= '../../data/'"
   ]
  },
  {
   "cell_type": "code",
   "execution_count": 9,
   "metadata": {},
   "outputs": [],
   "source": [
    "load_func                                          = partial(load_funcs[params['data_set']])\n",
    "x_train, y_train, x_valid, y_valid, x_test, y_test = load_func(params['data_dir'],flatten=True)\n",
    "\n",
    "if np.all(x_test)==None:\n",
    "    x_test=x_valid\n",
    "\n",
    "x_train = x_train/256.-0.5\n",
    "x_test  = x_test/256.-0.5\n",
    "x_valid = x_valid/256.-0.5"
   ]
  },
  {
   "cell_type": "code",
   "execution_count": 10,
   "metadata": {},
   "outputs": [],
   "source": [
    "generator_path   = os.path.join(params['module_dir'],'decoder')\n",
    "encoder_path     = os.path.join(params['module_dir'],'encoder')\n",
    "nvp_path         = os.path.join(params['module_dir'],'hybrid8_nepoch220')"
   ]
  },
  {
   "cell_type": "code",
   "execution_count": 11,
   "metadata": {},
   "outputs": [],
   "source": [
    "def get_likelihood(decoder,sigma):\n",
    "    \n",
    "    #sigma = np.repeat(np.expand_dims(sigma,0), params['batch_size'], 0) \n",
    "    def likelihood(z):\n",
    "        mean  = decoder({'z':z})['x']\n",
    "        \n",
    "        LL = tfd.MultivariateNormalDiag(loc=mean,scale_diag=sigma)\n",
    "        return tfd.Independent(LL)\n",
    "\n",
    "    return likelihood"
   ]
  },
  {
   "cell_type": "code",
   "execution_count": 12,
   "metadata": {},
   "outputs": [
    {
     "name": "stdout",
     "output_type": "stream",
     "text": [
      "(784,)\n",
      "WARNING:tensorflow:From /global/homes/v/vboehm/.conda/envs/tf22/lib/python3.8/site-packages/tensorflow/python/ops/resource_variable_ops.py:1813: calling BaseResourceVariable.__init__ (from tensorflow.python.ops.resource_variable_ops) with constraint is deprecated and will be removed in a future version.\n",
      "Instructions for updating:\n",
      "If using Keras pass *_constraint arguments to layers.\n"
     ]
    }
   ],
   "source": [
    "#z_fill        = tf.Variable(tf.zeros((params['batch_size'],params['latent_size']),tf.float32),trainable=False)\n",
    "\n",
    "sigma         = params['full_sigma']\n",
    "sigma         = tf.cast(sigma,tf.float32)\n",
    "print(sigma.shape)\n",
    "encoder       = hub.KerasLayer(encoder_path,trainable=False, signature_outputs_as_dict=True)\n",
    "decoder       = hub.KerasLayer(generator_path, trainable=False, signature_outputs_as_dict=True)\n",
    "nvp_funcs     = hub.KerasLayer(nvp_path, trainable=False, signature_outputs_as_dict=True)\n",
    "\n",
    "likelihood    = get_likelihood(decoder,np.repeat(np.expand_dims(sigma,0),16,axis=0))"
   ]
  },
  {
   "cell_type": "code",
   "execution_count": 13,
   "metadata": {},
   "outputs": [],
   "source": [
    "def build_container(z):\n",
    "    filler = np.zeros((params['batch_size'],len(z)))\n",
    "    filler[0] = z\n",
    "    return filler"
   ]
  },
  {
   "cell_type": "code",
   "execution_count": 14,
   "metadata": {
    "colab": {
     "base_uri": "https://localhost:8080/",
     "height": 160
    },
    "colab_type": "code",
    "id": "yvTEYw44O_5q",
    "outputId": "898dcdf7-f38f-4dae-a3aa-4f32a487f0ae"
   },
   "outputs": [],
   "source": [
    "def get_encoded(x):\n",
    "    return encoder({'x':x})['z']\n",
    "\n",
    "def get_decoded(z):\n",
    "    return decoder({'z':z})['x']\n",
    "\n",
    "def likelihood_eval(z,x,likelihood):\n",
    "    likelihood    = likelihood(z).log_prob(x)\n",
    "    return likelihood\n",
    "\n",
    "def prior_eval(z,nvp_funcs=nvp_funcs):\n",
    "    prior         = nvp_funcs({'z_sample':z,'sample_size':1, 'u_sample':np.zeros((1,params['latent_size']))})['log_prob']\n",
    "    return prior\n",
    "\n",
    "def posterior_eval(z,x,likelihood, nvp_funcs):\n",
    "    likelihood   = likelihood_eval(z,x,likelihood)\n",
    "    prior        = get_prior(params['latent_size'])\n",
    "    prior        = prior_eval(z, nvp_funcs)\n",
    "    logprob      = likelihood+prior\n",
    "    return logprob\n",
    "\n",
    "\n",
    "class LogP():\n",
    "    def __init__(self,x):\n",
    "        self.x = x\n",
    "        self.z_fill = tf.Variable(tf.zeros((params['batch_size'],params['latent_size']),tf.float32),trainable=False)\n",
    "\n",
    "#     def logp_grad(self,z):\n",
    "\n",
    "#         self.z_fill[0].assign(z)\n",
    "#         z_  = tf.convert_to_tensor(self.z_fill)\n",
    "\n",
    "#         with tf.GradientTape() as tape:\n",
    "#             tape.watch(z_)\n",
    "#             log_p         = posterior_eval(z_,LP.x,likelihood,nvp_funcs)\n",
    "\n",
    "#         grad = tape.gradient(log_p, [z_])[0]\n",
    "#         return log_p[0], grad[0]\n",
    "\n",
    "#     @tf.custom_gradient\n",
    "#     def logp(self,z):\n",
    "\n",
    "#         logp, grads = self.logp_grad(z)\n",
    "\n",
    "#         def grad(up,variables=None):\n",
    "\n",
    "#             grad_ = up*grads\n",
    "\n",
    "#             return grad_, [None for ii in range(len(variables))] \n",
    "\n",
    "#         return logp, grad\n",
    "    \n",
    "    \n",
    "    def logp_grad(self,z):\n",
    "\n",
    "        self.z_fill.assign(z)\n",
    "        z_  = tf.convert_to_tensor(self.z_fill)\n",
    "        \n",
    "        with tf.GradientTape() as tape:\n",
    "            tape.watch(z_)\n",
    "            log_p         = posterior_eval(z_,self.x,likelihood,nvp_funcs)\n",
    "        grad = tape.gradient(log_p, [z_])\n",
    "        #print(grad)\n",
    "        return log_p, grad[0]\n",
    "\n",
    "    @tf.custom_gradient\n",
    "    def logp(self,z):\n",
    "\n",
    "        logp, grads = self.logp_grad(z)\n",
    "\n",
    "        def grad(up,variables=None):\n",
    "            #print(up.shape)\n",
    "            grad_ = tf.expand_dims(up,-1)*grads\n",
    "\n",
    "            return grad_, [None for ii in range(len(variables))] \n",
    "\n",
    "        return logp, grad"
   ]
  },
  {
   "cell_type": "code",
   "execution_count": null,
   "metadata": {},
   "outputs": [],
   "source": []
  },
  {
   "cell_type": "code",
   "execution_count": 15,
   "metadata": {},
   "outputs": [],
   "source": [
    "x = np.repeat(x_test[0:1], 16, axis=0)\n",
    "LP = LogP(x)\n",
    "z_ini = get_encoded(x)[:,:10]"
   ]
  },
  {
   "cell_type": "code",
   "execution_count": null,
   "metadata": {},
   "outputs": [],
   "source": []
  },
  {
   "cell_type": "code",
   "execution_count": null,
   "metadata": {},
   "outputs": [],
   "source": [
    "y = LP.logp(z_ini)\n",
    "print(y)"
   ]
  },
  {
   "cell_type": "code",
   "execution_count": 30,
   "metadata": {},
   "outputs": [
    {
     "name": "stdout",
     "output_type": "stream",
     "text": [
      "tf.Tensor(\n",
      "[[ 104.02609    -70.99849     22.1591      50.654842    20.713633\n",
      "  -151.5986     -15.127488    -3.1477723  117.18769    -47.912624 ]\n",
      " [ 104.02609    -70.99849     22.1591      50.654842    20.713633\n",
      "  -151.5986     -15.127488    -3.1477723  117.18769    -47.912624 ]\n",
      " [ 104.02609    -70.99849     22.1591      50.654842    20.713633\n",
      "  -151.5986     -15.127488    -3.1477723  117.18769    -47.912624 ]\n",
      " [ 104.02609    -70.99849     22.1591      50.654842    20.713633\n",
      "  -151.5986     -15.127488    -3.1477723  117.18769    -47.912624 ]\n",
      " [ 104.02609    -70.99849     22.1591      50.654842    20.713633\n",
      "  -151.5986     -15.127488    -3.1477723  117.18769    -47.912624 ]\n",
      " [ 104.02609    -70.99849     22.1591      50.654842    20.713633\n",
      "  -151.5986     -15.127488    -3.1477723  117.18769    -47.912624 ]\n",
      " [ 104.02609    -70.99849     22.1591      50.654842    20.713633\n",
      "  -151.5986     -15.127488    -3.1477723  117.18769    -47.912624 ]\n",
      " [ 104.02609    -70.99849     22.1591      50.654842    20.713633\n",
      "  -151.5986     -15.127488    -3.1477723  117.18769    -47.912624 ]\n",
      " [ 104.02609    -70.99849     22.1591      50.654842    20.713633\n",
      "  -151.5986     -15.127488    -3.1477723  117.18769    -47.912624 ]\n",
      " [ 104.02609    -70.99849     22.1591      50.654842    20.713633\n",
      "  -151.5986     -15.127488    -3.1477723  117.18769    -47.912624 ]\n",
      " [ 104.02609    -70.99849     22.1591      50.654842    20.713633\n",
      "  -151.5986     -15.127488    -3.1477723  117.18769    -47.912624 ]\n",
      " [ 104.02609    -70.99849     22.1591      50.654842    20.713633\n",
      "  -151.5986     -15.127488    -3.1477723  117.18769    -47.912624 ]\n",
      " [ 104.02609    -70.99849     22.1591      50.654842    20.713633\n",
      "  -151.5986     -15.127488    -3.1477723  117.18769    -47.912624 ]\n",
      " [ 104.02609    -70.99849     22.1591      50.654842    20.713633\n",
      "  -151.5986     -15.127488    -3.1477723  117.18769    -47.912624 ]\n",
      " [ 104.02609    -70.99849     22.1591      50.654842    20.713633\n",
      "  -151.5986     -15.127488    -3.1477723  117.18769    -47.912624 ]\n",
      " [ 104.02609    -70.99849     22.1591      50.654842    20.713633\n",
      "  -151.5986     -15.127488    -3.1477723  117.18769    -47.912624 ]], shape=(16, 10), dtype=float32)\n"
     ]
    }
   ],
   "source": [
    "z_ = tf.constant(z_ini)\n",
    "with tf.GradientTape() as g:\n",
    "    g.watch(z_)\n",
    "    y = LP.logp(z_)\n",
    "grad = g.gradient(y, z_)\n",
    "print(grad)"
   ]
  },
  {
   "cell_type": "code",
   "execution_count": 19,
   "metadata": {},
   "outputs": [
    {
     "name": "stdout",
     "output_type": "stream",
     "text": [
      "WARNING:tensorflow:Calling GradientTape.gradient on a persistent tape inside its context is significantly less efficient than calling it outside the context (it causes the gradient ops to be recorded on the tape, leading to increased CPU and memory usage). Only call GradientTape.gradient inside the context if you actually want to trace the gradient in order to compute higher order derivatives.\n",
      "WARNING:tensorflow:From /global/homes/v/vboehm/.conda/envs/tf22/lib/python3.8/site-packages/tensorflow/python/ops/array_grad.py:644: _EagerTensorBase.cpu (from tensorflow.python.framework.ops) is deprecated and will be removed in a future version.\n",
      "Instructions for updating:\n",
      "Use tf.identity instead.\n"
     ]
    }
   ],
   "source": [
    "LP = LogP(x_test[0:16])\n",
    "z_ = tf.constant(z_ini)\n",
    "\n",
    "# with tf.GradientTape() as g:\n",
    "#     g.watch(z_)\n",
    "#     with tf.GradientTape() as h:\n",
    "#         h.watch(z_)\n",
    "#     y    = LP.logp(z_)\n",
    "#     grad = g.gradient(y, z_)\n",
    "# hess = h.gradient(grad, z_)\n",
    "\n",
    "\n",
    "with tf.GradientTape(persistent=True) as t1:\n",
    "    t1.watch(z_)\n",
    "    y    = posterior_eval(z_,LP.x,likelihood,nvp_funcs)[0]\n",
    "    g    = t1.gradient(y, z_)\n",
    "h = t1.jacobian(g, z_, experimental_use_pfor=False)[0,:,0,:]\n"
   ]
  },
  {
   "cell_type": "markdown",
   "metadata": {},
   "source": [
    "### Minimize -logp, starting from encoded value"
   ]
  },
  {
   "cell_type": "code",
   "execution_count": 35,
   "metadata": {},
   "outputs": [],
   "source": [
    "z_starts = np.random.randn(20,10).reshape((20,10)).astype(np.float32)"
   ]
  },
  {
   "cell_type": "code",
   "execution_count": 31,
   "metadata": {},
   "outputs": [],
   "source": []
  },
  {
   "cell_type": "code",
   "execution_count": null,
   "metadata": {},
   "outputs": [],
   "source": [
    "optimizer  = tf.keras.optimizers.Adam(learning_rate=0.01)\n",
    "z_res      = []\n",
    "final_loss = []\n",
    "losses     = []\n",
    "hessians   = []\n",
    "for ii in range(len(z_starts)):\n",
    "    z_var     = tf.Variable(z_starts[ii])\n",
    "    for iteration in tqdm(range(300)):\n",
    "        optimizer.minimize(lambda: -LP.logp(z_var), var_list=[z_var])\n",
    "        loss  = -LP.logp(z_var)\n",
    "    #     grads = logp_grad(z,negative=True)\n",
    "    #    loss  = logp(z,negative=True)\n",
    "    #     optimizer.apply_gradients(zip(grads, [z_var]))\n",
    "        losses.append(loss)\n",
    "    z_ = tf.constant(z_ini)\n",
    "\n",
    "# with tf.GradientTape() as g:\n",
    "#     g.watch(z_)\n",
    "#     with tf.GradientTape() as h:\n",
    "#         h.watch(z_)\n",
    "#     y    = LP.logp(z_)\n",
    "#     grad = g.gradient(y, z_)\n",
    "# hess = h.gradient(grad, z_)\n",
    "\n",
    "    z_min = tf.convert_to_tensor(z_var)\n",
    "    z_    = build_container(z_min)\n",
    "    z_    = tf.convert_to_tensor(z_)\n",
    "    with tf.GradientTape(persistent=True) as t1:\n",
    "        t1.watch(z_)\n",
    "        y    = posterior_eval(z_,LP.x,likelihood,nvp_funcs)[0]\n",
    "        g    = t1.gradient(y, z_)\n",
    "    h = t1.jacobian(g, z_, experimental_use_pfor=False)[0,:,0,:]\n",
    "    print(loss, z_var)\n",
    "    final_loss.append(loss)\n",
    "    hessians.append(h)\n",
    "    \n",
    "    z_res.append(z_min)\n",
    "losses = np.asarray(losses).reshape((20,-1))"
   ]
  },
  {
   "cell_type": "code",
   "execution_count": 25,
   "metadata": {},
   "outputs": [
    {
     "data": {
      "text/plain": [
       "(1.0, 63.73190675361856)"
      ]
     },
     "execution_count": 25,
     "metadata": {},
     "output_type": "execute_result"
    }
   ],
   "source": []
  },
  {
   "cell_type": "code",
   "execution_count": 49,
   "metadata": {},
   "outputs": [],
   "source": [
    "real_minimas=[]\n",
    "for ii in range(len(hessians)):\n",
    "    eigs = np.linalg.eigvalsh(hessians[ii])\n",
    "    if np.all(eigs<0):\n",
    "        real_minimas.append(ii)"
   ]
  },
  {
   "cell_type": "code",
   "execution_count": 54,
   "metadata": {},
   "outputs": [
    {
     "name": "stdout",
     "output_type": "stream",
     "text": [
      "[ 0  1  2  4  5  6  7  8 10 11 12 13 15 16 17 18 19]\n"
     ]
    }
   ],
   "source": [
    "real_minimas = np.asarray(real_minimas, dtype=int)\n",
    "print(real_minimas)"
   ]
  },
  {
   "cell_type": "code",
   "execution_count": 77,
   "metadata": {},
   "outputs": [],
   "source": [
    "order = np.argsort(np.asarray(final_loss)[real_minimas])"
   ]
  },
  {
   "cell_type": "code",
   "execution_count": 60,
   "metadata": {},
   "outputs": [
    {
     "data": {
      "text/plain": [
       "[<matplotlib.lines.Line2D at 0x2aafc688f220>]"
      ]
     },
     "execution_count": 60,
     "metadata": {},
     "output_type": "execute_result"
    },
    {
     "data": {
      "image/png": "[encoded data removed]",
      "text/plain": [
       "<Figure size 432x288 with 1 Axes>"
      ]
     },
     "metadata": {
      "needs_background": "light"
     },
     "output_type": "display_data"
    }
   ],
   "source": [
    "plt.plot(np.sort(np.asarray(final_loss)[:]),ls='', marker='o')"
   ]
  },
  {
   "cell_type": "code",
   "execution_count": 80,
   "metadata": {},
   "outputs": [
    {
     "data": {
      "text/plain": [
       "Text(0, 0.5, 'position of minimum')"
      ]
     },
     "execution_count": 80,
     "metadata": {},
     "output_type": "execute_result"
    },
    {
     "data": {
      "image/png": "[encoded data removed]",
      "text/plain": [
       "<Figure size 432x288 with 1 Axes>"
      ]
     },
     "metadata": {
      "needs_background": "light"
     },
     "output_type": "display_data"
    }
   ],
   "source": [
    "col = plt.cm.jet(np.linspace(0,1,len(order)))\n",
    "for ii in range(len(real_minimas[order])):\n",
    "    plt.scatter(np.arange(10),np.asarray(z_res)[real_minimas[order]][ii], label='-logp=%.1f'%np.asarray(final_loss)[real_minimas[order]][ii], color=col[ii]) \n",
    "plt.legend(loc=(1.01,0.01), ncol=2)\n",
    "plt.xlabel('latent space direction')\n",
    "plt.ylabel('position of minimum')"
   ]
  },
  {
   "cell_type": "code",
   "execution_count": 211,
   "metadata": {},
   "outputs": [
    {
     "name": "stderr",
     "output_type": "stream",
     "text": [
      "100%|██████████| 300/300 [00:52<00:00,  5.71it/s]\n"
     ]
    }
   ],
   "source": [
    "optimizer = tf.keras.optimizers.Adam(learning_rate=0.01)\n",
    "\n",
    "\n",
    "z_var     = tf.Variable(z_ini)\n",
    "losses    = []\n",
    "for iteration in tqdm(range(300)):\n",
    "    optimizer.minimize(lambda: -LP.logp(z_var), var_list=[z_var])\n",
    "    loss  = -LP.logp(z_var)\n",
    "#     grads = logp_grad(z,negative=True)\n",
    "#     loss  = logp(z,negative=True)\n",
    "#     optimizer.apply_gradients(zip(grads, [z_var]))   \n",
    "    losses.append(loss)\n",
    "z_min = tf.convert_to_tensor(z_var)"
   ]
  },
  {
   "cell_type": "code",
   "execution_count": 212,
   "metadata": {},
   "outputs": [
    {
     "name": "stdout",
     "output_type": "stream",
     "text": [
      "tf.Tensor(\n",
      "[[ 2.0311289e-03  1.0710145e+00 -1.5777866e+00  1.6347133e+00\n",
      "   1.0667417e+00 -1.0119954e+00 -6.0431015e-01  7.3335701e-01\n",
      "  -1.3446429e+00 -2.6850467e+00]\n",
      " [ 2.0311289e-03  1.0710145e+00 -1.5777866e+00  1.6347133e+00\n",
      "   1.0667417e+00 -1.0119954e+00 -6.0431015e-01  7.3335701e-01\n",
      "  -1.3446429e+00 -2.6850467e+00]\n",
      " [ 2.0311289e-03  1.0710145e+00 -1.5777866e+00  1.6347133e+00\n",
      "   1.0667417e+00 -1.0119954e+00 -6.0431015e-01  7.3335701e-01\n",
      "  -1.3446429e+00 -2.6850467e+00]\n",
      " [ 2.0311289e-03  1.0710145e+00 -1.5777866e+00  1.6347133e+00\n",
      "   1.0667417e+00 -1.0119954e+00 -6.0431015e-01  7.3335701e-01\n",
      "  -1.3446429e+00 -2.6850467e+00]\n",
      " [ 2.0311289e-03  1.0710145e+00 -1.5777866e+00  1.6347133e+00\n",
      "   1.0667417e+00 -1.0119954e+00 -6.0431015e-01  7.3335701e-01\n",
      "  -1.3446429e+00 -2.6850467e+00]\n",
      " [ 2.0311289e-03  1.0710145e+00 -1.5777866e+00  1.6347133e+00\n",
      "   1.0667417e+00 -1.0119954e+00 -6.0431015e-01  7.3335701e-01\n",
      "  -1.3446429e+00 -2.6850467e+00]\n",
      " [ 2.0311289e-03  1.0710145e+00 -1.5777866e+00  1.6347133e+00\n",
      "   1.0667417e+00 -1.0119954e+00 -6.0431015e-01  7.3335701e-01\n",
      "  -1.3446429e+00 -2.6850467e+00]\n",
      " [ 2.0311289e-03  1.0710145e+00 -1.5777866e+00  1.6347133e+00\n",
      "   1.0667417e+00 -1.0119954e+00 -6.0431015e-01  7.3335701e-01\n",
      "  -1.3446429e+00 -2.6850467e+00]\n",
      " [ 2.0311289e-03  1.0710145e+00 -1.5777866e+00  1.6347133e+00\n",
      "   1.0667417e+00 -1.0119954e+00 -6.0431015e-01  7.3335701e-01\n",
      "  -1.3446429e+00 -2.6850467e+00]\n",
      " [ 2.0311289e-03  1.0710145e+00 -1.5777866e+00  1.6347133e+00\n",
      "   1.0667417e+00 -1.0119954e+00 -6.0431015e-01  7.3335701e-01\n",
      "  -1.3446429e+00 -2.6850467e+00]\n",
      " [ 2.0311289e-03  1.0710145e+00 -1.5777866e+00  1.6347133e+00\n",
      "   1.0667417e+00 -1.0119954e+00 -6.0431015e-01  7.3335701e-01\n",
      "  -1.3446429e+00 -2.6850467e+00]\n",
      " [ 2.0311289e-03  1.0710145e+00 -1.5777866e+00  1.6347133e+00\n",
      "   1.0667417e+00 -1.0119954e+00 -6.0431015e-01  7.3335701e-01\n",
      "  -1.3446429e+00 -2.6850467e+00]\n",
      " [ 2.0311289e-03  1.0710145e+00 -1.5777866e+00  1.6347133e+00\n",
      "   1.0667417e+00 -1.0119954e+00 -6.0431015e-01  7.3335701e-01\n",
      "  -1.3446429e+00 -2.6850467e+00]\n",
      " [ 2.0311289e-03  1.0710145e+00 -1.5777866e+00  1.6347133e+00\n",
      "   1.0667417e+00 -1.0119954e+00 -6.0431015e-01  7.3335701e-01\n",
      "  -1.3446429e+00 -2.6850467e+00]\n",
      " [ 2.0311289e-03  1.0710145e+00 -1.5777866e+00  1.6347133e+00\n",
      "   1.0667417e+00 -1.0119954e+00 -6.0431015e-01  7.3335701e-01\n",
      "  -1.3446429e+00 -2.6850467e+00]\n",
      " [ 2.0311289e-03  1.0710145e+00 -1.5777866e+00  1.6347133e+00\n",
      "   1.0667417e+00 -1.0119954e+00 -6.0431015e-01  7.3335701e-01\n",
      "  -1.3446429e+00 -2.6850467e+00]], shape=(16, 10), dtype=float32)\n"
     ]
    }
   ],
   "source": [
    "print(z_min)"
   ]
  },
  {
   "cell_type": "code",
   "execution_count": 213,
   "metadata": {},
   "outputs": [
    {
     "data": {
      "text/plain": [
       "[<matplotlib.lines.Line2D at 0x2aafc9ebcb80>,\n",
       " <matplotlib.lines.Line2D at 0x2aafc9ebcca0>,\n",
       " <matplotlib.lines.Line2D at 0x2aafc9ebce20>,\n",
       " <matplotlib.lines.Line2D at 0x2aafc9ebcee0>,\n",
       " <matplotlib.lines.Line2D at 0x2aafc9ebcfa0>,\n",
       " <matplotlib.lines.Line2D at 0x2aafc68650a0>,\n",
       " <matplotlib.lines.Line2D at 0x2aafc6865160>,\n",
       " <matplotlib.lines.Line2D at 0x2aafc6865220>,\n",
       " <matplotlib.lines.Line2D at 0x2aafc68652e0>,\n",
       " <matplotlib.lines.Line2D at 0x2aafc68653a0>,\n",
       " <matplotlib.lines.Line2D at 0x2aafc99c7a90>,\n",
       " <matplotlib.lines.Line2D at 0x2aafc68654c0>,\n",
       " <matplotlib.lines.Line2D at 0x2aafc68655b0>,\n",
       " <matplotlib.lines.Line2D at 0x2aafc6865670>,\n",
       " <matplotlib.lines.Line2D at 0x2aafc6865730>,\n",
       " <matplotlib.lines.Line2D at 0x2aafc68657f0>]"
      ]
     },
     "execution_count": 213,
     "metadata": {},
     "output_type": "execute_result"
    },
    {
     "name": "stderr",
     "output_type": "stream",
     "text": [
      "findfont: Font family ['lmodern'] not found. Falling back to DejaVu Sans.\n"
     ]
    },
    {
     "data": {
      "image/png": "[encoded data removed]",
      "text/plain": [
       "<Figure size 432x288 with 1 Axes>"
      ]
     },
     "metadata": {
      "needs_background": "light"
     },
     "output_type": "display_data"
    }
   ],
   "source": [
    "losses = np.asarray(losses)\n",
    "plt.plot(losses)"
   ]
  },
  {
   "cell_type": "code",
   "execution_count": 84,
   "metadata": {},
   "outputs": [],
   "source": []
  },
  {
   "cell_type": "code",
   "execution_count": 43,
   "metadata": {},
   "outputs": [
    {
     "ename": "NameError",
     "evalue": "name 'z_min' is not defined",
     "output_type": "error",
     "traceback": [
      "\u001b[0;31m---------------------------------------------------------------------------\u001b[0m",
      "\u001b[0;31mNameError\u001b[0m                                 Traceback (most recent call last)",
      "\u001b[0;32m<ipython-input-43-925a3efcd685>\u001b[0m in \u001b[0;36m<module>\u001b[0;34m\u001b[0m\n\u001b[0;32m----> 1\u001b[0;31m \u001b[0mx_esti\u001b[0m \u001b[0;34m=\u001b[0m \u001b[0mnp\u001b[0m\u001b[0;34m.\u001b[0m\u001b[0mreshape\u001b[0m\u001b[0;34m(\u001b[0m\u001b[0mget_decoded\u001b[0m\u001b[0;34m(\u001b[0m\u001b[0mz_min\u001b[0m\u001b[0;34m)\u001b[0m\u001b[0;34m[\u001b[0m\u001b[0;36m0\u001b[0m\u001b[0;34m]\u001b[0m\u001b[0;34m,\u001b[0m \u001b[0;34m(\u001b[0m\u001b[0;36m28\u001b[0m\u001b[0;34m,\u001b[0m\u001b[0;36m28\u001b[0m\u001b[0;34m)\u001b[0m\u001b[0;34m)\u001b[0m\u001b[0;34m\u001b[0m\u001b[0;34m\u001b[0m\u001b[0m\n\u001b[0m\u001b[1;32m      2\u001b[0m \u001b[0mx_ini\u001b[0m  \u001b[0;34m=\u001b[0m \u001b[0mnp\u001b[0m\u001b[0;34m.\u001b[0m\u001b[0mreshape\u001b[0m\u001b[0;34m(\u001b[0m\u001b[0mget_decoded\u001b[0m\u001b[0;34m(\u001b[0m\u001b[0mz_ini\u001b[0m\u001b[0;34m)\u001b[0m\u001b[0;34m[\u001b[0m\u001b[0;36m0\u001b[0m\u001b[0;34m]\u001b[0m\u001b[0;34m,\u001b[0m \u001b[0;34m(\u001b[0m\u001b[0;36m28\u001b[0m\u001b[0;34m,\u001b[0m\u001b[0;36m28\u001b[0m\u001b[0;34m)\u001b[0m\u001b[0;34m)\u001b[0m\u001b[0;34m\u001b[0m\u001b[0;34m\u001b[0m\u001b[0m\n",
      "\u001b[0;31mNameError\u001b[0m: name 'z_min' is not defined"
     ]
    }
   ],
   "source": [
    "x_esti = np.reshape(get_decoded(z_min)[0], (28,28))\n",
    "x_ini  = np.reshape(get_decoded(z_ini)[0], (28,28))"
   ]
  },
  {
   "cell_type": "code",
   "execution_count": 220,
   "metadata": {
    "colab": {},
    "colab_type": "code",
    "id": "Tts2_qqiZLUR"
   },
   "outputs": [
    {
     "data": {
      "image/png": "[encoded data removed]",
      "text/plain": [
       "<Figure size 432x288 with 1 Axes>"
      ]
     },
     "metadata": {
      "needs_background": "light"
     },
     "output_type": "display_data"
    },
    {
     "data": {
      "image/png": "[encoded data removed]",
      "text/plain": [
       "<Figure size 432x288 with 1 Axes>"
      ]
     },
     "metadata": {
      "needs_background": "light"
     },
     "output_type": "display_data"
    },
    {
     "data": {
      "image/png": "[encoded data removed]",
      "text/plain": [
       "<Figure size 432x288 with 1 Axes>"
      ]
     },
     "metadata": {
      "needs_background": "light"
     },
     "output_type": "display_data"
    },
    {
     "data": {
      "image/png": "[encoded data removed]",
      "text/plain": [
       "<Figure size 432x288 with 1 Axes>"
      ]
     },
     "metadata": {
      "needs_background": "light"
     },
     "output_type": "display_data"
    },
    {
     "data": {
      "image/png": "[encoded data removed]",
      "text/plain": [
       "<Figure size 432x288 with 1 Axes>"
      ]
     },
     "metadata": {
      "needs_background": "light"
     },
     "output_type": "display_data"
    },
    {
     "data": {
      "image/png": "[encoded data removed]",
      "text/plain": [
       "<Figure size 432x288 with 1 Axes>"
      ]
     },
     "metadata": {
      "needs_background": "light"
     },
     "output_type": "display_data"
    },
    {
     "name": "stdout",
     "output_type": "stream",
     "text": [
      "summed square error after and before optimization\n",
      "1.7750435 1.932348\n"
     ]
    }
   ],
   "source": [
    "plt.title('best estimate')\n",
    "plt.imshow(np.reshape(x_esti, (28,28)))\n",
    "plt.axis('off')\n",
    "plt.show()\n",
    "plt.title('encoded')\n",
    "plt.imshow(np.reshape(x_ini,(28,28)))\n",
    "plt.axis('off')\n",
    "plt.show()\n",
    "plt.title('truth')\n",
    "plt.imshow(x_test[0].reshape(28,28))\n",
    "plt.axis('off')\n",
    "plt.show()\n",
    "plt.title('truth-best estimate')\n",
    "plt.imshow(x_test[0].reshape(28,28)-x_esti.reshape(28,28))\n",
    "plt.axis('off')\n",
    "plt.show()\n",
    "plt.title('truth-encoded')\n",
    "plt.imshow(x_test[0].reshape(28,28)-x_ini.reshape(28,28))\n",
    "plt.axis('off')\n",
    "plt.show()\n",
    "plt.title('encoded-best estimate')\n",
    "plt.imshow(x_ini.reshape(28,28)-x_esti.reshape(28,28))\n",
    "plt.axis('off')\n",
    "plt.show()\n",
    "print('summed square error after and before optimization')\n",
    "print(np.sum((x_test[0].reshape(28,28)-x_esti.reshape(28,28))**2),np.sum((x_test[0].reshape(28,28)-x_ini.reshape(28,28))**2))"
   ]
  },
  {
   "cell_type": "code",
   "execution_count": 223,
   "metadata": {},
   "outputs": [
    {
     "data": {
      "text/plain": [
       "625.0"
      ]
     },
     "execution_count": 223,
     "metadata": {},
     "output_type": "execute_result"
    }
   ],
   "source": [
    "# todo: run 16 chains at a time?\n",
    "(10000/16)\n"
   ]
  },
  {
   "cell_type": "code",
   "execution_count": 31,
   "metadata": {},
   "outputs": [],
   "source": [
    "import time"
   ]
  },
  {
   "cell_type": "code",
   "execution_count": 16,
   "metadata": {},
   "outputs": [],
   "source": [
    "# Initialize the HMC transition kernel.\n",
    "num_results = int(625)\n",
    "\n",
    "\n",
    "def get_kernel(ii,num_burnin_steps, num_lp_steps):\n",
    "    x     = np.repeat(x_test[ii:ii+1], 16, axis=0)\n",
    "    LP    = LogP(x)\n",
    "    z_ini = get_encoded(x)[:,:10]\n",
    "    adaptive_hmc = tfp.mcmc.DualAveragingStepSizeAdaptation(\n",
    "        tfp.mcmc.HamiltonianMonteCarlo(\n",
    "            target_log_prob_fn=LP.logp,\n",
    "            num_leapfrog_steps=num_lp_steps,\n",
    "            step_size=1.0),\n",
    "        num_adaptation_steps=int(num_burnin_steps * 0.8))\n",
    "    return adaptive_hmc, z_ini, LP\n",
    "\n",
    "# Run the chain (with burn-in).\n",
    "@tf.function\n",
    "def run_chain(adapative_hmc, z_ini, num_burnin_steps):\n",
    "  # Run the chain (with burn-in).\n",
    "    samples, is_accepted = tfp.mcmc.sample_chain(\n",
    "      num_results      = num_results,\n",
    "      num_burnin_steps = num_burnin_steps,\n",
    "      current_state    = z_ini,\n",
    "      kernel           = adaptive_hmc,\n",
    "      trace_fn         = lambda _, pkr: pkr.inner_results.is_accepted)\n",
    "\n",
    "    return samples[::2,:,:]\n",
    "\n"
   ]
  },
  {
   "cell_type": "code",
   "execution_count": 20,
   "metadata": {},
   "outputs": [
    {
     "data": {
      "image/png": "[encoded data removed]",
      "text/plain": [
       "<Figure size 432x288 with 1 Axes>"
      ]
     },
     "metadata": {
      "needs_background": "light"
     },
     "output_type": "display_data"
    },
    {
     "name": "stdout",
     "output_type": "stream",
     "text": [
      "time: 0.5250736204783122\n"
     ]
    }
   ],
   "source": [
    "begin = time.time()\n",
    "ii=1\n",
    "for jj, burnin in enumerate([500]):\n",
    "    for nn, numsteps in enumerate([3]):\n",
    "        adaptive_hmc, z_ini, LP = get_kernel(ii,burnin,numsteps)\n",
    "        samples             = run_chain(adaptive_hmc, z_ini,burnin)\n",
    "        samples             = np.squeeze(samples.numpy().reshape(-1,params['latent_size']))\n",
    "        logps               = np.zeros(len(samples))\n",
    "        for kk in range(len(samples)//params['batch_size']):\n",
    "            logps[kk*params['batch_size']:(kk+1)*params['batch_size']] = LP.logp(samples[kk*params['batch_size']:(kk+1)*params['batch_size']])\n",
    "        np.save(os.path.join('/global/cscratch1/sd/vboehm/PAE_samples','HMC_MNIST_test%d_latent_dim%d_burnin%d_leapfrog%d.npy'%(ii, params['latent_size'],burnin,numsteps)),[[logps],samples])\n",
    "        x_mean              = np.reshape(get_decoded(build_container(samples.mean(axis=0)))[0], (28,28))\n",
    "        plt.title('mean')\n",
    "        plt.imshow(x_mean.reshape(28,28))\n",
    "        plt.axis('off')\n",
    "        plt.show()\n",
    "end                 = time.time()-begin\n",
    "print('time:', end/60/10)"
   ]
  },
  {
   "cell_type": "code",
   "execution_count": 18,
   "metadata": {},
   "outputs": [
    {
     "name": "stdout",
     "output_type": "stream",
     "text": [
      "480.6331675052643\n"
     ]
    }
   ],
   "source": [
    "print(end)"
   ]
  },
  {
   "cell_type": "code",
   "execution_count": 19,
   "metadata": {},
   "outputs": [],
   "source": [
    "a, samples = np.load(os.path.join('/global/cscratch1/sd/vboehm/PAE_samples','HMC_MNIST_test%d_latent_dim%d.npy'%(1, params['latent_size'])),allow_pickle=True)"
   ]
  },
  {
   "cell_type": "code",
   "execution_count": 21,
   "metadata": {},
   "outputs": [
    {
     "name": "stdout",
     "output_type": "stream",
     "text": [
      "(2504, 10)\n",
      "(2504, 10)\n",
      "(2504, 10)\n",
      "(2504, 10)\n",
      "(2504, 10)\n",
      "(2504, 10)\n",
      "(2504, 10)\n",
      "(2504, 10)\n",
      "(5008, 10)\n",
      "(5008, 10)\n"
     ]
    }
   ],
   "source": [
    "ii = 1\n",
    "stds  = np.zeros((5,2,10))\n",
    "means = np.zeros((5,2,10))\n",
    "for jj, burnin in enumerate([10,30,50,100,500]):\n",
    "    for nn, numsteps in enumerate([3,5]):\n",
    "        _, samples = np.load(os.path.join('/global/cscratch1/sd/vboehm/PAE_samples','HMC_MNIST_test%d_latent_dim%d_burnin%d_leapfrog%d.npy'%(ii, params['latent_size'],burnin,numsteps)),allow_pickle=True)\n",
    "        print(samples.shape)\n",
    "        stds[jj,nn] = np.std(samples,axis=0)\n",
    "        means[jj,nn] = np.mean(samples,axis=0)"
   ]
  },
  {
   "cell_type": "code",
   "execution_count": 23,
   "metadata": {},
   "outputs": [
    {
     "data": {
      "image/png": "[encoded data removed]",
      "text/plain": [
       "<Figure size 432x288 with 1 Axes>"
      ]
     },
     "metadata": {
      "needs_background": "light"
     },
     "output_type": "display_data"
    },
    {
     "data": {
      "text/plain": [
       "<matplotlib.legend.Legend at 0x2aafc47af100>"
      ]
     },
     "execution_count": 23,
     "metadata": {},
     "output_type": "execute_result"
    },
    {
     "data": {
      "image/png": "[encoded data removed]",
      "text/plain": [
       "<Figure size 432x288 with 1 Axes>"
      ]
     },
     "metadata": {
      "needs_background": "light"
     },
     "output_type": "display_data"
    }
   ],
   "source": [
    "for jj, burnin in enumerate([10,30,50,100,500]):\n",
    "    p = plt.plot(stds[jj,0,:], ls='', marker='o', label='burnin %d'%burnin)\n",
    "    plt.plot(stds[jj,1,:], ls='', label='5 leapfrogs', marker='+',color=p[0].get_color())\n",
    "plt.legend(ncol=2,loc=(1.01,0.5))\n",
    "plt.show()\n",
    "for jj, burnin in enumerate([10,30,50,100,500]):\n",
    "    p = plt.plot(means[jj,0,:], ls='', marker='o', label='burnin %d'%burnin)\n",
    "    plt.plot(means[jj,1,:], ls='', label='5 leapfrogs', marker='+',color=p[0].get_color())\n",
    "plt.legend(ncol=2,loc=(1.01,0.5))"
   ]
  },
  {
   "cell_type": "code",
   "execution_count": 53,
   "metadata": {},
   "outputs": [
    {
     "data": {
      "text/plain": [
       "\u001b[0;31mSignature:\u001b[0m \u001b[0mplt\u001b[0m\u001b[0;34m.\u001b[0m\u001b[0mlegend\u001b[0m\u001b[0;34m(\u001b[0m\u001b[0;34m*\u001b[0m\u001b[0margs\u001b[0m\u001b[0;34m,\u001b[0m \u001b[0;34m**\u001b[0m\u001b[0mkwargs\u001b[0m\u001b[0;34m)\u001b[0m\u001b[0;34m\u001b[0m\u001b[0;34m\u001b[0m\u001b[0m\n",
       "\u001b[0;31mDocstring:\u001b[0m\n",
       "Place a legend on the axes.\n",
       "\n",
       "Call signatures::\n",
       "\n",
       "    legend()\n",
       "    legend(labels)\n",
       "    legend(handles, labels)\n",
       "\n",
       "The call signatures correspond to three different ways how to use\n",
       "this method.\n",
       "\n",
       "**1. Automatic detection of elements to be shown in the legend**\n",
       "\n",
       "The elements to be added to the legend are automatically determined,\n",
       "when you do not pass in any extra arguments.\n",
       "\n",
       "In this case, the labels are taken from the artist. You can specify\n",
       "them either at artist creation or by calling the\n",
       ":meth:`~.Artist.set_label` method on the artist::\n",
       "\n",
       "    line, = ax.plot([1, 2, 3], label='Inline label')\n",
       "    ax.legend()\n",
       "\n",
       "or::\n",
       "\n",
       "    line, = ax.plot([1, 2, 3])\n",
       "    line.set_label('Label via method')\n",
       "    ax.legend()\n",
       "\n",
       "Specific lines can be excluded from the automatic legend element\n",
       "selection by defining a label starting with an underscore.\n",
       "This is default for all artists, so calling `Axes.legend` without\n",
       "any arguments and without setting the labels manually will result in\n",
       "no legend being drawn.\n",
       "\n",
       "\n",
       "**2. Labeling existing plot elements**\n",
       "\n",
       "To make a legend for lines which already exist on the axes\n",
       "(via plot for instance), simply call this function with an iterable\n",
       "of strings, one for each legend item. For example::\n",
       "\n",
       "    ax.plot([1, 2, 3])\n",
       "    ax.legend(['A simple line'])\n",
       "\n",
       "Note: This way of using is discouraged, because the relation between\n",
       "plot elements and labels is only implicit by their order and can\n",
       "easily be mixed up.\n",
       "\n",
       "\n",
       "**3. Explicitly defining the elements in the legend**\n",
       "\n",
       "For full control of which artists have a legend entry, it is possible\n",
       "to pass an iterable of legend artists followed by an iterable of\n",
       "legend labels respectively::\n",
       "\n",
       "    legend((line1, line2, line3), ('label1', 'label2', 'label3'))\n",
       "\n",
       "Parameters\n",
       "----------\n",
       "\n",
       "handles : sequence of `.Artist`, optional\n",
       "    A list of Artists (lines, patches) to be added to the legend.\n",
       "    Use this together with *labels*, if you need full control on what\n",
       "    is shown in the legend and the automatic mechanism described above\n",
       "    is not sufficient.\n",
       "\n",
       "    The length of handles and labels should be the same in this\n",
       "    case. If they are not, they are truncated to the smaller length.\n",
       "\n",
       "labels : sequence of strings, optional\n",
       "    A list of labels to show next to the artists.\n",
       "    Use this together with *handles*, if you need full control on what\n",
       "    is shown in the legend and the automatic mechanism described above\n",
       "    is not sufficient.\n",
       "\n",
       "Other Parameters\n",
       "----------------\n",
       "\n",
       "\n",
       "loc : str or pair of floats, default: :rc:`legend.loc` ('best' for axes, 'upper right' for figures)\n",
       "    The location of the legend.\n",
       "\n",
       "    The strings\n",
       "    ``'upper left', 'upper right', 'lower left', 'lower right'``\n",
       "    place the legend at the corresponding corner of the axes/figure.\n",
       "\n",
       "    The strings\n",
       "    ``'upper center', 'lower center', 'center left', 'center right'``\n",
       "    place the legend at the center of the corresponding edge of the\n",
       "    axes/figure.\n",
       "\n",
       "    The string ``'center'`` places the legend at the center of the axes/figure.\n",
       "\n",
       "    The string ``'best'`` places the legend at the location, among the nine\n",
       "    locations defined so far, with the minimum overlap with other drawn\n",
       "    artists.  This option can be quite slow for plots with large amounts of\n",
       "    data; your plotting speed may benefit from providing a specific location.\n",
       "\n",
       "    The location can also be a 2-tuple giving the coordinates of the lower-left\n",
       "    corner of the legend in axes coordinates (in which case *bbox_to_anchor*\n",
       "    will be ignored).\n",
       "\n",
       "    For back-compatibility, ``'center right'`` (but no other location) can also\n",
       "    be spelled ``'right'``, and each \"string\" locations can also be given as a\n",
       "    numeric value:\n",
       "\n",
       "        ===============   =============\n",
       "        Location String   Location Code\n",
       "        ===============   =============\n",
       "        'best'            0\n",
       "        'upper right'     1\n",
       "        'upper left'      2\n",
       "        'lower left'      3\n",
       "        'lower right'     4\n",
       "        'right'           5\n",
       "        'center left'     6\n",
       "        'center right'    7\n",
       "        'lower center'    8\n",
       "        'upper center'    9\n",
       "        'center'          10\n",
       "        ===============   =============\n",
       "\n",
       "bbox_to_anchor : `.BboxBase`, 2-tuple, or 4-tuple of floats\n",
       "    Box that is used to position the legend in conjunction with *loc*.\n",
       "    Defaults to `axes.bbox` (if called as a method to `.Axes.legend`) or\n",
       "    `figure.bbox` (if `.Figure.legend`).  This argument allows arbitrary\n",
       "    placement of the legend.\n",
       "\n",
       "    Bbox coordinates are interpreted in the coordinate system given by\n",
       "    `bbox_transform`, with the default transform\n",
       "    Axes or Figure coordinates, depending on which ``legend`` is called.\n",
       "\n",
       "    If a 4-tuple or `.BboxBase` is given, then it specifies the bbox\n",
       "    ``(x, y, width, height)`` that the legend is placed in.\n",
       "    To put the legend in the best location in the bottom right\n",
       "    quadrant of the axes (or figure)::\n",
       "\n",
       "        loc='best', bbox_to_anchor=(0.5, 0., 0.5, 0.5)\n",
       "\n",
       "    A 2-tuple ``(x, y)`` places the corner of the legend specified by *loc* at\n",
       "    x, y.  For example, to put the legend's upper right-hand corner in the\n",
       "    center of the axes (or figure) the following keywords can be used::\n",
       "\n",
       "        loc='upper right', bbox_to_anchor=(0.5, 0.5)\n",
       "\n",
       "ncol : integer\n",
       "    The number of columns that the legend has. Default is 1.\n",
       "\n",
       "prop : None or :class:`matplotlib.font_manager.FontProperties` or dict\n",
       "    The font properties of the legend. If None (default), the current\n",
       "    :data:`matplotlib.rcParams` will be used.\n",
       "\n",
       "fontsize : int or float or {'xx-small', 'x-small', 'small', 'medium', 'large', 'x-large', 'xx-large'}\n",
       "    Controls the font size of the legend. If the value is numeric the\n",
       "    size will be the absolute font size in points. String values are\n",
       "    relative to the current default font size. This argument is only\n",
       "    used if `prop` is not specified.\n",
       "\n",
       "numpoints : None or int\n",
       "    The number of marker points in the legend when creating a legend\n",
       "    entry for a `.Line2D` (line).\n",
       "    Default is ``None``, which will take the value from\n",
       "    :rc:`legend.numpoints`.\n",
       "\n",
       "scatterpoints : None or int\n",
       "    The number of marker points in the legend when creating\n",
       "    a legend entry for a `.PathCollection` (scatter plot).\n",
       "    Default is ``None``, which will take the value from\n",
       "    :rc:`legend.scatterpoints`.\n",
       "\n",
       "scatteryoffsets : iterable of floats\n",
       "    The vertical offset (relative to the font size) for the markers\n",
       "    created for a scatter plot legend entry. 0.0 is at the base the\n",
       "    legend text, and 1.0 is at the top. To draw all markers at the\n",
       "    same height, set to ``[0.5]``. Default is ``[0.375, 0.5, 0.3125]``.\n",
       "\n",
       "markerscale : None or int or float\n",
       "    The relative size of legend markers compared with the originally\n",
       "    drawn ones.\n",
       "    Default is ``None``, which will take the value from\n",
       "    :rc:`legend.markerscale`.\n",
       "\n",
       "markerfirst : bool\n",
       "    If *True*, legend marker is placed to the left of the legend label.\n",
       "    If *False*, legend marker is placed to the right of the legend\n",
       "    label.\n",
       "    Default is *True*.\n",
       "\n",
       "frameon : None or bool\n",
       "    Control whether the legend should be drawn on a patch\n",
       "    (frame).\n",
       "    Default is ``None``, which will take the value from\n",
       "    :rc:`legend.frameon`.\n",
       "\n",
       "fancybox : None or bool\n",
       "    Control whether round edges should be enabled around the\n",
       "    :class:`~matplotlib.patches.FancyBboxPatch` which makes up the\n",
       "    legend's background.\n",
       "    Default is ``None``, which will take the value from\n",
       "    :rc:`legend.fancybox`.\n",
       "\n",
       "shadow : None or bool\n",
       "    Control whether to draw a shadow behind the legend.\n",
       "    Default is ``None``, which will take the value from\n",
       "    :rc:`legend.shadow`.\n",
       "\n",
       "framealpha : None or float\n",
       "    Control the alpha transparency of the legend's background.\n",
       "    Default is ``None``, which will take the value from\n",
       "    :rc:`legend.framealpha`.  If shadow is activated and\n",
       "    *framealpha* is ``None``, the default value is ignored.\n",
       "\n",
       "facecolor : None or \"inherit\" or a color spec\n",
       "    Control the legend's background color.\n",
       "    Default is ``None``, which will take the value from\n",
       "    :rc:`legend.facecolor`.  If ``\"inherit\"``, it will take\n",
       "    :rc:`axes.facecolor`.\n",
       "\n",
       "edgecolor : None or \"inherit\" or a color spec\n",
       "    Control the legend's background patch edge color.\n",
       "    Default is ``None``, which will take the value from\n",
       "    :rc:`legend.edgecolor` If ``\"inherit\"``, it will take\n",
       "    :rc:`axes.edgecolor`.\n",
       "\n",
       "mode : {\"expand\", None}\n",
       "    If `mode` is set to ``\"expand\"`` the legend will be horizontally\n",
       "    expanded to fill the axes area (or `bbox_to_anchor` if defines\n",
       "    the legend's size).\n",
       "\n",
       "bbox_transform : None or :class:`matplotlib.transforms.Transform`\n",
       "    The transform for the bounding box (`bbox_to_anchor`). For a value\n",
       "    of ``None`` (default) the Axes'\n",
       "    :data:`~matplotlib.axes.Axes.transAxes` transform will be used.\n",
       "\n",
       "title : str or None\n",
       "    The legend's title. Default is no title (``None``).\n",
       "\n",
       "title_fontsize: str or None\n",
       "    The fontsize of the legend's title.  Default is the default fontsize.\n",
       "\n",
       "borderpad : float or None\n",
       "    The fractional whitespace inside the legend border.\n",
       "    Measured in font-size units.\n",
       "    Default is ``None``, which will take the value from\n",
       "    :rc:`legend.borderpad`.\n",
       "\n",
       "labelspacing : float or None\n",
       "    The vertical space between the legend entries.\n",
       "    Measured in font-size units.\n",
       "    Default is ``None``, which will take the value from\n",
       "    :rc:`legend.labelspacing`.\n",
       "\n",
       "handlelength : float or None\n",
       "    The length of the legend handles.\n",
       "    Measured in font-size units.\n",
       "    Default is ``None``, which will take the value from\n",
       "    :rc:`legend.handlelength`.\n",
       "\n",
       "handletextpad : float or None\n",
       "    The pad between the legend handle and text.\n",
       "    Measured in font-size units.\n",
       "    Default is ``None``, which will take the value from\n",
       "    :rc:`legend.handletextpad`.\n",
       "\n",
       "borderaxespad : float or None\n",
       "    The pad between the axes and legend border.\n",
       "    Measured in font-size units.\n",
       "    Default is ``None``, which will take the value from\n",
       "    :rc:`legend.borderaxespad`.\n",
       "\n",
       "columnspacing : float or None\n",
       "    The spacing between columns.\n",
       "    Measured in font-size units.\n",
       "    Default is ``None``, which will take the value from\n",
       "    :rc:`legend.columnspacing`.\n",
       "\n",
       "handler_map : dict or None\n",
       "    The custom dictionary mapping instances or types to a legend\n",
       "    handler. This `handler_map` updates the default handler map\n",
       "    found at :func:`matplotlib.legend.Legend.get_legend_handler_map`.\n",
       "\n",
       "\n",
       "\n",
       "Returns\n",
       "-------\n",
       "\n",
       ":class:`matplotlib.legend.Legend` instance\n",
       "\n",
       "Notes\n",
       "-----\n",
       "\n",
       "Not all kinds of artist are supported by the legend command. See\n",
       ":doc:`/tutorials/intermediate/legend_guide` for details.\n",
       "\n",
       "Examples\n",
       "--------\n",
       "\n",
       ".. plot:: gallery/text_labels_and_annotations/legend.py\n",
       "\u001b[0;31mFile:\u001b[0m      ~/.conda/envs/tf22/lib/python3.8/site-packages/matplotlib/pyplot.py\n",
       "\u001b[0;31mType:\u001b[0m      function\n"
      ]
     },
     "metadata": {},
     "output_type": "display_data"
    }
   ],
   "source": [
    "plt.legend?"
   ]
  },
  {
   "cell_type": "code",
   "execution_count": null,
   "metadata": {},
   "outputs": [],
   "source": [
    "sample_mean   = tf.reduce_mean(samples, axis=0)\n",
    "sample_stddev = tf.math.reduce_std(samples,axis=0)\n",
    "sample_mean, sample_stddev"
   ]
  },
  {
   "cell_type": "code",
   "execution_count": null,
   "metadata": {},
   "outputs": [],
   "source": []
  },
  {
   "cell_type": "code",
   "execution_count": null,
   "metadata": {},
   "outputs": [],
   "source": [
    "import corner"
   ]
  },
  {
   "cell_type": "code",
   "execution_count": null,
   "metadata": {},
   "outputs": [],
   "source": [
    "corner.corner(samples)\n",
    "plt.show()"
   ]
  },
  {
   "cell_type": "code",
   "execution_count": null,
   "metadata": {},
   "outputs": [],
   "source": [
    "for ii in range(10):\n",
    "    for n in [10000]:\n",
    "        plt.plot(samples[:n,ii])\n",
    "        plt.show()"
   ]
  },
  {
   "cell_type": "code",
   "execution_count": null,
   "metadata": {},
   "outputs": [],
   "source": [
    "\n",
    "\n",
    "def next_pow_two(n):\n",
    "    i = 1\n",
    "    while i < n:\n",
    "        i = i << 1\n",
    "    return i\n",
    "\n",
    "def autocorr_func_1d(x, norm=True):\n",
    "    x = np.atleast_1d(x)\n",
    "    if len(x.shape) != 1:\n",
    "        raise ValueError(\"invalid dimensions for 1D autocorrelation function\")\n",
    "    n = next_pow_two(len(x))\n",
    "\n",
    "    # Compute the FFT and then (from that) the auto-correlation function\n",
    "    f = np.fft.fft(x - np.mean(x), n=2 * n)\n",
    "    acf = np.fft.ifft(f * np.conjugate(f))[: len(x)].real\n",
    "    acf /= 4 * n\n",
    "\n",
    "    # Optionally normalize\n",
    "    if norm:\n",
    "        acf /= acf[0]\n",
    "\n",
    "    return acf\n",
    "\n"
   ]
  },
  {
   "cell_type": "code",
   "execution_count": null,
   "metadata": {},
   "outputs": [],
   "source": [
    "\n",
    "\n",
    "for ii in range(10):\n",
    "    for n in [100]:\n",
    "        acf = autocorr_func_1d(samples[:n,ii], norm=True)\n",
    "        plt.plot(acf)\n",
    "        plt.show()\n",
    "\n"
   ]
  },
  {
   "cell_type": "code",
   "execution_count": null,
   "metadata": {},
   "outputs": [],
   "source": [
    "samples= np.expand_dims(samples,0)\n",
    "\n",
    "# Automated windowing procedure following Sokal (1989)\n",
    "def auto_window(taus, c):\n",
    "    m = np.arange(len(taus)) < c * taus\n",
    "    if np.any(m):\n",
    "        return np.argmin(m)\n",
    "    return len(taus) - 1\n",
    "\n",
    "\n",
    "# Following the suggestion from Goodman & Weare (2010)\n",
    "def autocorr_gw2010(y, c=5.0):\n",
    "    f = autocorr_func_1d(np.mean(y, axis=0))\n",
    "    taus = 2.0 * np.cumsum(f) - 1.0\n",
    "    window = auto_window(taus, c)\n",
    "    return taus[window]\n",
    "\n",
    "\n",
    "def autocorr_new(y, c=5.0):\n",
    "    f = np.zeros(y.shape[1])\n",
    "    for yy in y:\n",
    "        f += autocorr_func_1d(yy)\n",
    "    f /= len(y)\n",
    "    taus = 2.0 * np.cumsum(f) - 1.0\n",
    "    window = auto_window(taus, c)\n",
    "    return taus[window]\n",
    "\n"
   ]
  },
  {
   "cell_type": "code",
   "execution_count": null,
   "metadata": {},
   "outputs": [],
   "source": [
    "N = np.exp(np.linspace(np.log(100), np.log(samples.shape[1]), 20)).astype(int)\n",
    "gw2010 = np.empty(len(N))\n",
    "new = np.empty(len(N))\n",
    "for jj in range(10):\n",
    "    for i, n in enumerate(N):\n",
    "        gw2010[i] = autocorr_gw2010(samples[:, :n,jj])\n",
    "        new[i] = autocorr_new(samples[:, :n,jj])\n",
    "    tau_esti = np.mean(new[-4:])\n",
    "    print(tau_esti)"
   ]
  },
  {
   "cell_type": "code",
   "execution_count": null,
   "metadata": {},
   "outputs": [],
   "source": [
    "plt.loglog(N,gw2010)\n",
    "plt.loglog(N,new, marker='o')\n",
    "plt.loglog(N, N/50)"
   ]
  },
  {
   "cell_type": "code",
   "execution_count": null,
   "metadata": {},
   "outputs": [],
   "source": []
  },
  {
   "cell_type": "code",
   "execution_count": null,
   "metadata": {},
   "outputs": [],
   "source": [
    "x_mean  = np.reshape(get_decoded(np.repeat([sample_mean],16,0))[0], (28,28))\n",
    "plt.title('mean')\n",
    "plt.imshow(x_mean.reshape(28,28))\n",
    "plt.axis('off')\n",
    "plt.show()"
   ]
  },
  {
   "cell_type": "code",
   "execution_count": null,
   "metadata": {},
   "outputs": [],
   "source": []
  },
  {
   "cell_type": "code",
   "execution_count": null,
   "metadata": {},
   "outputs": [],
   "source": []
  }
 ],
 "metadata": {
  "accelerator": "GPU",
  "colab": {
   "collapsed_sections": [],
   "include_colab_link": true,
   "name": "LambdaNetwork.ipynb",
   "provenance": []
  },
  "kernelspec": {
   "display_name": "tf22",
   "language": "python",
   "name": "tf22"
  },
  "language_info": {
   "codemirror_mode": {
    "name": "ipython",
    "version": 3
   },
   "file_extension": ".py",
   "mimetype": "text/x-python",
   "name": "python",
   "nbconvert_exporter": "python",
   "pygments_lexer": "ipython3",
   "version": "3.8.3"
  }
 },
 "nbformat": 4,
 "nbformat_minor": 4
}
