{
 "cells": [
  {
   "cell_type": "markdown",
   "metadata": {},
   "source": [
    "# logp evaluation of PAE"
   ]
  },
  {
   "cell_type": "code",
   "execution_count": 1,
   "metadata": {
    "colab": {
     "base_uri": "https://localhost:8080/",
     "height": 35
    },
    "colab_type": "code",
    "id": "D-Fe5G8m1FTC",
    "outputId": "8f21ee4e-6ad4-4fe2-a7a5-0bad6eae0cde"
   },
   "outputs": [],
   "source": [
    "\n",
    "#To make tf 2.0 compatible with tf1.0 code, we disable the tf2.0 functionalities\n",
    "#tf.disable_eager_execution()\n",
    "import numpy as np\n",
    "import os\n",
    "import matplotlib\n",
    "import matplotlib.pyplot as plt\n",
    "import matplotlib.cm as cm\n",
    "from matplotlib import rcParams\n",
    "import sys\n",
    "import pickle\n",
    "from functools import partial\n",
    "import time\n",
    "from tqdm import tqdm\n",
    "\n",
    "plt.rcParams.update({'font.family' : 'lmodern', 'font.size': 16,                                                                                                                                                    \n",
    "                     'axes.labelsize': 16, 'legend.fontsize': 12, \n",
    "                     'xtick.labelsize': 16, 'ytick.labelsize': 16, 'axes.titlesize': 16,\n",
    "                     'axes.linewidth': 1.5})"
   ]
  },
  {
   "cell_type": "code",
   "execution_count": 8,
   "metadata": {},
   "outputs": [
    {
     "data": {
      "text/plain": [
       "10000.0"
      ]
     },
     "execution_count": 8,
     "metadata": {},
     "output_type": "execute_result"
    }
   ],
   "source": [
    "10e3"
   ]
  },
  {
   "cell_type": "code",
   "execution_count": null,
   "metadata": {},
   "outputs": [],
   "source": [
    "((1e3+10e3)/300*70)/60"
   ]
  },
  {
   "cell_type": "code",
   "execution_count": 2,
   "metadata": {},
   "outputs": [],
   "source": [
    "import scipy"
   ]
  },
  {
   "cell_type": "code",
   "execution_count": 3,
   "metadata": {
    "colab": {},
    "colab_type": "code",
    "id": "-AEYmOsH1FTI"
   },
   "outputs": [
    {
     "data": {
      "text/plain": [
       "[PhysicalDevice(name='/physical_device:GPU:0', device_type='GPU')]"
      ]
     },
     "execution_count": 3,
     "metadata": {},
     "output_type": "execute_result"
    }
   ],
   "source": [
    "import tensorflow as tf\n",
    "import tensorflow_probability as tfp\n",
    "import tensorflow_hub as hub\n",
    "tfd = tfp.distributions\n",
    "tfb = tfp.bijectors\n",
    "tf.__version__\n",
    "tf.config.list_physical_devices('GPU')"
   ]
  },
  {
   "cell_type": "code",
   "execution_count": 4,
   "metadata": {},
   "outputs": [
    {
     "name": "stdout",
     "output_type": "stream",
     "text": [
      "2.2.0 0.10.0 0.8.0\n"
     ]
    }
   ],
   "source": [
    "print(tf.__version__, tfp.__version__, hub.__version__)"
   ]
  },
  {
   "cell_type": "code",
   "execution_count": 5,
   "metadata": {},
   "outputs": [
    {
     "name": "stderr",
     "output_type": "stream",
     "text": [
      "2021-01-07 16:16:28,428\tINFO services.py:1164 -- View the Ray dashboard at \u001b[1m\u001b[32mhttp://127.0.0.1:8265\u001b[39m\u001b[22m\n"
     ]
    },
    {
     "name": "stdout",
     "output_type": "stream",
     "text": [
      "\u001b[2m\u001b[36m(pid=4090)\u001b[0m  CHAIN #3 : sampling proceeding [ 300 / 1500 ], last 300 samples used 0.37 seconds. (warmup)\n",
      "\u001b[2m\u001b[36m(pid=4088)\u001b[0m  CHAIN #0 : sampling proceeding [ 300 / 1500 ], last 300 samples used 0.67 seconds. (warmup)\n",
      "\u001b[2m\u001b[36m(pid=4090)\u001b[0m  CHAIN #3 : sampling proceeding [ 600 / 1500 ], last 300 samples used 0.23 seconds.\n",
      "\u001b[2m\u001b[36m(pid=4087)\u001b[0m  CHAIN #2 : sampling proceeding [ 300 / 1500 ], last 300 samples used 0.71 seconds. (warmup)\n",
      "\u001b[2m\u001b[36m(pid=4090)\u001b[0m  CHAIN #3 : sampling proceeding [ 900 / 1500 ], last 300 samples used 0.20 seconds.\n",
      "\u001b[2m\u001b[36m(pid=4089)\u001b[0m  CHAIN #1 : sampling proceeding [ 300 / 1500 ], last 300 samples used 0.72 seconds. (warmup)\n",
      "\u001b[2m\u001b[36m(pid=4090)\u001b[0m  CHAIN #3 : sampling proceeding [ 1200 / 1500 ], last 300 samples used 0.20 seconds.\n",
      "\u001b[2m\u001b[36m(pid=4088)\u001b[0m  CHAIN #0 : sampling proceeding [ 600 / 1500 ], last 300 samples used 0.65 seconds.\n",
      "\u001b[2m\u001b[36m(pid=4090)\u001b[0m  CHAIN #3 : sampling finished [ 1500 / 1500 ], obtained 1500 samples in 1.26 seconds.\n",
      "\u001b[2m\u001b[36m(pid=4087)\u001b[0m  CHAIN #2 : sampling proceeding [ 600 / 1500 ], last 300 samples used 0.68 seconds.\n",
      "\u001b[2m\u001b[36m(pid=4089)\u001b[0m  CHAIN #1 : sampling proceeding [ 600 / 1500 ], last 300 samples used 0.64 seconds.\n",
      "\u001b[2m\u001b[36m(pid=4088)\u001b[0m  CHAIN #0 : sampling proceeding [ 900 / 1500 ], last 300 samples used 0.40 seconds.\n",
      "\u001b[2m\u001b[36m(pid=4087)\u001b[0m  CHAIN #2 : sampling proceeding [ 900 / 1500 ], last 300 samples used 0.40 seconds.\n",
      "\u001b[2m\u001b[36m(pid=4088)\u001b[0m  CHAIN #0 : sampling proceeding [ 1200 / 1500 ], last 300 samples used 0.23 seconds.\n",
      "\u001b[2m\u001b[36m(pid=4089)\u001b[0m  CHAIN #1 : sampling proceeding [ 900 / 1500 ], last 300 samples used 0.38 seconds.\n",
      "\u001b[2m\u001b[36m(pid=4088)\u001b[0m  CHAIN #0 : sampling finished [ 1500 / 1500 ], obtained 1500 samples in 2.15 seconds.\n",
      "\u001b[2m\u001b[36m(pid=4089)\u001b[0m  CHAIN #1 : sampling proceeding [ 1200 / 1500 ], last 300 samples used 0.30 seconds.\n",
      "\u001b[2m\u001b[36m(pid=4087)\u001b[0m  CHAIN #2 : sampling proceeding [ 1200 / 1500 ], last 300 samples used 0.40 seconds.\n",
      "\u001b[2m\u001b[36m(pid=4089)\u001b[0m  CHAIN #1 : sampling finished [ 1500 / 1500 ], obtained 1500 samples in 2.28 seconds.\n"
     ]
    },
    {
     "data": {
      "text/plain": [
       "<bayesfast.samplers.sample_trace.TraceTuple at 0x2aab8b853e20>"
      ]
     },
     "execution_count": 5,
     "metadata": {},
     "output_type": "execute_result"
    },
    {
     "name": "stdout",
     "output_type": "stream",
     "text": [
      "\u001b[2m\u001b[36m(pid=4087)\u001b[0m  CHAIN #2 : sampling finished [ 1500 / 1500 ], obtained 1500 samples in 2.49 seconds.\n"
     ]
    }
   ],
   "source": [
    "from ray.util.multiprocessing import Pool as RayPool\n",
    "import bayesfast as bf\n",
    "bf.utils.parallel.set_backend(RayPool(4))\n",
    "bf.utils.random.set_generator(4)\n",
    "den = bf.DensityLite(logp=lambda x: -0.5 * x @ x, grad=lambda x: -x,\n",
    "                     input_size=4)\n",
    "foo = bf.sample(den)\n",
    "foo"
   ]
  },
  {
   "cell_type": "markdown",
   "metadata": {},
   "source": [
    "### Loading the trained modules and evaluating logp in tensorflow"
   ]
  },
  {
   "cell_type": "code",
   "execution_count": 6,
   "metadata": {
    "colab": {},
    "colab_type": "code",
    "id": "GI5FLHJsZLTV"
   },
   "outputs": [],
   "source": [
    "from pae.model_tf2 import get_prior, get_posterior"
   ]
  },
  {
   "cell_type": "code",
   "execution_count": 7,
   "metadata": {
    "colab": {},
    "colab_type": "code",
    "id": "V9oAjWb9ZLTc"
   },
   "outputs": [],
   "source": [
    "import pae.create_datasets as crd\n",
    "import pae.load_data as ld\n",
    "load_funcs=dict(mnist=ld.load_mnist, fmnist=ld.load_fmnist)"
   ]
  },
  {
   "cell_type": "code",
   "execution_count": 3,
   "metadata": {
    "colab": {},
    "colab_type": "code",
    "id": "vxW5NtaPZLTi"
   },
   "outputs": [],
   "source": [
    "import os, pickle\n",
    "PROJECT_PATH = \"../../\" \n",
    "PARAMS_PATH = os.path.join(PROJECT_PATH,'params')\n",
    "\n",
    "param_file  = 'params_mnist_-1_10_vae10_AE_test_full_sigma'\n",
    "params      = pickle.load(open(os.path.join(PARAMS_PATH,param_file+'.pkl'),'rb'))"
   ]
  },
  {
   "cell_type": "code",
   "execution_count": 4,
   "metadata": {},
   "outputs": [
    {
     "data": {
      "text/plain": [
       "{'logtostderr': False,\n",
       " 'alsologtostderr': False,\n",
       " 'log_dir': '',\n",
       " 'v': -1,\n",
       " 'verbosity': -1,\n",
       " 'stderrthreshold': 'fatal',\n",
       " 'showprefixforinfo': True,\n",
       " 'tfhub_cache_dir': None,\n",
       " 'model_dir': '/global/scratch/vboehm/rnf/models/mnist/class-1/latent_size10/net_type_vae10/loss_AE/test_full_sigma',\n",
       " 'data_set': 'mnist',\n",
       " 'module_dir': '/global/cscratch1/sd/vboehm/RNF/modules/mnist/class-1/latent_size10/net_type_vae10/loss_AE/test_full_sigma',\n",
       " 'data_dir': '/global/cscratch1/sd/vboehm/RNF/datasets',\n",
       " 'celeba_dim': 64,\n",
       " 'learning_rate': 0.0001,\n",
       " 'batch_size': 16,\n",
       " 'max_steps': 500000,\n",
       " 'n_steps': 5000,\n",
       " 'loss': 'AE',\n",
       " 'output_images': True,\n",
       " 'full_sigma': array([1.21699713e-07, 7.09743763e-04, 1.02994021e-03, 1.02151698e-03,\n",
       "        1.03679986e-03, 1.04475720e-03, 1.02805020e-03, 1.00746250e-03,\n",
       "        1.01832906e-03, 9.80183366e-04, 1.08048529e-03, 1.05271244e-03,\n",
       "        1.02726626e-03, 1.17903226e-03, 1.40199822e-03, 9.60169651e-04,\n",
       "        9.90029890e-04, 1.04802335e-03, 9.90563538e-04, 1.04709493e-03,\n",
       "        1.13676884e-03, 1.07971730e-03, 9.92695102e-04, 9.93448193e-04,\n",
       "        9.80554032e-04, 9.77186253e-04, 6.61150378e-04, 1.28944222e-07,\n",
       "        6.50432310e-04, 1.45823171e-03, 1.76780287e-03, 1.80823251e-03,\n",
       "        1.91257487e-03, 1.98171521e-03, 1.75120146e-03, 3.35653918e-03,\n",
       "        1.49410684e-02, 1.44044831e-02, 1.99007187e-02, 1.86425243e-02,\n",
       "        2.09564772e-02, 1.84938293e-02, 1.80593096e-02, 1.69243291e-02,\n",
       "        1.59557816e-02, 2.08895095e-02, 2.07436662e-02, 1.77164674e-02,\n",
       "        1.03971232e-02, 1.17776450e-02, 5.14635909e-03, 2.08367198e-03,\n",
       "        1.89598277e-03, 1.70859136e-03, 1.44396827e-03, 7.07287109e-04,\n",
       "        9.86570143e-04, 1.68726151e-03, 1.99403497e-03, 1.97966024e-03,\n",
       "        2.06167158e-03, 2.46312353e-03, 1.01027293e-02, 1.56395212e-02,\n",
       "        2.08964385e-02, 2.81068459e-02, 3.17518748e-02, 3.47139351e-02,\n",
       "        4.19978797e-02, 4.69017811e-02, 5.62532730e-02, 5.81516959e-02,\n",
       "        6.01618737e-02, 5.47197722e-02, 5.47435842e-02, 4.71560955e-02,\n",
       "        3.51063237e-02, 3.30482088e-02, 2.71073151e-02, 9.16708075e-03,\n",
       "        2.09661969e-03, 1.82737655e-03, 1.76630483e-03, 1.05923775e-03,\n",
       "        9.82661499e-04, 1.79681019e-03, 2.52343551e-03, 4.38444363e-03,\n",
       "        5.04444260e-03, 9.90656763e-03, 1.55759137e-02, 2.46248581e-02,\n",
       "        3.13416496e-02, 4.43628170e-02, 4.98932116e-02, 5.68012111e-02,\n",
       "        6.52516633e-02, 7.57213831e-02, 8.46063569e-02, 8.89798105e-02,\n",
       "        9.18462873e-02, 8.60003084e-02, 8.40623081e-02, 8.20725262e-02,\n",
       "        6.82902113e-02, 5.62310219e-02, 4.19958830e-02, 2.84956396e-02,\n",
       "        1.35893123e-02, 3.33000952e-03, 1.70432252e-03, 1.05178810e-03,\n",
       "        9.86272702e-04, 1.90626434e-03, 6.05711387e-03, 5.71168074e-03,\n",
       "        1.38983168e-02, 2.59474106e-02, 3.84950042e-02, 5.34426905e-02,\n",
       "        5.90621494e-02, 7.22996593e-02, 8.12694505e-02, 1.00251921e-01,\n",
       "        1.14674263e-01, 1.26780555e-01, 1.38734683e-01, 1.41693726e-01,\n",
       "        1.46190792e-01, 1.45856887e-01, 1.37345999e-01, 1.30644739e-01,\n",
       "        1.19537815e-01, 1.02720052e-01, 8.75236318e-02, 6.71557859e-02,\n",
       "        4.55313958e-02, 1.73818935e-02, 2.66140583e-03, 1.03792315e-03,\n",
       "        9.86524159e-04, 1.96012319e-03, 4.39998787e-03, 1.12552568e-02,\n",
       "        2.52861008e-02, 4.55067083e-02, 5.82394190e-02, 7.65640810e-02,\n",
       "        9.38674584e-02, 1.11314625e-01, 1.27296895e-01, 1.41808718e-01,\n",
       "        1.58235386e-01, 1.65064916e-01, 1.74185261e-01, 1.78823709e-01,\n",
       "        1.84780613e-01, 1.86216608e-01, 1.79594964e-01, 1.68490753e-01,\n",
       "        1.51811078e-01, 1.31198496e-01, 1.16361029e-01, 9.61838141e-02,\n",
       "        7.44945779e-02, 4.25841138e-02, 2.14950144e-02, 1.98100857e-03,\n",
       "        9.83781647e-04, 2.01431336e-03, 3.29616549e-03, 2.31141075e-02,\n",
       "        4.14679274e-02, 6.01577759e-02, 7.92153850e-02, 1.00514404e-01,\n",
       "        1.16578497e-01, 1.41903937e-01, 1.47238642e-01, 1.62109256e-01,\n",
       "        1.71692938e-01, 1.73463836e-01, 1.78994864e-01, 1.87102377e-01,\n",
       "        1.90589190e-01, 1.88512385e-01, 1.95264041e-01, 1.86597228e-01,\n",
       "        1.69455886e-01, 1.46210074e-01, 1.21071629e-01, 1.05716646e-01,\n",
       "        9.08651724e-02, 5.78412600e-02, 2.51776595e-02, 3.45985638e-03,\n",
       "        9.80588142e-04, 4.25684266e-03, 1.50833121e-02, 3.04767843e-02,\n",
       "        6.14945851e-02, 7.85630494e-02, 1.01855129e-01, 1.15952551e-01,\n",
       "        1.35257602e-01, 1.55840531e-01, 1.62501648e-01, 1.71518251e-01,\n",
       "        1.78239539e-01, 1.76759079e-01, 1.81600302e-01, 1.83901146e-01,\n",
       "        1.86735988e-01, 1.91111490e-01, 1.93297639e-01, 1.93526685e-01,\n",
       "        1.73700824e-01, 1.50295436e-01, 1.23575464e-01, 1.06213249e-01,\n",
       "        8.67166519e-02, 6.12555780e-02, 2.78158337e-02, 9.90429986e-03,\n",
       "        2.29974883e-03, 6.80384133e-03, 2.33984180e-02, 4.00141291e-02,\n",
       "        6.28057048e-02, 8.66527632e-02, 1.09467529e-01, 1.23334572e-01,\n",
       "        1.41811028e-01, 1.52001664e-01, 1.63417727e-01, 1.69583276e-01,\n",
       "        1.70115158e-01, 1.67789608e-01, 1.66771755e-01, 1.69078872e-01,\n",
       "        1.74911097e-01, 1.86616659e-01, 1.87097490e-01, 1.81281254e-01,\n",
       "        1.74007878e-01, 1.49947837e-01, 1.22543111e-01, 1.04267769e-01,\n",
       "        8.00919309e-02, 5.81906997e-02, 3.15622762e-02, 6.21676072e-03,\n",
       "        7.25549692e-03, 9.20623820e-03, 2.46443618e-02, 4.54222970e-02,\n",
       "        6.54082894e-02, 8.68128240e-02, 1.08265348e-01, 1.24402203e-01,\n",
       "        1.36343792e-01, 1.47006527e-01, 1.59836158e-01, 1.63357437e-01,\n",
       "        1.61969736e-01, 1.63318858e-01, 1.66189924e-01, 1.64830044e-01,\n",
       "        1.74827456e-01, 1.81630015e-01, 1.80298671e-01, 1.75130486e-01,\n",
       "        1.64680630e-01, 1.40965074e-01, 1.17453441e-01, 9.71426144e-02,\n",
       "        7.30508342e-02, 4.86104637e-02, 2.21269242e-02, 5.04005328e-03,\n",
       "        8.46417155e-03, 1.07430024e-02, 2.67064609e-02, 4.66738567e-02,\n",
       "        6.33492097e-02, 8.40511769e-02, 1.02535173e-01, 1.18130796e-01,\n",
       "        1.33996874e-01, 1.45276040e-01, 1.54824018e-01, 1.60340101e-01,\n",
       "        1.59054920e-01, 1.60845965e-01, 1.54334664e-01, 1.55499101e-01,\n",
       "        1.69505656e-01, 1.74873546e-01, 1.76447421e-01, 1.69798508e-01,\n",
       "        1.56301990e-01, 1.33544177e-01, 1.04237802e-01, 8.37668777e-02,\n",
       "        6.11757226e-02, 3.61545272e-02, 1.71536971e-02, 5.21347439e-03,\n",
       "        1.58518425e-03, 1.37997698e-02, 2.84547862e-02, 4.21918593e-02,\n",
       "        5.78187704e-02, 8.04498792e-02, 9.96165425e-02, 1.16959527e-01,\n",
       "        1.34297222e-01, 1.49435654e-01, 1.59514412e-01, 1.56846717e-01,\n",
       "        1.55521393e-01, 1.53925389e-01, 1.49601355e-01, 1.49467215e-01,\n",
       "        1.63521379e-01, 1.68943182e-01, 1.69730499e-01, 1.60356387e-01,\n",
       "        1.45655498e-01, 1.21613175e-01, 9.99646708e-02, 8.10500383e-02,\n",
       "        5.83276786e-02, 3.54549773e-02, 1.76289789e-02, 1.67245755e-03,\n",
       "        1.01018511e-03, 9.68203880e-03, 1.84206925e-02, 3.19841839e-02,\n",
       "        5.33183180e-02, 7.84603879e-02, 9.96477231e-02, 1.20149128e-01,\n",
       "        1.44435227e-01, 1.56670868e-01, 1.68003544e-01, 1.59910187e-01,\n",
       "        1.52853936e-01, 1.51521578e-01, 1.42266467e-01, 1.48185670e-01,\n",
       "        1.64112896e-01, 1.62803411e-01, 1.62636280e-01, 1.51564464e-01,\n",
       "        1.30624026e-01, 1.12444490e-01, 9.19657871e-02, 7.47064799e-02,\n",
       "        5.20062037e-02, 2.61427872e-02, 1.27423797e-02, 1.83037983e-03,\n",
       "        1.28385029e-03, 6.73725875e-03, 1.78656261e-02, 2.81138085e-02,\n",
       "        4.99290600e-02, 8.27874988e-02, 1.06752664e-01, 1.29107520e-01,\n",
       "        1.53813541e-01, 1.63451940e-01, 1.68373600e-01, 1.59582004e-01,\n",
       "        1.51610106e-01, 1.48749799e-01, 1.45209804e-01, 1.55671999e-01,\n",
       "        1.61175981e-01, 1.59806967e-01, 1.56288192e-01, 1.52257442e-01,\n",
       "        1.29048303e-01, 1.14040993e-01, 9.55111682e-02, 7.49220997e-02,\n",
       "        5.72637394e-02, 3.24307084e-02, 1.42681608e-02, 1.56479701e-03,\n",
       "        1.31375564e-03, 5.05765248e-03, 1.01262750e-02, 2.68270522e-02,\n",
       "        5.40140197e-02, 8.96407515e-02, 1.14992708e-01, 1.32872447e-01,\n",
       "        1.56224951e-01, 1.65303975e-01, 1.63458332e-01, 1.59604609e-01,\n",
       "        1.55370712e-01, 1.50158122e-01, 1.53807074e-01, 1.63560554e-01,\n",
       "        1.62993208e-01, 1.57592282e-01, 1.55043408e-01, 1.50837734e-01,\n",
       "        1.35528997e-01, 1.19167402e-01, 1.00144573e-01, 8.14876482e-02,\n",
       "        6.41156659e-02, 3.50153856e-02, 8.60478636e-03, 1.30940811e-03,\n",
       "        1.02494552e-03, 1.83278753e-03, 1.05947712e-02, 2.53313668e-02,\n",
       "        5.54481596e-02, 9.69062150e-02, 1.13654755e-01, 1.34864032e-01,\n",
       "        1.49919197e-01, 1.60601765e-01, 1.60379350e-01, 1.62545606e-01,\n",
       "        1.64732888e-01, 1.61320612e-01, 1.58532739e-01, 1.65241912e-01,\n",
       "        1.58828884e-01, 1.58602521e-01, 1.54655397e-01, 1.53037325e-01,\n",
       "        1.40288070e-01, 1.18737839e-01, 1.01768538e-01, 8.17077905e-02,\n",
       "        6.40067756e-02, 3.54365259e-02, 1.29911480e-02, 4.01443057e-03,\n",
       "        1.03508611e-03, 1.95777882e-03, 1.04329679e-02, 3.35006937e-02,\n",
       "        6.65680394e-02, 1.00017756e-01, 1.19671620e-01, 1.34396747e-01,\n",
       "        1.46680117e-01, 1.59010246e-01, 1.64481521e-01, 1.69644922e-01,\n",
       "        1.67195320e-01, 1.57882199e-01, 1.56697139e-01, 1.58738777e-01,\n",
       "        1.57386839e-01, 1.57567590e-01, 1.58376798e-01, 1.49782047e-01,\n",
       "        1.44353539e-01, 1.23640239e-01, 1.05629109e-01, 8.91857967e-02,\n",
       "        6.50389269e-02, 4.08045687e-02, 1.87117513e-02, 8.80436972e-03,\n",
       "        1.04125461e-03, 2.13513430e-03, 9.90969501e-03, 3.82506847e-02,\n",
       "        7.92341903e-02, 1.05869278e-01, 1.25676990e-01, 1.40545726e-01,\n",
       "        1.54014587e-01, 1.58547759e-01, 1.62707150e-01, 1.65019616e-01,\n",
       "        1.64132699e-01, 1.56076595e-01, 1.59119114e-01, 1.59925029e-01,\n",
       "        1.54634029e-01, 1.61419943e-01, 1.62389055e-01, 1.49316967e-01,\n",
       "        1.36959389e-01, 1.21924654e-01, 1.03526123e-01, 8.94206092e-02,\n",
       "        6.73716143e-02, 4.45897840e-02, 1.99806150e-02, 1.16453751e-03,\n",
       "        2.53242464e-03, 2.21024384e-03, 1.56485252e-02, 4.61222082e-02,\n",
       "        8.50108489e-02, 1.07273683e-01, 1.30949035e-01, 1.47851869e-01,\n",
       "        1.57343224e-01, 1.53170422e-01, 1.54260710e-01, 1.54369444e-01,\n",
       "        1.49733528e-01, 1.49898052e-01, 1.52170330e-01, 1.53491393e-01,\n",
       "        1.54300958e-01, 1.53518721e-01, 1.55223891e-01, 1.45445645e-01,\n",
       "        1.30727261e-01, 1.15330175e-01, 1.00599363e-01, 9.25583616e-02,\n",
       "        7.27522373e-02, 4.80539761e-02, 1.87492929e-02, 1.13225065e-03,\n",
       "        1.02930458e-03, 5.25431568e-03, 2.14669611e-02, 5.48147783e-02,\n",
       "        8.74626264e-02, 1.07683256e-01, 1.27446041e-01, 1.48367256e-01,\n",
       "        1.54925719e-01, 1.53831184e-01, 1.50652811e-01, 1.47427633e-01,\n",
       "        1.46531165e-01, 1.45812944e-01, 1.48840874e-01, 1.50757819e-01,\n",
       "        1.48225248e-01, 1.45830974e-01, 1.42756566e-01, 1.35916024e-01,\n",
       "        1.23673141e-01, 1.10432297e-01, 1.01457961e-01, 9.18177441e-02,\n",
       "        7.22077936e-02, 5.05983941e-02, 2.08167005e-02, 1.56429200e-03,\n",
       "        1.00348052e-03, 3.95093299e-03, 2.02127602e-02, 5.26198372e-02,\n",
       "        8.41491818e-02, 1.06073521e-01, 1.27398297e-01, 1.45745471e-01,\n",
       "        1.56738386e-01, 1.55964509e-01, 1.56188875e-01, 1.50500044e-01,\n",
       "        1.45799696e-01, 1.43999517e-01, 1.47690564e-01, 1.43598601e-01,\n",
       "        1.44364759e-01, 1.42093331e-01, 1.34758800e-01, 1.24329671e-01,\n",
       "        1.18011653e-01, 1.12597756e-01, 9.81605500e-02, 8.44226927e-02,\n",
       "        7.43800625e-02, 4.44129556e-02, 2.23733764e-02, 2.30912608e-03,\n",
       "        1.04676315e-03, 2.49647070e-03, 1.97510775e-02, 5.10769971e-02,\n",
       "        7.61182010e-02, 1.01560436e-01, 1.23480305e-01, 1.44640326e-01,\n",
       "        1.55714601e-01, 1.58756658e-01, 1.55315682e-01, 1.55733258e-01,\n",
       "        1.57628953e-01, 1.52879745e-01, 1.51894078e-01, 1.48743376e-01,\n",
       "        1.44339144e-01, 1.37366131e-01, 1.24946773e-01, 1.14104226e-01,\n",
       "        1.10336453e-01, 9.98034552e-02, 8.59674811e-02, 7.27876350e-02,\n",
       "        5.88055737e-02, 3.70891318e-02, 1.18746785e-02, 9.69065528e-04,\n",
       "        1.05706544e-03, 2.14234763e-03, 1.34233600e-02, 4.02359813e-02,\n",
       "        6.42998815e-02, 9.12258327e-02, 1.14891946e-01, 1.35647058e-01,\n",
       "        1.51969731e-01, 1.58016920e-01, 1.57380477e-01, 1.58130094e-01,\n",
       "        1.52010322e-01, 1.46702006e-01, 1.42833591e-01, 1.37308225e-01,\n",
       "        1.32418305e-01, 1.23983659e-01, 1.12073317e-01, 1.03041805e-01,\n",
       "        9.33842212e-02, 8.37522149e-02, 7.12211132e-02, 6.27916008e-02,\n",
       "        4.27896082e-02, 2.12680921e-02, 5.08785807e-03, 1.01242086e-03,\n",
       "        1.03620975e-03, 1.79088488e-03, 6.54583471e-03, 2.59134229e-02,\n",
       "        4.51190621e-02, 6.66722134e-02, 9.54734087e-02, 1.18272953e-01,\n",
       "        1.35259792e-01, 1.46760568e-01, 1.51030421e-01, 1.54024169e-01,\n",
       "        1.49501100e-01, 1.39552817e-01, 1.32187888e-01, 1.29268453e-01,\n",
       "        1.21373452e-01, 1.10383935e-01, 9.55895111e-02, 8.26928541e-02,\n",
       "        7.48029202e-02, 6.12141974e-02, 5.50367348e-02, 4.65504415e-02,\n",
       "        2.78923046e-02, 1.27994251e-02, 2.90482491e-03, 1.05499243e-03,\n",
       "        1.04302366e-03, 1.83294399e-03, 2.31182948e-03, 1.50160016e-02,\n",
       "        2.45726574e-02, 4.08194400e-02, 6.31949380e-02, 8.64257142e-02,\n",
       "        1.05329826e-01, 1.18630931e-01, 1.25420943e-01, 1.33552358e-01,\n",
       "        1.35819763e-01, 1.33375332e-01, 1.24546960e-01, 1.15618132e-01,\n",
       "        9.77078900e-02, 8.34746808e-02, 7.31138662e-02, 6.42357990e-02,\n",
       "        5.69944009e-02, 4.41035070e-02, 3.63433585e-02, 2.57415101e-02,\n",
       "        1.17797237e-02, 2.57720682e-03, 1.92719011e-03, 1.08277856e-03,\n",
       "        1.04882300e-03, 1.77912379e-03, 2.00328277e-03, 2.72041559e-03,\n",
       "        1.53383221e-02, 2.64328010e-02, 2.87630111e-02, 4.21765633e-02,\n",
       "        5.87835945e-02, 7.25935921e-02, 8.11553523e-02, 8.74127820e-02,\n",
       "        9.20784846e-02, 9.12422389e-02, 8.78865272e-02, 8.33686665e-02,\n",
       "        7.63724670e-02, 6.90798685e-02, 5.83660603e-02, 4.85602766e-02,\n",
       "        3.84804681e-02, 3.13665904e-02, 2.25777812e-02, 1.36569133e-02,\n",
       "        8.28738417e-03, 1.86900573e-03, 1.69429183e-03, 9.84292245e-04,\n",
       "        7.07952306e-04, 1.45165354e-03, 1.71741599e-03, 1.81116699e-03,\n",
       "        4.61807335e-03, 1.65161435e-02, 2.45793443e-02, 3.40094455e-02,\n",
       "        3.90559323e-02, 4.68241312e-02, 5.49092367e-02, 6.08535334e-02,\n",
       "        6.23053089e-02, 6.09573796e-02, 5.65593801e-02, 4.80049290e-02,\n",
       "        4.57862318e-02, 4.35157083e-02, 4.20564860e-02, 3.54590528e-02,\n",
       "        2.48090457e-02, 1.29957674e-02, 7.97747541e-03, 3.88539373e-03,\n",
       "        2.14586314e-03, 1.75382814e-03, 1.45069940e-03, 6.57857105e-04,\n",
       "        1.86079419e-07, 6.65044063e-04, 9.80295241e-04, 9.70859721e-04,\n",
       "        9.78556112e-04, 3.25514865e-03, 9.15829651e-03, 1.03873108e-02,\n",
       "        1.67697575e-02, 2.74775252e-02, 3.39488089e-02, 3.65440510e-02,\n",
       "        3.55302617e-02, 3.94671001e-02, 3.46711352e-02, 3.22653987e-02,\n",
       "        3.32477614e-02, 3.20662074e-02, 2.60092188e-02, 1.47603527e-02,\n",
       "        3.18768690e-03, 8.65595706e-04, 9.03050939e-04, 1.04372168e-03,\n",
       "        1.04062306e-03, 1.06515992e-03, 7.08474370e-04, 1.24530573e-07],\n",
       "       dtype=float32),\n",
       " 'sigma_annealing': False,\n",
       " 'beta_VAE': True,\n",
       " 'beta': 120.0,\n",
       " 'free_bits': False,\n",
       " 'lambda': 0.0,\n",
       " 'C_annealing': True,\n",
       " 'C': 18.0,\n",
       " 'augmentation': ['rot'],\n",
       " 'rot_angle': 5.0,\n",
       " 'latent_size': 10,\n",
       " 'activation': <function tensorflow.python.ops.gen_math_ops.tanh(x, name=None)>,\n",
       " 'n_samples': 16,\n",
       " 'network_type': 'vae10',\n",
       " 'n_filt': 32,\n",
       " 'dense_size': 256,\n",
       " 'n_layers': 4,\n",
       " 'bias': False,\n",
       " 'dropout_rate': 0.0,\n",
       " 'sigma': 0.1,\n",
       " 'class_label': -1,\n",
       " 'tag': 'test_full_sigma',\n",
       " 'base_dim': 16,\n",
       " 'kernel_size': 3,\n",
       " 'num_scale': 4,\n",
       " 'block_per_scale': 1,\n",
       " 'depth_per_block': 2,\n",
       " 'fc_dim': 512,\n",
       " 'h': False,\n",
       " 'help': False,\n",
       " 'helpfull': False,\n",
       " 'helpshort': False,\n",
       " 'width': 28,\n",
       " 'height': 28,\n",
       " 'n_channels': 1,\n",
       " 'data_shape': [28, 28, 1],\n",
       " 'output_size': 784,\n",
       " 'full_size': [16, 784],\n",
       " 'label': 'mnist/class-1/latent_size10/net_type_vae10/loss_AE/test_full_sigma',\n",
       " 'plot_dir': '../../plots'}"
      ]
     },
     "execution_count": 4,
     "metadata": {},
     "output_type": "execute_result"
    }
   ],
   "source": [
    "params"
   ]
  },
  {
   "cell_type": "code",
   "execution_count": 9,
   "metadata": {},
   "outputs": [],
   "source": [
    "# params['module_dir']='../../modules/mnist/class-1/latent_size10/net_type_vae10/loss_AE/test_full_sigma'\n",
    "# params['data_dir']= '../../data/'"
   ]
  },
  {
   "cell_type": "code",
   "execution_count": 10,
   "metadata": {},
   "outputs": [],
   "source": [
    "load_func                                          = partial(load_funcs[params['data_set']])\n",
    "x_train, y_train, x_valid, y_valid, x_test, y_test = load_func(params['data_dir'],flatten=True)\n",
    "\n",
    "if np.all(x_test)==None:\n",
    "    x_test=x_valid\n",
    "\n",
    "x_train = x_train/256.-0.5\n",
    "x_test  = x_test/256.-0.5\n",
    "x_valid = x_valid/256.-0.5"
   ]
  },
  {
   "cell_type": "code",
   "execution_count": 11,
   "metadata": {},
   "outputs": [],
   "source": [
    "generator_path   = os.path.join(params['module_dir'],'decoder')\n",
    "encoder_path     = os.path.join(params['module_dir'],'encoder')\n",
    "nvp_path         = os.path.join(params['module_dir'],'hybrid8_nepoch220')"
   ]
  },
  {
   "cell_type": "code",
   "execution_count": 12,
   "metadata": {},
   "outputs": [],
   "source": [
    "def get_likelihood(decoder,sigma):\n",
    "    \n",
    "  \n",
    "    def likelihood(z):\n",
    "        mean = decoder({'z':z})['x']\n",
    "        return tfd.Independent(tfd.MultivariateNormalDiag(loc=mean,scale_diag=sigma))\n",
    "\n",
    "    return likelihood"
   ]
  },
  {
   "cell_type": "code",
   "execution_count": 13,
   "metadata": {},
   "outputs": [
    {
     "name": "stdout",
     "output_type": "stream",
     "text": [
      "WARNING:tensorflow:From /global/homes/v/vboehm/.conda/envs/tf22/lib/python3.8/site-packages/tensorflow/python/ops/resource_variable_ops.py:1813: calling BaseResourceVariable.__init__ (from tensorflow.python.ops.resource_variable_ops) with constraint is deprecated and will be removed in a future version.\n",
      "Instructions for updating:\n",
      "If using Keras pass *_constraint arguments to layers.\n"
     ]
    }
   ],
   "source": [
    "z_fill        = tf.Variable(tf.zeros((params['batch_size'],params['latent_size']),tf.float32))\n",
    "\n",
    "sigma         = params['full_sigma']\n",
    "sigma         = tf.cast(sigma,tf.float32)\n",
    "\n",
    "encoder       = hub.KerasLayer(encoder_path,trainable=False, signature_outputs_as_dict=True)\n",
    "decoder       = hub.KerasLayer(generator_path, trainable=False, signature_outputs_as_dict=True)\n",
    "nvp_funcs     = hub.KerasLayer(nvp_path, trainable=False, signature_outputs_as_dict=True)\n",
    "\n",
    "likelihood    = get_likelihood(decoder,sigma)"
   ]
  },
  {
   "cell_type": "code",
   "execution_count": 14,
   "metadata": {
    "colab": {
     "base_uri": "https://localhost:8080/",
     "height": 160
    },
    "colab_type": "code",
    "id": "yvTEYw44O_5q",
    "outputId": "898dcdf7-f38f-4dae-a3aa-4f32a487f0ae"
   },
   "outputs": [],
   "source": [
    "def get_encoded(x):\n",
    "    return encoder({'x':x})['z']\n",
    "\n",
    "def get_decoded(z):\n",
    "    return decoder({'z':z})['x']\n",
    "\n",
    "def likelihood_eval(z,x,likelihood):\n",
    "    likelihood    = likelihood(z).log_prob(x)\n",
    "    return likelihood\n",
    "\n",
    "def prior_eval(z,nvp_funcs=nvp_funcs):\n",
    "    prior         = nvp_funcs({'z_sample':z,'sample_size':1, 'u_sample':np.zeros((1,params['latent_size']))})['log_prob']\n",
    "    return prior\n",
    "\n",
    "def posterior_eval(z,x,likelihood, nvp_funcs):\n",
    "    likelihood   = likelihood_eval(z,x,likelihood)\n",
    "    prior        = get_prior(params['latent_size'])\n",
    "    prior        = prior_eval(z, nvp_funcs)\n",
    "    logprob      = likelihood+prior\n",
    "    return logprob\n",
    "\n",
    "def logp(z,x=x_valid[0:16], negative=False):\n",
    "\n",
    "    z_fill[0].assign(z)\n",
    "    z_  = tf.convert_to_tensor(z_fill)\n",
    "    \n",
    "    log_p         = posterior_eval(z_,x,likelihood,nvp_funcs)\n",
    "    if negative:\n",
    "        log_p = -log_p\n",
    "\n",
    "    return log_p[0]\n",
    "\n",
    "def logp_grad(z,x=x_valid[0:16], negative=False):\n",
    "    \n",
    "\n",
    "    sigma         = params['full_sigma']\n",
    "    sigma         = tf.cast(sigma,tf.float32)\n",
    "    \n",
    "    z_fill[0].assign(z)\n",
    "    z_  = tf.convert_to_tensor(z_fill)\n",
    "    with tf.GradientTape() as tape:\n",
    "        tape.watch(z_)\n",
    "        log_p         = posterior_eval(z_,x,likelihood,nvp_funcs)\n",
    "        if negative:\n",
    "            log_p = -log_p\n",
    "    grads = tape.gradient(log_p, [z_])\n",
    "    return grads[0]"
   ]
  },
  {
   "cell_type": "markdown",
   "metadata": {},
   "source": [
    "### Minimize -logp, starting from encoded value"
   ]
  },
  {
   "cell_type": "code",
   "execution_count": 15,
   "metadata": {},
   "outputs": [],
   "source": [
    "z_ini = get_encoded(x_valid[0:16])[:,:10]"
   ]
  },
  {
   "cell_type": "code",
   "execution_count": 17,
   "metadata": {},
   "outputs": [
    {
     "data": {
      "text/plain": [
       "<tf.Tensor: shape=(), dtype=float32, numpy=1763.1522>"
      ]
     },
     "execution_count": 17,
     "metadata": {},
     "output_type": "execute_result"
    }
   ],
   "source": [
    "logp(z_ini[0],negative=False)"
   ]
  },
  {
   "cell_type": "code",
   "execution_count": 16,
   "metadata": {},
   "outputs": [
    {
     "name": "stdout",
     "output_type": "stream",
     "text": [
      "WARNING:tensorflow:Layer keras_layer_2 is casting an input tensor from dtype float64 to the layer's dtype of float32, which is new behavior in TensorFlow 2.  The layer has dtype float32 because it's dtype defaults to floatx.\n",
      "\n",
      "If you intended to run this layer in float32, you can safely ignore this warning. If in doubt, this warning is likely only an issue if you are porting a TensorFlow 1.X model to TensorFlow 2.\n",
      "\n",
      "To change all layers to have dtype float64 by default, call `tf.keras.backend.set_floatx('float64')`. To change just this layer, pass dtype='float64' to the layer constructor. If you are the author of this layer, you can disable autocasting by passing autocast=False to the base Layer constructor.\n",
      "\n"
     ]
    },
    {
     "data": {
      "text/plain": [
       "<tf.Tensor: shape=(16, 10), dtype=float32, numpy=\n",
       "array([[ 7.84890137e+01,  7.77921982e+01,  5.30694885e+01,\n",
       "        -6.32094345e+01, -4.05722160e+01, -2.25107384e+01,\n",
       "         1.20050163e+01, -4.65365410e+00, -4.44403038e+01,\n",
       "         2.75073318e+01],\n",
       "       [-7.59744415e+01, -1.10177132e+02, -2.94932983e+02,\n",
       "        -2.99275208e+01,  2.24224548e+02, -3.34789001e+02,\n",
       "         1.09502335e+02,  2.23677155e+02,  2.08214371e+02,\n",
       "        -1.77685120e+02],\n",
       "       [-6.87870102e+01, -8.15668716e+01,  3.97228668e+02,\n",
       "        -2.63767914e+02,  9.93178177e+01, -1.31778145e+01,\n",
       "        -3.24331024e+02, -3.29805145e+01, -2.09026505e+02,\n",
       "         4.19897690e+01],\n",
       "       [-3.61163378e-01, -1.93864655e+02, -2.99768677e+02,\n",
       "         2.93321190e+01,  1.22860413e+02, -3.25910339e+02,\n",
       "         7.01234665e+01, -1.93872681e+02, -2.25574493e+02,\n",
       "        -8.09570694e+01],\n",
       "       [-2.13618908e+01, -1.96118530e+02,  2.71945465e+02,\n",
       "        -1.40682205e+02, -1.40804718e+02,  9.46836472e+01,\n",
       "        -1.37891129e+02, -9.62228165e+01,  1.07009056e+02,\n",
       "         2.96251202e+01],\n",
       "       [-2.95842194e+02, -3.05600555e+02, -1.24055433e+01,\n",
       "        -1.49131042e+02, -3.77029915e+01, -2.80605896e+02,\n",
       "         2.56702843e+01, -1.53030029e+02, -1.64471680e+02,\n",
       "        -2.84909180e+02],\n",
       "       [-1.23883562e+01, -1.17624252e+02,  1.09522560e+02,\n",
       "         3.20960693e+02, -2.44891983e+02, -2.76195282e+02,\n",
       "         8.80020599e+01, -1.83256302e+02,  2.40303238e+02,\n",
       "         1.81299698e+02],\n",
       "       [ 3.42942322e+02,  6.86252670e+01,  1.20119568e+02,\n",
       "        -2.37112106e+02, -2.98853485e+02, -2.42913422e+02,\n",
       "        -3.84019165e+02,  9.13816681e+01, -1.06255398e+01,\n",
       "        -3.38029144e+02],\n",
       "       [ 3.66441917e+01, -2.93828796e+02, -2.56187725e+00,\n",
       "        -1.59680420e+02,  1.62451324e+02, -2.49015152e+02,\n",
       "        -1.39590393e+02,  1.23243492e+02, -8.06027412e+00,\n",
       "        -3.79170929e+02],\n",
       "       [-2.98387146e+02, -2.37259750e+02, -1.05398376e+02,\n",
       "        -1.45827530e+02,  3.04855423e+01, -2.89854767e+02,\n",
       "         2.23339787e+01, -6.32353897e+01, -3.31623169e+02,\n",
       "        -3.17544403e+02],\n",
       "       [ 9.49396896e+01, -4.17327332e+02, -3.92564819e+02,\n",
       "        -2.09475994e-01,  1.39531815e+02, -2.63116486e+02,\n",
       "         1.77189316e+02, -2.59982719e+01, -4.08415253e+02,\n",
       "         3.41726723e+01],\n",
       "       [-5.05450401e+01, -2.31523376e+02, -7.22590942e+01,\n",
       "        -5.17632866e+01,  5.37490112e+02,  7.24837189e+01,\n",
       "         7.36034927e+01, -9.22332458e+01, -2.00358337e+02,\n",
       "        -1.17171585e+02],\n",
       "       [ 6.66348999e+02,  1.39579716e+01,  1.86716705e+02,\n",
       "         1.18024841e+02,  7.68050146e+00, -3.71671600e+01,\n",
       "        -1.74679932e+02,  1.72253433e+02,  4.42975830e+02,\n",
       "        -6.26953468e+01],\n",
       "       [ 1.07203074e+01,  1.33300034e+02, -4.51936401e+02,\n",
       "         1.61774902e+02,  1.98986511e+02, -2.55978149e+02,\n",
       "         1.98105453e+02, -6.31414642e+01,  3.26805542e+02,\n",
       "         6.41193008e+01],\n",
       "       [ 1.94639175e+02, -3.88453491e+02, -1.37828110e+02,\n",
       "         3.50756104e+02,  4.03135223e+02,  2.82176247e+01,\n",
       "        -6.45454102e+01, -6.01893311e+01, -1.16843475e+02,\n",
       "        -1.05505428e+01],\n",
       "       [ 9.67183609e+01,  3.85310402e+01, -5.08469513e+02,\n",
       "         3.19201538e+02,  5.48605156e+01,  1.77309052e+02,\n",
       "         3.35756104e+02, -1.41794632e+02,  2.94896912e+02,\n",
       "         4.35338440e+02]], dtype=float32)>"
      ]
     },
     "execution_count": 16,
     "metadata": {},
     "output_type": "execute_result"
    }
   ],
   "source": [
    "logp_grad(z_ini[0],negative=False)"
   ]
  },
  {
   "cell_type": "code",
   "execution_count": 20,
   "metadata": {},
   "outputs": [
    {
     "name": "stderr",
     "output_type": "stream",
     "text": [
      "  0%|          | 0/300 [00:00<?, ?it/s]"
     ]
    },
    {
     "name": "stdout",
     "output_type": "stream",
     "text": [
      "WARNING:tensorflow:Layer keras_layer_8 is casting an input tensor from dtype float64 to the layer's dtype of float32, which is new behavior in TensorFlow 2.  The layer has dtype float32 because it's dtype defaults to floatx.\n",
      "\n",
      "If you intended to run this layer in float32, you can safely ignore this warning. If in doubt, this warning is likely only an issue if you are porting a TensorFlow 1.X model to TensorFlow 2.\n",
      "\n",
      "To change all layers to have dtype float64 by default, call `tf.keras.backend.set_floatx('float64')`. To change just this layer, pass dtype='float64' to the layer constructor. If you are the author of this layer, you can disable autocasting by passing autocast=False to the base Layer constructor.\n",
      "\n"
     ]
    },
    {
     "name": "stderr",
     "output_type": "stream",
     "text": [
      "100%|██████████| 300/300 [00:40<00:00,  7.40it/s]\n"
     ]
    }
   ],
   "source": [
    "optimizer = tf.keras.optimizers.Adam(learning_rate=0.001)\n",
    "z_var     = tf.Variable(z_ini[0])\n",
    "losses    = []\n",
    "z         = z_ini[0]\n",
    "for iteration in tqdm(range(300)):\n",
    "    grads = logp_grad(z,negative=True)\n",
    "    loss  = logp(z,negative=True)\n",
    "    optimizer.apply_gradients(zip(grads, [z_var]))\n",
    "    z           = tf.convert_to_tensor(z_var)\n",
    "    losses.append(loss)"
   ]
  },
  {
   "cell_type": "code",
   "execution_count": 21,
   "metadata": {},
   "outputs": [
    {
     "data": {
      "text/plain": [
       "[<matplotlib.lines.Line2D at 0x2ac5d6864370>]"
      ]
     },
     "execution_count": 21,
     "metadata": {},
     "output_type": "execute_result"
    },
    {
     "name": "stderr",
     "output_type": "stream",
     "text": [
      "findfont: Font family ['lmodern'] not found. Falling back to DejaVu Sans.\n"
     ]
    },
    {
     "data": {
      "image/png": "[encoded data removed]",
      "text/plain": [
       "<Figure size 432x288 with 1 Axes>"
      ]
     },
     "metadata": {
      "needs_background": "light"
     },
     "output_type": "display_data"
    }
   ],
   "source": [
    "losses = np.asarray(losses)\n",
    "plt.plot(losses)"
   ]
  },
  {
   "cell_type": "code",
   "execution_count": 22,
   "metadata": {},
   "outputs": [],
   "source": [
    "def build_container(z):\n",
    "    filler = np.zeros((params['batch_size'],len(z)))\n",
    "    filler[0] = z\n",
    "    return filler"
   ]
  },
  {
   "cell_type": "code",
   "execution_count": 23,
   "metadata": {},
   "outputs": [
    {
     "name": "stdout",
     "output_type": "stream",
     "text": [
      "WARNING:tensorflow:Layer keras_layer_7 is casting an input tensor from dtype float64 to the layer's dtype of float32, which is new behavior in TensorFlow 2.  The layer has dtype float32 because it's dtype defaults to floatx.\n",
      "\n",
      "If you intended to run this layer in float32, you can safely ignore this warning. If in doubt, this warning is likely only an issue if you are porting a TensorFlow 1.X model to TensorFlow 2.\n",
      "\n",
      "To change all layers to have dtype float64 by default, call `tf.keras.backend.set_floatx('float64')`. To change just this layer, pass dtype='float64' to the layer constructor. If you are the author of this layer, you can disable autocasting by passing autocast=False to the base Layer constructor.\n",
      "\n"
     ]
    }
   ],
   "source": [
    "x_esti = np.reshape(get_decoded(build_container(z))[0], (28,28))\n",
    "x_ini  = np.reshape(get_decoded(z_ini)[0], (28,28))"
   ]
  },
  {
   "cell_type": "code",
   "execution_count": 24,
   "metadata": {
    "colab": {},
    "colab_type": "code",
    "id": "Tts2_qqiZLUR"
   },
   "outputs": [
    {
     "data": {
      "image/png": "[encoded data removed]",
      "text/plain": [
       "<Figure size 432x288 with 1 Axes>"
      ]
     },
     "metadata": {
      "needs_background": "light"
     },
     "output_type": "display_data"
    },
    {
     "data": {
      "image/png": "[encoded data removed]",
      "text/plain": [
       "<Figure size 432x288 with 1 Axes>"
      ]
     },
     "metadata": {
      "needs_background": "light"
     },
     "output_type": "display_data"
    },
    {
     "data": {
      "image/png": "[encoded data removed]",
      "text/plain": [
       "<Figure size 432x288 with 1 Axes>"
      ]
     },
     "metadata": {
      "needs_background": "light"
     },
     "output_type": "display_data"
    },
    {
     "data": {
      "image/png": "[encoded data removed]",
      "text/plain": [
       "<Figure size 432x288 with 1 Axes>"
      ]
     },
     "metadata": {
      "needs_background": "light"
     },
     "output_type": "display_data"
    },
    {
     "data": {
      "image/png": "[encoded data removed]",
      "text/plain": [
       "<Figure size 432x288 with 1 Axes>"
      ]
     },
     "metadata": {
      "needs_background": "light"
     },
     "output_type": "display_data"
    },
    {
     "data": {
      "image/png": "[encoded data removed]",
      "text/plain": [
       "<Figure size 432x288 with 1 Axes>"
      ]
     },
     "metadata": {
      "needs_background": "light"
     },
     "output_type": "display_data"
    }
   ],
   "source": [
    "plt.title('best estimate')\n",
    "plt.imshow(np.reshape(x_esti, (28,28)))\n",
    "plt.axis('off')\n",
    "plt.show()\n",
    "plt.title('encoded')\n",
    "plt.imshow(np.reshape(x_ini,(28,28)))\n",
    "plt.axis('off')\n",
    "plt.show()\n",
    "plt.title('truth')\n",
    "plt.imshow(x_valid[0].reshape(28,28))\n",
    "plt.axis('off')\n",
    "plt.show()\n",
    "plt.title('truth-best estimate')\n",
    "plt.imshow(x_valid[0].reshape(28,28)-x_esti.reshape(28,28))\n",
    "plt.axis('off')\n",
    "plt.show()\n",
    "plt.title('truth-encoded')\n",
    "plt.imshow(x_valid[0].reshape(28,28)-x_ini.reshape(28,28))\n",
    "plt.axis('off')\n",
    "plt.show()\n",
    "plt.title('encoded-best estimate')\n",
    "plt.imshow(x_ini.reshape(28,28)-x_esti.reshape(28,28))\n",
    "plt.axis('off')\n",
    "plt.show()"
   ]
  },
  {
   "cell_type": "code",
   "execution_count": 158,
   "metadata": {},
   "outputs": [],
   "source": [
    "import bayesfast as bf"
   ]
  },
  {
   "cell_type": "code",
   "execution_count": 25,
   "metadata": {},
   "outputs": [],
   "source": [
    "den = bf.DensityLite(logp=logp, grad=logp_grad, input_size=10, hard_bounds=False)"
   ]
  },
  {
   "cell_type": "code",
   "execution_count": 170,
   "metadata": {},
   "outputs": [
    {
     "name": "stdout",
     "output_type": "stream",
     "text": [
      "WARNING:tensorflow:Layer keras_layer_97 is casting an input tensor from dtype float64 to the layer's dtype of float32, which is new behavior in TensorFlow 2.  The layer has dtype float32 because it's dtype defaults to floatx.\n",
      "\n",
      "If you intended to run this layer in float32, you can safely ignore this warning. If in doubt, this warning is likely only an issue if you are porting a TensorFlow 1.X model to TensorFlow 2.\n",
      "\n",
      "To change all layers to have dtype float64 by default, call `tf.keras.backend.set_floatx('float64')`. To change just this layer, pass dtype='float64' to the layer constructor. If you are the author of this layer, you can disable autocasting by passing autocast=False to the base Layer constructor.\n",
      "\n"
     ]
    },
    {
     "data": {
      "text/plain": [
       "<tf.Tensor: shape=(), dtype=float32, numpy=1763.1522>"
      ]
     },
     "execution_count": 170,
     "metadata": {},
     "output_type": "execute_result"
    }
   ],
   "source": [
    "logp(z_ini[0])"
   ]
  },
  {
   "cell_type": "code",
   "execution_count": 171,
   "metadata": {},
   "outputs": [
    {
     "ename": "KeyboardInterrupt",
     "evalue": "",
     "output_type": "error",
     "traceback": [
      "\u001b[0;31m---------------------------------------------------------------------------\u001b[0m",
      "\u001b[0;31mKeyboardInterrupt\u001b[0m                         Traceback (most recent call last)",
      "\u001b[0;32m<ipython-input-171-af09e4d9b55f>\u001b[0m in \u001b[0;36m<module>\u001b[0;34m\u001b[0m\n\u001b[1;32m      1\u001b[0m \u001b[0;32mimport\u001b[0m \u001b[0mmultiprocess\u001b[0m\u001b[0;34m\u001b[0m\u001b[0;34m\u001b[0m\u001b[0m\n\u001b[1;32m      2\u001b[0m \u001b[0;32mwith\u001b[0m \u001b[0mmultiprocess\u001b[0m\u001b[0;34m.\u001b[0m\u001b[0mPool\u001b[0m\u001b[0;34m(\u001b[0m\u001b[0;36m4\u001b[0m\u001b[0;34m)\u001b[0m \u001b[0;32mas\u001b[0m \u001b[0mpool\u001b[0m\u001b[0;34m:\u001b[0m\u001b[0;34m\u001b[0m\u001b[0;34m\u001b[0m\u001b[0m\n\u001b[0;32m----> 3\u001b[0;31m     \u001b[0mfoo\u001b[0m \u001b[0;34m=\u001b[0m \u001b[0mpool\u001b[0m\u001b[0;34m.\u001b[0m\u001b[0mmap\u001b[0m\u001b[0;34m(\u001b[0m\u001b[0mlogp\u001b[0m\u001b[0;34m,\u001b[0m \u001b[0;34m[\u001b[0m\u001b[0mz_ini\u001b[0m\u001b[0;34m[\u001b[0m\u001b[0;36m0\u001b[0m\u001b[0;34m]\u001b[0m\u001b[0;34m,\u001b[0m \u001b[0mz_ini\u001b[0m\u001b[0;34m[\u001b[0m\u001b[0;36m0\u001b[0m\u001b[0;34m]\u001b[0m\u001b[0;34m,\u001b[0m\u001b[0mz_ini\u001b[0m\u001b[0;34m[\u001b[0m\u001b[0;36m0\u001b[0m\u001b[0;34m]\u001b[0m\u001b[0;34m,\u001b[0m \u001b[0mz_ini\u001b[0m\u001b[0;34m[\u001b[0m\u001b[0;36m0\u001b[0m\u001b[0;34m]\u001b[0m\u001b[0;34m]\u001b[0m\u001b[0;34m)\u001b[0m\u001b[0;34m\u001b[0m\u001b[0;34m\u001b[0m\u001b[0m\n\u001b[0m",
      "\u001b[0;32m~/.conda/envs/tf22/lib/python3.8/site-packages/multiprocess/pool.py\u001b[0m in \u001b[0;36mmap\u001b[0;34m(self, func, iterable, chunksize)\u001b[0m\n\u001b[1;32m    362\u001b[0m         \u001b[0;32min\u001b[0m \u001b[0ma\u001b[0m \u001b[0mlist\u001b[0m \u001b[0mthat\u001b[0m \u001b[0;32mis\u001b[0m \u001b[0mreturned\u001b[0m\u001b[0;34m.\u001b[0m\u001b[0;34m\u001b[0m\u001b[0;34m\u001b[0m\u001b[0m\n\u001b[1;32m    363\u001b[0m         '''\n\u001b[0;32m--> 364\u001b[0;31m         \u001b[0;32mreturn\u001b[0m \u001b[0mself\u001b[0m\u001b[0;34m.\u001b[0m\u001b[0m_map_async\u001b[0m\u001b[0;34m(\u001b[0m\u001b[0mfunc\u001b[0m\u001b[0;34m,\u001b[0m \u001b[0miterable\u001b[0m\u001b[0;34m,\u001b[0m \u001b[0mmapstar\u001b[0m\u001b[0;34m,\u001b[0m \u001b[0mchunksize\u001b[0m\u001b[0;34m)\u001b[0m\u001b[0;34m.\u001b[0m\u001b[0mget\u001b[0m\u001b[0;34m(\u001b[0m\u001b[0;34m)\u001b[0m\u001b[0;34m\u001b[0m\u001b[0;34m\u001b[0m\u001b[0m\n\u001b[0m\u001b[1;32m    365\u001b[0m \u001b[0;34m\u001b[0m\u001b[0m\n\u001b[1;32m    366\u001b[0m     \u001b[0;32mdef\u001b[0m \u001b[0mstarmap\u001b[0m\u001b[0;34m(\u001b[0m\u001b[0mself\u001b[0m\u001b[0;34m,\u001b[0m \u001b[0mfunc\u001b[0m\u001b[0;34m,\u001b[0m \u001b[0miterable\u001b[0m\u001b[0;34m,\u001b[0m \u001b[0mchunksize\u001b[0m\u001b[0;34m=\u001b[0m\u001b[0;32mNone\u001b[0m\u001b[0;34m)\u001b[0m\u001b[0;34m:\u001b[0m\u001b[0;34m\u001b[0m\u001b[0;34m\u001b[0m\u001b[0m\n",
      "\u001b[0;32m~/.conda/envs/tf22/lib/python3.8/site-packages/multiprocess/pool.py\u001b[0m in \u001b[0;36mget\u001b[0;34m(self, timeout)\u001b[0m\n\u001b[1;32m    763\u001b[0m \u001b[0;34m\u001b[0m\u001b[0m\n\u001b[1;32m    764\u001b[0m     \u001b[0;32mdef\u001b[0m \u001b[0mget\u001b[0m\u001b[0;34m(\u001b[0m\u001b[0mself\u001b[0m\u001b[0;34m,\u001b[0m \u001b[0mtimeout\u001b[0m\u001b[0;34m=\u001b[0m\u001b[0;32mNone\u001b[0m\u001b[0;34m)\u001b[0m\u001b[0;34m:\u001b[0m\u001b[0;34m\u001b[0m\u001b[0;34m\u001b[0m\u001b[0m\n\u001b[0;32m--> 765\u001b[0;31m         \u001b[0mself\u001b[0m\u001b[0;34m.\u001b[0m\u001b[0mwait\u001b[0m\u001b[0;34m(\u001b[0m\u001b[0mtimeout\u001b[0m\u001b[0;34m)\u001b[0m\u001b[0;34m\u001b[0m\u001b[0;34m\u001b[0m\u001b[0m\n\u001b[0m\u001b[1;32m    766\u001b[0m         \u001b[0;32mif\u001b[0m \u001b[0;32mnot\u001b[0m \u001b[0mself\u001b[0m\u001b[0;34m.\u001b[0m\u001b[0mready\u001b[0m\u001b[0;34m(\u001b[0m\u001b[0;34m)\u001b[0m\u001b[0;34m:\u001b[0m\u001b[0;34m\u001b[0m\u001b[0;34m\u001b[0m\u001b[0m\n\u001b[1;32m    767\u001b[0m             \u001b[0;32mraise\u001b[0m \u001b[0mTimeoutError\u001b[0m\u001b[0;34m\u001b[0m\u001b[0;34m\u001b[0m\u001b[0m\n",
      "\u001b[0;32m~/.conda/envs/tf22/lib/python3.8/site-packages/multiprocess/pool.py\u001b[0m in \u001b[0;36mwait\u001b[0;34m(self, timeout)\u001b[0m\n\u001b[1;32m    760\u001b[0m \u001b[0;34m\u001b[0m\u001b[0m\n\u001b[1;32m    761\u001b[0m     \u001b[0;32mdef\u001b[0m \u001b[0mwait\u001b[0m\u001b[0;34m(\u001b[0m\u001b[0mself\u001b[0m\u001b[0;34m,\u001b[0m \u001b[0mtimeout\u001b[0m\u001b[0;34m=\u001b[0m\u001b[0;32mNone\u001b[0m\u001b[0;34m)\u001b[0m\u001b[0;34m:\u001b[0m\u001b[0;34m\u001b[0m\u001b[0;34m\u001b[0m\u001b[0m\n\u001b[0;32m--> 762\u001b[0;31m         \u001b[0mself\u001b[0m\u001b[0;34m.\u001b[0m\u001b[0m_event\u001b[0m\u001b[0;34m.\u001b[0m\u001b[0mwait\u001b[0m\u001b[0;34m(\u001b[0m\u001b[0mtimeout\u001b[0m\u001b[0;34m)\u001b[0m\u001b[0;34m\u001b[0m\u001b[0;34m\u001b[0m\u001b[0m\n\u001b[0m\u001b[1;32m    763\u001b[0m \u001b[0;34m\u001b[0m\u001b[0m\n\u001b[1;32m    764\u001b[0m     \u001b[0;32mdef\u001b[0m \u001b[0mget\u001b[0m\u001b[0;34m(\u001b[0m\u001b[0mself\u001b[0m\u001b[0;34m,\u001b[0m \u001b[0mtimeout\u001b[0m\u001b[0;34m=\u001b[0m\u001b[0;32mNone\u001b[0m\u001b[0;34m)\u001b[0m\u001b[0;34m:\u001b[0m\u001b[0;34m\u001b[0m\u001b[0;34m\u001b[0m\u001b[0m\n",
      "\u001b[0;32m~/.conda/envs/tf22/lib/python3.8/threading.py\u001b[0m in \u001b[0;36mwait\u001b[0;34m(self, timeout)\u001b[0m\n\u001b[1;32m    556\u001b[0m             \u001b[0msignaled\u001b[0m \u001b[0;34m=\u001b[0m \u001b[0mself\u001b[0m\u001b[0;34m.\u001b[0m\u001b[0m_flag\u001b[0m\u001b[0;34m\u001b[0m\u001b[0;34m\u001b[0m\u001b[0m\n\u001b[1;32m    557\u001b[0m             \u001b[0;32mif\u001b[0m \u001b[0;32mnot\u001b[0m \u001b[0msignaled\u001b[0m\u001b[0;34m:\u001b[0m\u001b[0;34m\u001b[0m\u001b[0;34m\u001b[0m\u001b[0m\n\u001b[0;32m--> 558\u001b[0;31m                 \u001b[0msignaled\u001b[0m \u001b[0;34m=\u001b[0m \u001b[0mself\u001b[0m\u001b[0;34m.\u001b[0m\u001b[0m_cond\u001b[0m\u001b[0;34m.\u001b[0m\u001b[0mwait\u001b[0m\u001b[0;34m(\u001b[0m\u001b[0mtimeout\u001b[0m\u001b[0;34m)\u001b[0m\u001b[0;34m\u001b[0m\u001b[0;34m\u001b[0m\u001b[0m\n\u001b[0m\u001b[1;32m    559\u001b[0m             \u001b[0;32mreturn\u001b[0m \u001b[0msignaled\u001b[0m\u001b[0;34m\u001b[0m\u001b[0;34m\u001b[0m\u001b[0m\n\u001b[1;32m    560\u001b[0m \u001b[0;34m\u001b[0m\u001b[0m\n",
      "\u001b[0;32m~/.conda/envs/tf22/lib/python3.8/threading.py\u001b[0m in \u001b[0;36mwait\u001b[0;34m(self, timeout)\u001b[0m\n\u001b[1;32m    300\u001b[0m         \u001b[0;32mtry\u001b[0m\u001b[0;34m:\u001b[0m    \u001b[0;31m# restore state no matter what (e.g., KeyboardInterrupt)\u001b[0m\u001b[0;34m\u001b[0m\u001b[0;34m\u001b[0m\u001b[0m\n\u001b[1;32m    301\u001b[0m             \u001b[0;32mif\u001b[0m \u001b[0mtimeout\u001b[0m \u001b[0;32mis\u001b[0m \u001b[0;32mNone\u001b[0m\u001b[0;34m:\u001b[0m\u001b[0;34m\u001b[0m\u001b[0;34m\u001b[0m\u001b[0m\n\u001b[0;32m--> 302\u001b[0;31m                 \u001b[0mwaiter\u001b[0m\u001b[0;34m.\u001b[0m\u001b[0macquire\u001b[0m\u001b[0;34m(\u001b[0m\u001b[0;34m)\u001b[0m\u001b[0;34m\u001b[0m\u001b[0;34m\u001b[0m\u001b[0m\n\u001b[0m\u001b[1;32m    303\u001b[0m                 \u001b[0mgotit\u001b[0m \u001b[0;34m=\u001b[0m \u001b[0;32mTrue\u001b[0m\u001b[0;34m\u001b[0m\u001b[0;34m\u001b[0m\u001b[0m\n\u001b[1;32m    304\u001b[0m             \u001b[0;32melse\u001b[0m\u001b[0;34m:\u001b[0m\u001b[0;34m\u001b[0m\u001b[0;34m\u001b[0m\u001b[0m\n",
      "\u001b[0;31mKeyboardInterrupt\u001b[0m: "
     ]
    }
   ],
   "source": [
    "import multiprocess\n",
    "with multiprocess.Pool(4) as pool:\n",
    "    foo = pool.map(logp, [z_ini[0], z_ini[0],z_ini[0], z_ini[0]])"
   ]
  },
  {
   "cell_type": "code",
   "execution_count": 27,
   "metadata": {},
   "outputs": [],
   "source": [
    "sampling_params = dict(n_chain=1, n_iter=100, n_warmup=10, x_0=z_ini[0],\n",
    "                 random_generator=None, step_size=1e-6, adapt_step_size=False,\n",
    "                 metric='diag', adapt_metric=False, max_change=1000.,\n",
    "                 target_accept=0.6, gamma=0.05, k=0.75, t_0=10.,\n",
    "                 initial_mean=None, initial_weight=1., adapt_window=60,\n",
    "                 update_window=1, doubling=True)"
   ]
  },
  {
   "cell_type": "code",
   "execution_count": 28,
   "metadata": {},
   "outputs": [
    {
     "ename": "TypeError",
     "evalue": "An op outside of the function building code is being passed\na \"Graph\" tensor. It is possible to have Graph tensors\nleak out of the function building context by including a\ntf.init_scope in your function building code.\nFor example, the following function will fail:\n  @tf.function\n  def has_init_scope():\n    my_constant = tf.constant(1.)\n    with tf.init_scope():\n      added = my_constant * 2\nThe graph tensor has name: perm_swap0:0",
     "output_type": "error",
     "traceback": [
      "\u001b[0;31m---------------------------------------------------------------------------\u001b[0m",
      "\u001b[0;31m_FallbackException\u001b[0m                        Traceback (most recent call last)",
      "\u001b[0;32m~/.conda/envs/tf22/lib/python3.8/site-packages/tensorflow/python/ops/gen_resource_variable_ops.py\u001b[0m in \u001b[0;36mread_variable_op\u001b[0;34m(resource, dtype, name)\u001b[0m\n\u001b[1;32m    467\u001b[0m     \u001b[0;32mtry\u001b[0m\u001b[0;34m:\u001b[0m\u001b[0;34m\u001b[0m\u001b[0;34m\u001b[0m\u001b[0m\n\u001b[0;32m--> 468\u001b[0;31m       _result = pywrap_tfe.TFE_Py_FastPathExecute(\n\u001b[0m\u001b[1;32m    469\u001b[0m         \u001b[0m_ctx\u001b[0m\u001b[0;34m.\u001b[0m\u001b[0m_context_handle\u001b[0m\u001b[0;34m,\u001b[0m \u001b[0mtld\u001b[0m\u001b[0;34m.\u001b[0m\u001b[0mdevice_name\u001b[0m\u001b[0;34m,\u001b[0m \u001b[0;34m\"ReadVariableOp\"\u001b[0m\u001b[0;34m,\u001b[0m \u001b[0mname\u001b[0m\u001b[0;34m,\u001b[0m\u001b[0;34m\u001b[0m\u001b[0;34m\u001b[0m\u001b[0m\n",
      "\u001b[0;31m_FallbackException\u001b[0m: This function does not handle the case of the path where all inputs are not already EagerTensors.",
      "\nDuring handling of the above exception, another exception occurred:\n",
      "\u001b[0;31mTypeError\u001b[0m                                 Traceback (most recent call last)",
      "\u001b[0;32m<ipython-input-28-c860b4b336f4>\u001b[0m in \u001b[0;36m<module>\u001b[0;34m\u001b[0m\n\u001b[0;32m----> 1\u001b[0;31m \u001b[0mres\u001b[0m \u001b[0;34m=\u001b[0m \u001b[0mbf\u001b[0m\u001b[0;34m.\u001b[0m\u001b[0msample\u001b[0m\u001b[0;34m(\u001b[0m\u001b[0mden\u001b[0m\u001b[0;34m,\u001b[0m \u001b[0msample_trace\u001b[0m\u001b[0;34m=\u001b[0m\u001b[0msampling_params\u001b[0m\u001b[0;34m)\u001b[0m\u001b[0;34m\u001b[0m\u001b[0;34m\u001b[0m\u001b[0m\n\u001b[0m",
      "\u001b[0;32m/global/u2/v/vboehm/codes/bayesfast/bayesfast/core/sample.py\u001b[0m in \u001b[0;36msample\u001b[0;34m(density, sample_trace, sampler, n_run, parallel_backend, verbose)\u001b[0m\n\u001b[1;32m    173\u001b[0m                 \u001b[0mtt\u001b[0m \u001b[0;34m=\u001b[0m \u001b[0mparallel_backend\u001b[0m\u001b[0;34m.\u001b[0m\u001b[0mgather\u001b[0m\u001b[0;34m(\u001b[0m\u001b[0mfoo\u001b[0m\u001b[0;34m)\u001b[0m\u001b[0;34m\u001b[0m\u001b[0;34m\u001b[0m\u001b[0m\n\u001b[1;32m    174\u001b[0m             \u001b[0;32melse\u001b[0m\u001b[0;34m:\u001b[0m\u001b[0;34m\u001b[0m\u001b[0;34m\u001b[0m\u001b[0m\n\u001b[0;32m--> 175\u001b[0;31m                 tt = parallel_backend.map(\n\u001b[0m\u001b[1;32m    176\u001b[0m                     \u001b[0m_sampler_worker\u001b[0m\u001b[0;34m,\u001b[0m \u001b[0mrange\u001b[0m\u001b[0;34m(\u001b[0m\u001b[0msample_trace\u001b[0m\u001b[0;34m.\u001b[0m\u001b[0mn_chain\u001b[0m\u001b[0;34m)\u001b[0m\u001b[0;34m,\u001b[0m\u001b[0;34m\u001b[0m\u001b[0;34m\u001b[0m\u001b[0m\n\u001b[1;32m    177\u001b[0m                     [eval(sampler)] * sample_trace.n_chain)\n",
      "\u001b[0;32m/global/u2/v/vboehm/codes/bayesfast/bayesfast/utils/parallel.py\u001b[0m in \u001b[0;36mmap\u001b[0;34m(self, fun, *iters)\u001b[0m\n\u001b[1;32m    135\u001b[0m             \u001b[0;32mreturn\u001b[0m \u001b[0mself\u001b[0m\u001b[0;34m.\u001b[0m\u001b[0mbackend_activated\u001b[0m\u001b[0;34m.\u001b[0m\u001b[0mstarmap\u001b[0m\u001b[0;34m(\u001b[0m\u001b[0mfun\u001b[0m\u001b[0;34m,\u001b[0m \u001b[0mzip\u001b[0m\u001b[0;34m(\u001b[0m\u001b[0;34m*\u001b[0m\u001b[0miters\u001b[0m\u001b[0;34m)\u001b[0m\u001b[0;34m)\u001b[0m\u001b[0;34m\u001b[0m\u001b[0;34m\u001b[0m\u001b[0m\n\u001b[1;32m    136\u001b[0m         \u001b[0;32melif\u001b[0m \u001b[0mHAS_RAY\u001b[0m \u001b[0;32mand\u001b[0m \u001b[0misinstance\u001b[0m\u001b[0;34m(\u001b[0m\u001b[0mself\u001b[0m\u001b[0;34m.\u001b[0m\u001b[0mbackend_activated\u001b[0m\u001b[0;34m,\u001b[0m \u001b[0mRayPool\u001b[0m\u001b[0;34m)\u001b[0m\u001b[0;34m:\u001b[0m\u001b[0;34m\u001b[0m\u001b[0;34m\u001b[0m\u001b[0m\n\u001b[0;32m--> 137\u001b[0;31m             \u001b[0;32mreturn\u001b[0m \u001b[0mself\u001b[0m\u001b[0;34m.\u001b[0m\u001b[0mbackend_activated\u001b[0m\u001b[0;34m.\u001b[0m\u001b[0mstarmap\u001b[0m\u001b[0;34m(\u001b[0m\u001b[0mfun\u001b[0m\u001b[0;34m,\u001b[0m \u001b[0mlist\u001b[0m\u001b[0;34m(\u001b[0m\u001b[0mzip\u001b[0m\u001b[0;34m(\u001b[0m\u001b[0;34m*\u001b[0m\u001b[0miters\u001b[0m\u001b[0;34m)\u001b[0m\u001b[0;34m)\u001b[0m\u001b[0;34m)\u001b[0m\u001b[0;34m\u001b[0m\u001b[0;34m\u001b[0m\u001b[0m\n\u001b[0m\u001b[1;32m    138\u001b[0m             \u001b[0;31m# https://github.com/ray-project/ray/issues/11451\u001b[0m\u001b[0;34m\u001b[0m\u001b[0;34m\u001b[0m\u001b[0;34m\u001b[0m\u001b[0m\n\u001b[1;32m    139\u001b[0m             \u001b[0;31m# that's why I need to explicitly convert it to a list for now\u001b[0m\u001b[0;34m\u001b[0m\u001b[0;34m\u001b[0m\u001b[0;34m\u001b[0m\u001b[0m\n",
      "\u001b[0;32m~/.conda/envs/tf22/lib/python3.8/site-packages/ray/util/multiprocessing/pool.py\u001b[0m in \u001b[0;36mstarmap\u001b[0;34m(self, func, iterable, chunksize)\u001b[0m\n\u001b[1;32m    582\u001b[0m         \"\"\"\n\u001b[1;32m    583\u001b[0m \u001b[0;34m\u001b[0m\u001b[0m\n\u001b[0;32m--> 584\u001b[0;31m         return self._map_async(\n\u001b[0m\u001b[1;32m    585\u001b[0m             func, iterable, chunksize=chunksize, unpack_args=True).get()\n\u001b[1;32m    586\u001b[0m \u001b[0;34m\u001b[0m\u001b[0m\n",
      "\u001b[0;32m~/.conda/envs/tf22/lib/python3.8/site-packages/ray/util/multiprocessing/pool.py\u001b[0m in \u001b[0;36m_map_async\u001b[0;34m(self, func, iterable, chunksize, unpack_args, callback, error_callback)\u001b[0m\n\u001b[1;32m    522\u001b[0m                    error_callback=None):\n\u001b[1;32m    523\u001b[0m         \u001b[0mself\u001b[0m\u001b[0;34m.\u001b[0m\u001b[0m_check_running\u001b[0m\u001b[0;34m(\u001b[0m\u001b[0;34m)\u001b[0m\u001b[0;34m\u001b[0m\u001b[0;34m\u001b[0m\u001b[0m\n\u001b[0;32m--> 524\u001b[0;31m         object_refs = self._chunk_and_run(\n\u001b[0m\u001b[1;32m    525\u001b[0m             func, iterable, chunksize=chunksize, unpack_args=unpack_args)\n\u001b[1;32m    526\u001b[0m         \u001b[0;32mreturn\u001b[0m \u001b[0mAsyncResult\u001b[0m\u001b[0;34m(\u001b[0m\u001b[0mobject_refs\u001b[0m\u001b[0;34m,\u001b[0m \u001b[0mcallback\u001b[0m\u001b[0;34m,\u001b[0m \u001b[0merror_callback\u001b[0m\u001b[0;34m)\u001b[0m\u001b[0;34m\u001b[0m\u001b[0;34m\u001b[0m\u001b[0m\n",
      "\u001b[0;32m~/.conda/envs/tf22/lib/python3.8/site-packages/ray/util/multiprocessing/pool.py\u001b[0m in \u001b[0;36m_chunk_and_run\u001b[0;34m(self, func, iterable, chunksize, unpack_args)\u001b[0m\n\u001b[1;32m    505\u001b[0m             \u001b[0mactor_index\u001b[0m \u001b[0;34m=\u001b[0m \u001b[0mlen\u001b[0m\u001b[0;34m(\u001b[0m\u001b[0mchunk_object_refs\u001b[0m\u001b[0;34m)\u001b[0m \u001b[0;34m%\u001b[0m \u001b[0mlen\u001b[0m\u001b[0;34m(\u001b[0m\u001b[0mself\u001b[0m\u001b[0;34m.\u001b[0m\u001b[0m_actor_pool\u001b[0m\u001b[0;34m)\u001b[0m\u001b[0;34m\u001b[0m\u001b[0;34m\u001b[0m\u001b[0m\n\u001b[1;32m    506\u001b[0m             chunk_object_refs.append(\n\u001b[0;32m--> 507\u001b[0;31m                 self._submit_chunk(\n\u001b[0m\u001b[1;32m    508\u001b[0m                     \u001b[0mfunc\u001b[0m\u001b[0;34m,\u001b[0m\u001b[0;34m\u001b[0m\u001b[0;34m\u001b[0m\u001b[0m\n\u001b[1;32m    509\u001b[0m                     \u001b[0miterator\u001b[0m\u001b[0;34m,\u001b[0m\u001b[0;34m\u001b[0m\u001b[0;34m\u001b[0m\u001b[0m\n",
      "\u001b[0;32m~/.conda/envs/tf22/lib/python3.8/site-packages/ray/util/multiprocessing/pool.py\u001b[0m in \u001b[0;36m_submit_chunk\u001b[0;34m(self, func, iterator, chunksize, actor_index, unpack_args)\u001b[0m\n\u001b[1;32m    490\u001b[0m         \u001b[0;32massert\u001b[0m \u001b[0mlen\u001b[0m\u001b[0;34m(\u001b[0m\u001b[0mchunk\u001b[0m\u001b[0;34m)\u001b[0m \u001b[0;34m>\u001b[0m \u001b[0;36m0\u001b[0m\u001b[0;34m\u001b[0m\u001b[0;34m\u001b[0m\u001b[0m\n\u001b[1;32m    491\u001b[0m \u001b[0;34m\u001b[0m\u001b[0m\n\u001b[0;32m--> 492\u001b[0;31m         \u001b[0;32mreturn\u001b[0m \u001b[0mself\u001b[0m\u001b[0;34m.\u001b[0m\u001b[0m_run_batch\u001b[0m\u001b[0;34m(\u001b[0m\u001b[0mactor_index\u001b[0m\u001b[0;34m,\u001b[0m \u001b[0mfunc\u001b[0m\u001b[0;34m,\u001b[0m \u001b[0mchunk\u001b[0m\u001b[0;34m)\u001b[0m\u001b[0;34m\u001b[0m\u001b[0;34m\u001b[0m\u001b[0m\n\u001b[0m\u001b[1;32m    493\u001b[0m \u001b[0;34m\u001b[0m\u001b[0m\n\u001b[1;32m    494\u001b[0m     def _chunk_and_run(self, func, iterable, chunksize=None,\n",
      "\u001b[0;32m~/.conda/envs/tf22/lib/python3.8/site-packages/ray/util/multiprocessing/pool.py\u001b[0m in \u001b[0;36m_run_batch\u001b[0;34m(self, actor_index, func, batch)\u001b[0m\n\u001b[1;32m    412\u001b[0m     \u001b[0;32mdef\u001b[0m \u001b[0m_run_batch\u001b[0m\u001b[0;34m(\u001b[0m\u001b[0mself\u001b[0m\u001b[0;34m,\u001b[0m \u001b[0mactor_index\u001b[0m\u001b[0;34m,\u001b[0m \u001b[0mfunc\u001b[0m\u001b[0;34m,\u001b[0m \u001b[0mbatch\u001b[0m\u001b[0;34m)\u001b[0m\u001b[0;34m:\u001b[0m\u001b[0;34m\u001b[0m\u001b[0;34m\u001b[0m\u001b[0m\n\u001b[1;32m    413\u001b[0m         \u001b[0mactor\u001b[0m\u001b[0;34m,\u001b[0m \u001b[0mcount\u001b[0m \u001b[0;34m=\u001b[0m \u001b[0mself\u001b[0m\u001b[0;34m.\u001b[0m\u001b[0m_actor_pool\u001b[0m\u001b[0;34m[\u001b[0m\u001b[0mactor_index\u001b[0m\u001b[0;34m]\u001b[0m\u001b[0;34m\u001b[0m\u001b[0;34m\u001b[0m\u001b[0m\n\u001b[0;32m--> 414\u001b[0;31m         \u001b[0mobject_ref\u001b[0m \u001b[0;34m=\u001b[0m \u001b[0mactor\u001b[0m\u001b[0;34m.\u001b[0m\u001b[0mrun_batch\u001b[0m\u001b[0;34m.\u001b[0m\u001b[0mremote\u001b[0m\u001b[0;34m(\u001b[0m\u001b[0mfunc\u001b[0m\u001b[0;34m,\u001b[0m \u001b[0mbatch\u001b[0m\u001b[0;34m)\u001b[0m\u001b[0;34m\u001b[0m\u001b[0;34m\u001b[0m\u001b[0m\n\u001b[0m\u001b[1;32m    415\u001b[0m         \u001b[0mcount\u001b[0m \u001b[0;34m+=\u001b[0m \u001b[0;36m1\u001b[0m\u001b[0;34m\u001b[0m\u001b[0;34m\u001b[0m\u001b[0m\n\u001b[1;32m    416\u001b[0m         \u001b[0;32massert\u001b[0m \u001b[0mself\u001b[0m\u001b[0;34m.\u001b[0m\u001b[0m_maxtasksperchild\u001b[0m \u001b[0;34m==\u001b[0m \u001b[0;34m-\u001b[0m\u001b[0;36m1\u001b[0m \u001b[0;32mor\u001b[0m \u001b[0mcount\u001b[0m \u001b[0;34m<=\u001b[0m \u001b[0mself\u001b[0m\u001b[0;34m.\u001b[0m\u001b[0m_maxtasksperchild\u001b[0m\u001b[0;34m\u001b[0m\u001b[0;34m\u001b[0m\u001b[0m\n",
      "\u001b[0;32m~/.conda/envs/tf22/lib/python3.8/site-packages/ray/actor.py\u001b[0m in \u001b[0;36mremote\u001b[0;34m(self, *args, **kwargs)\u001b[0m\n\u001b[1;32m     99\u001b[0m \u001b[0;34m\u001b[0m\u001b[0m\n\u001b[1;32m    100\u001b[0m     \u001b[0;32mdef\u001b[0m \u001b[0mremote\u001b[0m\u001b[0;34m(\u001b[0m\u001b[0mself\u001b[0m\u001b[0;34m,\u001b[0m \u001b[0;34m*\u001b[0m\u001b[0margs\u001b[0m\u001b[0;34m,\u001b[0m \u001b[0;34m**\u001b[0m\u001b[0mkwargs\u001b[0m\u001b[0;34m)\u001b[0m\u001b[0;34m:\u001b[0m\u001b[0;34m\u001b[0m\u001b[0;34m\u001b[0m\u001b[0m\n\u001b[0;32m--> 101\u001b[0;31m         \u001b[0;32mreturn\u001b[0m \u001b[0mself\u001b[0m\u001b[0;34m.\u001b[0m\u001b[0m_remote\u001b[0m\u001b[0;34m(\u001b[0m\u001b[0margs\u001b[0m\u001b[0;34m,\u001b[0m \u001b[0mkwargs\u001b[0m\u001b[0;34m)\u001b[0m\u001b[0;34m\u001b[0m\u001b[0;34m\u001b[0m\u001b[0m\n\u001b[0m\u001b[1;32m    102\u001b[0m \u001b[0;34m\u001b[0m\u001b[0m\n\u001b[1;32m    103\u001b[0m     \u001b[0;32mdef\u001b[0m \u001b[0moptions\u001b[0m\u001b[0;34m(\u001b[0m\u001b[0mself\u001b[0m\u001b[0;34m,\u001b[0m \u001b[0;34m**\u001b[0m\u001b[0moptions\u001b[0m\u001b[0;34m)\u001b[0m\u001b[0;34m:\u001b[0m\u001b[0;34m\u001b[0m\u001b[0;34m\u001b[0m\u001b[0m\n",
      "\u001b[0;32m~/.conda/envs/tf22/lib/python3.8/site-packages/ray/actor.py\u001b[0m in \u001b[0;36m_remote\u001b[0;34m(self, args, kwargs, name, num_returns)\u001b[0m\n\u001b[1;32m    140\u001b[0m             \u001b[0minvocation\u001b[0m \u001b[0;34m=\u001b[0m \u001b[0mself\u001b[0m\u001b[0;34m.\u001b[0m\u001b[0m_decorator\u001b[0m\u001b[0;34m(\u001b[0m\u001b[0minvocation\u001b[0m\u001b[0;34m)\u001b[0m\u001b[0;34m\u001b[0m\u001b[0;34m\u001b[0m\u001b[0m\n\u001b[1;32m    141\u001b[0m \u001b[0;34m\u001b[0m\u001b[0m\n\u001b[0;32m--> 142\u001b[0;31m         \u001b[0;32mreturn\u001b[0m \u001b[0minvocation\u001b[0m\u001b[0;34m(\u001b[0m\u001b[0margs\u001b[0m\u001b[0;34m,\u001b[0m \u001b[0mkwargs\u001b[0m\u001b[0;34m)\u001b[0m\u001b[0;34m\u001b[0m\u001b[0;34m\u001b[0m\u001b[0m\n\u001b[0m\u001b[1;32m    143\u001b[0m \u001b[0;34m\u001b[0m\u001b[0m\n\u001b[1;32m    144\u001b[0m     \u001b[0;32mdef\u001b[0m \u001b[0m__getstate__\u001b[0m\u001b[0;34m(\u001b[0m\u001b[0mself\u001b[0m\u001b[0;34m)\u001b[0m\u001b[0;34m:\u001b[0m\u001b[0;34m\u001b[0m\u001b[0;34m\u001b[0m\u001b[0m\n",
      "\u001b[0;32m~/.conda/envs/tf22/lib/python3.8/site-packages/ray/actor.py\u001b[0m in \u001b[0;36minvocation\u001b[0;34m(args, kwargs)\u001b[0m\n\u001b[1;32m    129\u001b[0m             \u001b[0;32mif\u001b[0m \u001b[0mactor\u001b[0m \u001b[0;32mis\u001b[0m \u001b[0;32mNone\u001b[0m\u001b[0;34m:\u001b[0m\u001b[0;34m\u001b[0m\u001b[0;34m\u001b[0m\u001b[0m\n\u001b[1;32m    130\u001b[0m                 \u001b[0;32mraise\u001b[0m \u001b[0mRuntimeError\u001b[0m\u001b[0;34m(\u001b[0m\u001b[0;34m\"Lost reference to actor\"\u001b[0m\u001b[0;34m)\u001b[0m\u001b[0;34m\u001b[0m\u001b[0;34m\u001b[0m\u001b[0m\n\u001b[0;32m--> 131\u001b[0;31m             return actor._actor_method_call(\n\u001b[0m\u001b[1;32m    132\u001b[0m                 \u001b[0mself\u001b[0m\u001b[0;34m.\u001b[0m\u001b[0m_method_name\u001b[0m\u001b[0;34m,\u001b[0m\u001b[0;34m\u001b[0m\u001b[0;34m\u001b[0m\u001b[0m\n\u001b[1;32m    133\u001b[0m                 \u001b[0margs\u001b[0m\u001b[0;34m=\u001b[0m\u001b[0margs\u001b[0m\u001b[0;34m,\u001b[0m\u001b[0;34m\u001b[0m\u001b[0;34m\u001b[0m\u001b[0m\n",
      "\u001b[0;32m~/.conda/envs/tf22/lib/python3.8/site-packages/ray/actor.py\u001b[0m in \u001b[0;36m_actor_method_call\u001b[0;34m(self, method_name, args, kwargs, name, num_returns)\u001b[0m\n\u001b[1;32m    789\u001b[0m                 \u001b[0;34m\"cannot be executed locally.\"\u001b[0m\u001b[0;34m\u001b[0m\u001b[0;34m\u001b[0m\u001b[0m\n\u001b[1;32m    790\u001b[0m \u001b[0;34m\u001b[0m\u001b[0m\n\u001b[0;32m--> 791\u001b[0;31m         object_refs = worker.core_worker.submit_actor_task(\n\u001b[0m\u001b[1;32m    792\u001b[0m             \u001b[0mself\u001b[0m\u001b[0;34m.\u001b[0m\u001b[0m_ray_actor_language\u001b[0m\u001b[0;34m,\u001b[0m \u001b[0mself\u001b[0m\u001b[0;34m.\u001b[0m\u001b[0m_ray_actor_id\u001b[0m\u001b[0;34m,\u001b[0m \u001b[0mfunction_descriptor\u001b[0m\u001b[0;34m,\u001b[0m\u001b[0;34m\u001b[0m\u001b[0;34m\u001b[0m\u001b[0m\n\u001b[1;32m    793\u001b[0m             list_args, name, num_returns, self._ray_actor_method_cpus)\n",
      "\u001b[0;32mpython/ray/_raylet.pyx\u001b[0m in \u001b[0;36mray._raylet.CoreWorker.submit_actor_task\u001b[0;34m()\u001b[0m\n",
      "\u001b[0;32mpython/ray/_raylet.pyx\u001b[0m in \u001b[0;36mray._raylet.CoreWorker.submit_actor_task\u001b[0;34m()\u001b[0m\n",
      "\u001b[0;32mpython/ray/_raylet.pyx\u001b[0m in \u001b[0;36mray._raylet.prepare_args\u001b[0;34m()\u001b[0m\n",
      "\u001b[0;32m~/.conda/envs/tf22/lib/python3.8/site-packages/ray/serialization.py\u001b[0m in \u001b[0;36mserialize\u001b[0;34m(self, value)\u001b[0m\n\u001b[1;32m    402\u001b[0m             \u001b[0;32mreturn\u001b[0m \u001b[0mRawSerializedObject\u001b[0m\u001b[0;34m(\u001b[0m\u001b[0mvalue\u001b[0m\u001b[0;34m)\u001b[0m\u001b[0;34m\u001b[0m\u001b[0;34m\u001b[0m\u001b[0m\n\u001b[1;32m    403\u001b[0m         \u001b[0;32melse\u001b[0m\u001b[0;34m:\u001b[0m\u001b[0;34m\u001b[0m\u001b[0;34m\u001b[0m\u001b[0m\n\u001b[0;32m--> 404\u001b[0;31m             \u001b[0;32mreturn\u001b[0m \u001b[0mself\u001b[0m\u001b[0;34m.\u001b[0m\u001b[0m_serialize_to_msgpack\u001b[0m\u001b[0;34m(\u001b[0m\u001b[0mvalue\u001b[0m\u001b[0;34m)\u001b[0m\u001b[0;34m\u001b[0m\u001b[0;34m\u001b[0m\u001b[0m\n\u001b[0m\u001b[1;32m    405\u001b[0m \u001b[0;34m\u001b[0m\u001b[0m\n\u001b[1;32m    406\u001b[0m     def register_custom_serializer(self,\n",
      "\u001b[0;32m~/.conda/envs/tf22/lib/python3.8/site-packages/ray/serialization.py\u001b[0m in \u001b[0;36m_serialize_to_msgpack\u001b[0;34m(self, value)\u001b[0m\n\u001b[1;32m    382\u001b[0m             \u001b[0mmetadata\u001b[0m \u001b[0;34m=\u001b[0m \u001b[0mray_constants\u001b[0m\u001b[0;34m.\u001b[0m\u001b[0mOBJECT_METADATA_TYPE_PYTHON\u001b[0m\u001b[0;34m\u001b[0m\u001b[0;34m\u001b[0m\u001b[0m\n\u001b[1;32m    383\u001b[0m             \u001b[0mpickle5_serialized_object\u001b[0m \u001b[0;34m=\u001b[0m\u001b[0;31m \u001b[0m\u001b[0;31m\\\u001b[0m\u001b[0;34m\u001b[0m\u001b[0;34m\u001b[0m\u001b[0m\n\u001b[0;32m--> 384\u001b[0;31m                 \u001b[0mself\u001b[0m\u001b[0;34m.\u001b[0m\u001b[0m_serialize_to_pickle5\u001b[0m\u001b[0;34m(\u001b[0m\u001b[0mmetadata\u001b[0m\u001b[0;34m,\u001b[0m \u001b[0mpython_objects\u001b[0m\u001b[0;34m)\u001b[0m\u001b[0;34m\u001b[0m\u001b[0;34m\u001b[0m\u001b[0m\n\u001b[0m\u001b[1;32m    385\u001b[0m         \u001b[0;32melse\u001b[0m\u001b[0;34m:\u001b[0m\u001b[0;34m\u001b[0m\u001b[0;34m\u001b[0m\u001b[0m\n\u001b[1;32m    386\u001b[0m             \u001b[0mpickle5_serialized_object\u001b[0m \u001b[0;34m=\u001b[0m \u001b[0;32mNone\u001b[0m\u001b[0;34m\u001b[0m\u001b[0;34m\u001b[0m\u001b[0m\n",
      "\u001b[0;32m~/.conda/envs/tf22/lib/python3.8/site-packages/ray/serialization.py\u001b[0m in \u001b[0;36m_serialize_to_pickle5\u001b[0;34m(self, metadata, value)\u001b[0m\n\u001b[1;32m    342\u001b[0m         \u001b[0;32mexcept\u001b[0m \u001b[0mException\u001b[0m \u001b[0;32mas\u001b[0m \u001b[0me\u001b[0m\u001b[0;34m:\u001b[0m\u001b[0;34m\u001b[0m\u001b[0;34m\u001b[0m\u001b[0m\n\u001b[1;32m    343\u001b[0m             \u001b[0mself\u001b[0m\u001b[0;34m.\u001b[0m\u001b[0mget_and_clear_contained_object_refs\u001b[0m\u001b[0;34m(\u001b[0m\u001b[0;34m)\u001b[0m\u001b[0;34m\u001b[0m\u001b[0;34m\u001b[0m\u001b[0m\n\u001b[0;32m--> 344\u001b[0;31m             \u001b[0;32mraise\u001b[0m \u001b[0me\u001b[0m\u001b[0;34m\u001b[0m\u001b[0;34m\u001b[0m\u001b[0m\n\u001b[0m\u001b[1;32m    345\u001b[0m         \u001b[0;32mfinally\u001b[0m\u001b[0;34m:\u001b[0m\u001b[0;34m\u001b[0m\u001b[0;34m\u001b[0m\u001b[0m\n\u001b[1;32m    346\u001b[0m             \u001b[0mself\u001b[0m\u001b[0;34m.\u001b[0m\u001b[0mset_out_of_band_serialization\u001b[0m\u001b[0;34m(\u001b[0m\u001b[0;34m)\u001b[0m\u001b[0;34m\u001b[0m\u001b[0;34m\u001b[0m\u001b[0m\n",
      "\u001b[0;32m~/.conda/envs/tf22/lib/python3.8/site-packages/ray/serialization.py\u001b[0m in \u001b[0;36m_serialize_to_pickle5\u001b[0;34m(self, metadata, value)\u001b[0m\n\u001b[1;32m    338\u001b[0m         \u001b[0;32mtry\u001b[0m\u001b[0;34m:\u001b[0m\u001b[0;34m\u001b[0m\u001b[0;34m\u001b[0m\u001b[0m\n\u001b[1;32m    339\u001b[0m             \u001b[0mself\u001b[0m\u001b[0;34m.\u001b[0m\u001b[0mset_in_band_serialization\u001b[0m\u001b[0;34m(\u001b[0m\u001b[0;34m)\u001b[0m\u001b[0;34m\u001b[0m\u001b[0;34m\u001b[0m\u001b[0m\n\u001b[0;32m--> 340\u001b[0;31m             inband = pickle.dumps(\n\u001b[0m\u001b[1;32m    341\u001b[0m                 value, protocol=5, buffer_callback=writer.buffer_callback)\n\u001b[1;32m    342\u001b[0m         \u001b[0;32mexcept\u001b[0m \u001b[0mException\u001b[0m \u001b[0;32mas\u001b[0m \u001b[0me\u001b[0m\u001b[0;34m:\u001b[0m\u001b[0;34m\u001b[0m\u001b[0;34m\u001b[0m\u001b[0m\n",
      "\u001b[0;32m~/.conda/envs/tf22/lib/python3.8/site-packages/ray/cloudpickle/cloudpickle_fast.py\u001b[0m in \u001b[0;36mdumps\u001b[0;34m(obj, protocol, buffer_callback)\u001b[0m\n\u001b[1;32m     68\u001b[0m     \u001b[0;32mwith\u001b[0m \u001b[0mio\u001b[0m\u001b[0;34m.\u001b[0m\u001b[0mBytesIO\u001b[0m\u001b[0;34m(\u001b[0m\u001b[0;34m)\u001b[0m \u001b[0;32mas\u001b[0m \u001b[0mfile\u001b[0m\u001b[0;34m:\u001b[0m\u001b[0;34m\u001b[0m\u001b[0;34m\u001b[0m\u001b[0m\n\u001b[1;32m     69\u001b[0m         \u001b[0mcp\u001b[0m \u001b[0;34m=\u001b[0m \u001b[0mCloudPickler\u001b[0m\u001b[0;34m(\u001b[0m\u001b[0mfile\u001b[0m\u001b[0;34m,\u001b[0m \u001b[0mprotocol\u001b[0m\u001b[0;34m=\u001b[0m\u001b[0mprotocol\u001b[0m\u001b[0;34m,\u001b[0m \u001b[0mbuffer_callback\u001b[0m\u001b[0;34m=\u001b[0m\u001b[0mbuffer_callback\u001b[0m\u001b[0;34m)\u001b[0m\u001b[0;34m\u001b[0m\u001b[0;34m\u001b[0m\u001b[0m\n\u001b[0;32m---> 70\u001b[0;31m         \u001b[0mcp\u001b[0m\u001b[0;34m.\u001b[0m\u001b[0mdump\u001b[0m\u001b[0;34m(\u001b[0m\u001b[0mobj\u001b[0m\u001b[0;34m)\u001b[0m\u001b[0;34m\u001b[0m\u001b[0;34m\u001b[0m\u001b[0m\n\u001b[0m\u001b[1;32m     71\u001b[0m         \u001b[0;32mreturn\u001b[0m \u001b[0mfile\u001b[0m\u001b[0;34m.\u001b[0m\u001b[0mgetvalue\u001b[0m\u001b[0;34m(\u001b[0m\u001b[0;34m)\u001b[0m\u001b[0;34m\u001b[0m\u001b[0;34m\u001b[0m\u001b[0m\n\u001b[1;32m     72\u001b[0m \u001b[0;34m\u001b[0m\u001b[0m\n",
      "\u001b[0;32m~/.conda/envs/tf22/lib/python3.8/site-packages/ray/cloudpickle/cloudpickle_fast.py\u001b[0m in \u001b[0;36mdump\u001b[0;34m(self, obj)\u001b[0m\n\u001b[1;32m    654\u001b[0m     \u001b[0;32mdef\u001b[0m \u001b[0mdump\u001b[0m\u001b[0;34m(\u001b[0m\u001b[0mself\u001b[0m\u001b[0;34m,\u001b[0m \u001b[0mobj\u001b[0m\u001b[0;34m)\u001b[0m\u001b[0;34m:\u001b[0m\u001b[0;34m\u001b[0m\u001b[0;34m\u001b[0m\u001b[0m\n\u001b[1;32m    655\u001b[0m         \u001b[0;32mtry\u001b[0m\u001b[0;34m:\u001b[0m\u001b[0;34m\u001b[0m\u001b[0;34m\u001b[0m\u001b[0m\n\u001b[0;32m--> 656\u001b[0;31m             \u001b[0;32mreturn\u001b[0m \u001b[0mPickler\u001b[0m\u001b[0;34m.\u001b[0m\u001b[0mdump\u001b[0m\u001b[0;34m(\u001b[0m\u001b[0mself\u001b[0m\u001b[0;34m,\u001b[0m \u001b[0mobj\u001b[0m\u001b[0;34m)\u001b[0m\u001b[0;34m\u001b[0m\u001b[0;34m\u001b[0m\u001b[0m\n\u001b[0m\u001b[1;32m    657\u001b[0m         \u001b[0;32mexcept\u001b[0m \u001b[0mRuntimeError\u001b[0m \u001b[0;32mas\u001b[0m \u001b[0me\u001b[0m\u001b[0;34m:\u001b[0m\u001b[0;34m\u001b[0m\u001b[0;34m\u001b[0m\u001b[0m\n\u001b[1;32m    658\u001b[0m             \u001b[0;32mif\u001b[0m \u001b[0;34m\"recursion\"\u001b[0m \u001b[0;32min\u001b[0m \u001b[0me\u001b[0m\u001b[0;34m.\u001b[0m\u001b[0margs\u001b[0m\u001b[0;34m[\u001b[0m\u001b[0;36m0\u001b[0m\u001b[0;34m]\u001b[0m\u001b[0;34m:\u001b[0m\u001b[0;34m\u001b[0m\u001b[0;34m\u001b[0m\u001b[0m\n",
      "\u001b[0;32m~/.conda/envs/tf22/lib/python3.8/site-packages/tensorflow/python/ops/resource_variable_ops.py\u001b[0m in \u001b[0;36m__reduce__\u001b[0;34m(self)\u001b[0m\n\u001b[1;32m    855\u001b[0m     return functools.partial(\n\u001b[1;32m    856\u001b[0m         \u001b[0mResourceVariable\u001b[0m\u001b[0;34m,\u001b[0m\u001b[0;34m\u001b[0m\u001b[0;34m\u001b[0m\u001b[0m\n\u001b[0;32m--> 857\u001b[0;31m         \u001b[0minitial_value\u001b[0m\u001b[0;34m=\u001b[0m\u001b[0mself\u001b[0m\u001b[0;34m.\u001b[0m\u001b[0mnumpy\u001b[0m\u001b[0;34m(\u001b[0m\u001b[0;34m)\u001b[0m\u001b[0;34m,\u001b[0m\u001b[0;34m\u001b[0m\u001b[0;34m\u001b[0m\u001b[0m\n\u001b[0m\u001b[1;32m    858\u001b[0m         \u001b[0mtrainable\u001b[0m\u001b[0;34m=\u001b[0m\u001b[0mself\u001b[0m\u001b[0;34m.\u001b[0m\u001b[0mtrainable\u001b[0m\u001b[0;34m,\u001b[0m\u001b[0;34m\u001b[0m\u001b[0;34m\u001b[0m\u001b[0m\n\u001b[1;32m    859\u001b[0m         \u001b[0mname\u001b[0m\u001b[0;34m=\u001b[0m\u001b[0mself\u001b[0m\u001b[0;34m.\u001b[0m\u001b[0m_shared_name\u001b[0m\u001b[0;34m,\u001b[0m\u001b[0;34m\u001b[0m\u001b[0;34m\u001b[0m\u001b[0m\n",
      "\u001b[0;32m~/.conda/envs/tf22/lib/python3.8/site-packages/tensorflow/python/ops/resource_variable_ops.py\u001b[0m in \u001b[0;36mnumpy\u001b[0;34m(self)\u001b[0m\n\u001b[1;32m    601\u001b[0m   \u001b[0;32mdef\u001b[0m \u001b[0mnumpy\u001b[0m\u001b[0;34m(\u001b[0m\u001b[0mself\u001b[0m\u001b[0;34m)\u001b[0m\u001b[0;34m:\u001b[0m\u001b[0;34m\u001b[0m\u001b[0;34m\u001b[0m\u001b[0m\n\u001b[1;32m    602\u001b[0m     \u001b[0;32mif\u001b[0m \u001b[0mcontext\u001b[0m\u001b[0;34m.\u001b[0m\u001b[0mexecuting_eagerly\u001b[0m\u001b[0;34m(\u001b[0m\u001b[0;34m)\u001b[0m\u001b[0;34m:\u001b[0m\u001b[0;34m\u001b[0m\u001b[0;34m\u001b[0m\u001b[0m\n\u001b[0;32m--> 603\u001b[0;31m       \u001b[0;32mreturn\u001b[0m \u001b[0mself\u001b[0m\u001b[0;34m.\u001b[0m\u001b[0mread_value\u001b[0m\u001b[0;34m(\u001b[0m\u001b[0;34m)\u001b[0m\u001b[0;34m.\u001b[0m\u001b[0mnumpy\u001b[0m\u001b[0;34m(\u001b[0m\u001b[0;34m)\u001b[0m\u001b[0;34m\u001b[0m\u001b[0;34m\u001b[0m\u001b[0m\n\u001b[0m\u001b[1;32m    604\u001b[0m     raise NotImplementedError(\n\u001b[1;32m    605\u001b[0m         \"numpy() is only available when eager execution is enabled.\")\n",
      "\u001b[0;32m~/.conda/envs/tf22/lib/python3.8/site-packages/tensorflow/python/ops/resource_variable_ops.py\u001b[0m in \u001b[0;36mread_value\u001b[0;34m(self)\u001b[0m\n\u001b[1;32m    664\u001b[0m     \"\"\"\n\u001b[1;32m    665\u001b[0m     \u001b[0;32mwith\u001b[0m \u001b[0mops\u001b[0m\u001b[0;34m.\u001b[0m\u001b[0mname_scope\u001b[0m\u001b[0;34m(\u001b[0m\u001b[0;34m\"Read\"\u001b[0m\u001b[0;34m)\u001b[0m\u001b[0;34m:\u001b[0m\u001b[0;34m\u001b[0m\u001b[0;34m\u001b[0m\u001b[0m\n\u001b[0;32m--> 666\u001b[0;31m       \u001b[0mvalue\u001b[0m \u001b[0;34m=\u001b[0m \u001b[0mself\u001b[0m\u001b[0;34m.\u001b[0m\u001b[0m_read_variable_op\u001b[0m\u001b[0;34m(\u001b[0m\u001b[0;34m)\u001b[0m\u001b[0;34m\u001b[0m\u001b[0;34m\u001b[0m\u001b[0m\n\u001b[0m\u001b[1;32m    667\u001b[0m     \u001b[0;31m# Return an identity so it can get placed on whatever device the context\u001b[0m\u001b[0;34m\u001b[0m\u001b[0;34m\u001b[0m\u001b[0;34m\u001b[0m\u001b[0m\n\u001b[1;32m    668\u001b[0m     \u001b[0;31m# specifies instead of the device where the variable is.\u001b[0m\u001b[0;34m\u001b[0m\u001b[0;34m\u001b[0m\u001b[0;34m\u001b[0m\u001b[0m\n",
      "\u001b[0;32m~/.conda/envs/tf22/lib/python3.8/site-packages/tensorflow/python/ops/resource_variable_ops.py\u001b[0m in \u001b[0;36m_read_variable_op\u001b[0;34m(self)\u001b[0m\n\u001b[1;32m    643\u001b[0m           \u001b[0mresult\u001b[0m \u001b[0;34m=\u001b[0m \u001b[0mread_and_set_handle\u001b[0m\u001b[0;34m(\u001b[0m\u001b[0;34m)\u001b[0m\u001b[0;34m\u001b[0m\u001b[0;34m\u001b[0m\u001b[0m\n\u001b[1;32m    644\u001b[0m     \u001b[0;32melse\u001b[0m\u001b[0;34m:\u001b[0m\u001b[0;34m\u001b[0m\u001b[0;34m\u001b[0m\u001b[0m\n\u001b[0;32m--> 645\u001b[0;31m       \u001b[0mresult\u001b[0m \u001b[0;34m=\u001b[0m \u001b[0mread_and_set_handle\u001b[0m\u001b[0;34m(\u001b[0m\u001b[0;34m)\u001b[0m\u001b[0;34m\u001b[0m\u001b[0;34m\u001b[0m\u001b[0m\n\u001b[0m\u001b[1;32m    646\u001b[0m \u001b[0;34m\u001b[0m\u001b[0m\n\u001b[1;32m    647\u001b[0m     \u001b[0;32mif\u001b[0m \u001b[0;32mnot\u001b[0m \u001b[0mcontext\u001b[0m\u001b[0;34m.\u001b[0m\u001b[0mexecuting_eagerly\u001b[0m\u001b[0;34m(\u001b[0m\u001b[0;34m)\u001b[0m\u001b[0;34m:\u001b[0m\u001b[0;34m\u001b[0m\u001b[0;34m\u001b[0m\u001b[0m\n",
      "\u001b[0;32m~/.conda/envs/tf22/lib/python3.8/site-packages/tensorflow/python/ops/resource_variable_ops.py\u001b[0m in \u001b[0;36mread_and_set_handle\u001b[0;34m()\u001b[0m\n\u001b[1;32m    633\u001b[0m \u001b[0;34m\u001b[0m\u001b[0m\n\u001b[1;32m    634\u001b[0m     \u001b[0;32mdef\u001b[0m \u001b[0mread_and_set_handle\u001b[0m\u001b[0;34m(\u001b[0m\u001b[0;34m)\u001b[0m\u001b[0;34m:\u001b[0m\u001b[0;34m\u001b[0m\u001b[0;34m\u001b[0m\u001b[0m\n\u001b[0;32m--> 635\u001b[0;31m       result = gen_resource_variable_ops.read_variable_op(self._handle,\n\u001b[0m\u001b[1;32m    636\u001b[0m                                                           self._dtype)\n\u001b[1;32m    637\u001b[0m       \u001b[0m_maybe_set_handle_data\u001b[0m\u001b[0;34m(\u001b[0m\u001b[0mself\u001b[0m\u001b[0;34m.\u001b[0m\u001b[0m_dtype\u001b[0m\u001b[0;34m,\u001b[0m \u001b[0mself\u001b[0m\u001b[0;34m.\u001b[0m\u001b[0m_handle\u001b[0m\u001b[0;34m,\u001b[0m \u001b[0mresult\u001b[0m\u001b[0;34m)\u001b[0m\u001b[0;34m\u001b[0m\u001b[0;34m\u001b[0m\u001b[0m\n",
      "\u001b[0;32m~/.conda/envs/tf22/lib/python3.8/site-packages/tensorflow/python/ops/gen_resource_variable_ops.py\u001b[0m in \u001b[0;36mread_variable_op\u001b[0;34m(resource, dtype, name)\u001b[0m\n\u001b[1;32m    472\u001b[0m     \u001b[0;32mexcept\u001b[0m \u001b[0m_core\u001b[0m\u001b[0;34m.\u001b[0m\u001b[0m_FallbackException\u001b[0m\u001b[0;34m:\u001b[0m\u001b[0;34m\u001b[0m\u001b[0;34m\u001b[0m\u001b[0m\n\u001b[1;32m    473\u001b[0m       \u001b[0;32mtry\u001b[0m\u001b[0;34m:\u001b[0m\u001b[0;34m\u001b[0m\u001b[0;34m\u001b[0m\u001b[0m\n\u001b[0;32m--> 474\u001b[0;31m         return read_variable_op_eager_fallback(\n\u001b[0m\u001b[1;32m    475\u001b[0m             resource, dtype=dtype, name=name, ctx=_ctx)\n\u001b[1;32m    476\u001b[0m       \u001b[0;32mexcept\u001b[0m \u001b[0m_core\u001b[0m\u001b[0;34m.\u001b[0m\u001b[0m_SymbolicException\u001b[0m\u001b[0;34m:\u001b[0m\u001b[0;34m\u001b[0m\u001b[0;34m\u001b[0m\u001b[0m\n",
      "\u001b[0;32m~/.conda/envs/tf22/lib/python3.8/site-packages/tensorflow/python/ops/gen_resource_variable_ops.py\u001b[0m in \u001b[0;36mread_variable_op_eager_fallback\u001b[0;34m(resource, dtype, name, ctx)\u001b[0m\n\u001b[1;32m    499\u001b[0m   \u001b[0m_inputs_flat\u001b[0m \u001b[0;34m=\u001b[0m \u001b[0;34m[\u001b[0m\u001b[0mresource\u001b[0m\u001b[0;34m]\u001b[0m\u001b[0;34m\u001b[0m\u001b[0;34m\u001b[0m\u001b[0m\n\u001b[1;32m    500\u001b[0m   \u001b[0m_attrs\u001b[0m \u001b[0;34m=\u001b[0m \u001b[0;34m(\u001b[0m\u001b[0;34m\"dtype\"\u001b[0m\u001b[0;34m,\u001b[0m \u001b[0mdtype\u001b[0m\u001b[0;34m)\u001b[0m\u001b[0;34m\u001b[0m\u001b[0;34m\u001b[0m\u001b[0m\n\u001b[0;32m--> 501\u001b[0;31m   _result = _execute.execute(b\"ReadVariableOp\", 1, inputs=_inputs_flat,\n\u001b[0m\u001b[1;32m    502\u001b[0m                              attrs=_attrs, ctx=ctx, name=name)\n\u001b[1;32m    503\u001b[0m   \u001b[0;32mif\u001b[0m \u001b[0m_execute\u001b[0m\u001b[0;34m.\u001b[0m\u001b[0mmust_record_gradient\u001b[0m\u001b[0;34m(\u001b[0m\u001b[0;34m)\u001b[0m\u001b[0;34m:\u001b[0m\u001b[0;34m\u001b[0m\u001b[0;34m\u001b[0m\u001b[0m\n",
      "\u001b[0;32m~/.conda/envs/tf22/lib/python3.8/site-packages/tensorflow/python/eager/execute.py\u001b[0m in \u001b[0;36mquick_execute\u001b[0;34m(op_name, num_outputs, inputs, attrs, ctx, name)\u001b[0m\n\u001b[1;32m     73\u001b[0m           \u001b[0;34m\"Inputs to eager execution function cannot be Keras symbolic \"\u001b[0m\u001b[0;34m\u001b[0m\u001b[0;34m\u001b[0m\u001b[0m\n\u001b[1;32m     74\u001b[0m           \"tensors, but found {}\".format(keras_symbolic_tensors))\n\u001b[0;32m---> 75\u001b[0;31m     \u001b[0;32mraise\u001b[0m \u001b[0me\u001b[0m\u001b[0;34m\u001b[0m\u001b[0;34m\u001b[0m\u001b[0m\n\u001b[0m\u001b[1;32m     76\u001b[0m   \u001b[0;31m# pylint: enable=protected-access\u001b[0m\u001b[0;34m\u001b[0m\u001b[0;34m\u001b[0m\u001b[0;34m\u001b[0m\u001b[0m\n\u001b[1;32m     77\u001b[0m   \u001b[0;32mreturn\u001b[0m \u001b[0mtensors\u001b[0m\u001b[0;34m\u001b[0m\u001b[0;34m\u001b[0m\u001b[0m\n",
      "\u001b[0;32m~/.conda/envs/tf22/lib/python3.8/site-packages/tensorflow/python/eager/execute.py\u001b[0m in \u001b[0;36mquick_execute\u001b[0;34m(op_name, num_outputs, inputs, attrs, ctx, name)\u001b[0m\n\u001b[1;32m     57\u001b[0m   \u001b[0;32mtry\u001b[0m\u001b[0;34m:\u001b[0m\u001b[0;34m\u001b[0m\u001b[0;34m\u001b[0m\u001b[0m\n\u001b[1;32m     58\u001b[0m     \u001b[0mctx\u001b[0m\u001b[0;34m.\u001b[0m\u001b[0mensure_initialized\u001b[0m\u001b[0;34m(\u001b[0m\u001b[0;34m)\u001b[0m\u001b[0;34m\u001b[0m\u001b[0;34m\u001b[0m\u001b[0m\n\u001b[0;32m---> 59\u001b[0;31m     tensors = pywrap_tfe.TFE_Py_Execute(ctx._handle, device_name, op_name,\n\u001b[0m\u001b[1;32m     60\u001b[0m                                         inputs, attrs, num_outputs)\n\u001b[1;32m     61\u001b[0m   \u001b[0;32mexcept\u001b[0m \u001b[0mcore\u001b[0m\u001b[0;34m.\u001b[0m\u001b[0m_NotOkStatusException\u001b[0m \u001b[0;32mas\u001b[0m \u001b[0me\u001b[0m\u001b[0;34m:\u001b[0m\u001b[0;34m\u001b[0m\u001b[0;34m\u001b[0m\u001b[0m\n",
      "\u001b[0;31mTypeError\u001b[0m: An op outside of the function building code is being passed\na \"Graph\" tensor. It is possible to have Graph tensors\nleak out of the function building context by including a\ntf.init_scope in your function building code.\nFor example, the following function will fail:\n  @tf.function\n  def has_init_scope():\n    my_constant = tf.constant(1.)\n    with tf.init_scope():\n      added = my_constant * 2\nThe graph tensor has name: perm_swap0:0"
     ]
    }
   ],
   "source": [
    "res = bf.sample(den, sample_trace=sampling_params)"
   ]
  },
  {
   "cell_type": "code",
   "execution_count": null,
   "metadata": {},
   "outputs": [],
   "source": []
  }
 ],
 "metadata": {
  "accelerator": "GPU",
  "colab": {
   "collapsed_sections": [],
   "include_colab_link": true,
   "name": "LambdaNetwork.ipynb",
   "provenance": []
  },
  "kernelspec": {
   "display_name": "tf22",
   "language": "python",
   "name": "tf22"
  },
  "language_info": {
   "codemirror_mode": {
    "name": "ipython",
    "version": 3
   },
   "file_extension": ".py",
   "mimetype": "text/x-python",
   "name": "python",
   "nbconvert_exporter": "python",
   "pygments_lexer": "ipython3",
   "version": "3.8.3"
  }
 },
 "nbformat": 4,
 "nbformat_minor": 4
}
