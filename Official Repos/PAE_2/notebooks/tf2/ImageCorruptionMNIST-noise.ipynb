{
 "cells": [
  {
   "cell_type": "markdown",
   "metadata": {},
   "source": [
    "# Figure 6: Denoising with Posterior Analysis"
   ]
  },
  {
   "cell_type": "code",
   "execution_count": 1,
   "metadata": {
    "colab": {
     "base_uri": "https://localhost:8080/",
     "height": 34
    },
    "colab_type": "code",
    "executionInfo": {
     "elapsed": 411,
     "status": "ok",
     "timestamp": 1568330149594,
     "user": {
      "displayName": "",
      "photoUrl": "",
      "userId": "18062987068597777273"
     },
     "user_tz": 420
    },
    "id": "D-Fe5G8m1FTC",
    "outputId": "481e97a2-895c-40e1-c3f8-aaac7fb27b5d"
   },
   "outputs": [
    {
     "name": "stdout",
     "output_type": "stream",
     "text": [
      "Populating the interactive namespace from numpy and matplotlib\n"
     ]
    }
   ],
   "source": [
    "import os\n",
    "%pylab inline\n",
    "import pickle"
   ]
  },
  {
   "cell_type": "code",
   "execution_count": 3,
   "metadata": {},
   "outputs": [],
   "source": [
    "param_file = 'params_mnist_-1_8_infoGAN_AE_v2_full_sigma'\n",
    "\n",
    "PROJECT_PATH = \"../../\" \n",
    "PARAMS_PATH = os.path.join(PROJECT_PATH,'params')"
   ]
  },
  {
   "cell_type": "code",
   "execution_count": 4,
   "metadata": {
    "colab": {},
    "colab_type": "code",
    "id": "sZkaGpCR1kVS"
   },
   "outputs": [],
   "source": [
    "params   = pickle.load(open(os.path.join(PARAMS_PATH,param_file+'.pkl'),'rb'))"
   ]
  },
  {
   "cell_type": "code",
   "execution_count": 5,
   "metadata": {
    "colab": {},
    "colab_type": "code",
    "id": "-AEYmOsH1FTI"
   },
   "outputs": [],
   "source": [
    "import tensorflow.compat.v1 as tf\n",
    "#To make tf 2.0 compatible with tf1.0 code, we disable the tf2.0 functionalities\n",
    "tf.disable_eager_execution()\n",
    "import tensorflow_probability as tfp\n",
    "import tensorflow_hub as hub\n",
    "tfd = tfp.distributions\n",
    "tfb = tfp.bijectors"
   ]
  },
  {
   "cell_type": "code",
   "execution_count": 6,
   "metadata": {
    "colab": {},
    "colab_type": "code",
    "id": "8puPFE90P0aD"
   },
   "outputs": [],
   "source": [
    "generator_path   = os.path.join(params['module_dir'],'decoder')\n",
    "encoder_path     = os.path.join(params['module_dir'],'encoder')\n",
    "nvp_path         = os.path.join(params['module_dir'],'nsf2')"
   ]
  },
  {
   "cell_type": "code",
   "execution_count": 8,
   "metadata": {
    "colab": {},
    "colab_type": "code",
    "id": "nFzYYSxY1FTL"
   },
   "outputs": [],
   "source": [
    "from pae.load_data import load_mnist\n",
    "\n",
    "load_func                                         = load_mnist\n",
    "x_train, y_train, x_valid, y_valid, x_test, y_test = load_func(params['data_dir'],flatten=False)\n",
    "\n",
    "if np.all(x_test)==None:\n",
    "    x_test=x_valid\n",
    "    \n",
    "def add_noise(x,sigma=0.1):\n",
    "    nn = np.random.normal(size=np.shape(x))\n",
    "    x  = x+nn*sigma\n",
    "    return x\n",
    "\n",
    "x_train    = add_noise(x_train)/255.-0.5\n",
    "x_test     = add_noise(x_test)/255.-0.5\n",
    "x_valid    = add_noise(x_valid)/255.-0.5"
   ]
  },
  {
   "cell_type": "code",
   "execution_count": 36,
   "metadata": {},
   "outputs": [
    {
     "data": {
      "image/png": "[encoded data removed]",
      "text/plain": [
       "<Figure size 432x288 with 1 Axes>"
      ]
     },
     "metadata": {
      "needs_background": "light"
     },
     "output_type": "display_data"
    }
   ],
   "source": [
    "for ii in [8]:\n",
    "    plt.imshow(x_test[ii,:,:,0])\n",
    "    plt.show()"
   ]
  },
  {
   "cell_type": "code",
   "execution_count": 37,
   "metadata": {
    "colab": {},
    "colab_type": "code",
    "id": "ft_jIh-W1FTN"
   },
   "outputs": [],
   "source": [
    "data_dim    = 28*28\n",
    "data_size   = params['batch_size']\n",
    "sigma_n     = (params['full_sigma']+1e-4).reshape((1,28*28,1)).astype(np.float32)\n",
    "noise_n     = sigma_n\n",
    "hidden_size = params['latent_size']\n",
    "n_channels  = 1\n",
    "seed        = 777\n",
    "\n",
    "\n",
    "# settings for reconstruction with uncorrupted data\n",
    "# corr_type   = 'none'\n",
    "# num_mnist   = 6\n",
    "# label       = 'uncorrupted'\n",
    "# noise_level = 0.0\n",
    "# num_comp    = 2\n",
    "\n",
    "# settings for reconstrcution with rectangular mask\n",
    "# corr_type   = 'mask'\n",
    "# num_mnist   = 32\n",
    "# label       = 'solidmask'\n",
    "# noise_level = 0.0\n",
    "# num_comp    = 32\n",
    "\n",
    "#settings for reconstruction with sparse mask \n",
    "# corr_type   = 'sparse mask'\n",
    "# num_mnist   = 1\n",
    "# label       = 'sparse95'\n",
    "# noise_level = 0.\n",
    "# num_comp    = 2\n",
    "\n",
    "# settings for reconstruction with noise\n",
    "corr_type   = 'noise'\n",
    "num_mnist   = 8\n",
    "label       = 'noise12'\n",
    "noise_level = 1.2\n",
    "params['plot_dir']   = os.path.join(PROJECT_PATH,'plots',label+'_'+str(num_mnist))\n",
    "\n",
    "# settings for reconstruction with noise and mask\n",
    "# corr_type   = 'noise+mask'\n",
    "# num_mnist   = 6\n",
    "# label       = 'masknoise05'\n",
    "# noise_level = 0.5\n",
    "# num_comp    = 2"
   ]
  },
  {
   "cell_type": "code",
   "execution_count": 38,
   "metadata": {
    "colab": {},
    "colab_type": "code",
    "id": "nxcZOE0MLGJ1"
   },
   "outputs": [],
   "source": [
    "def plot_image(image, save=True, directory='./plots/',filename='plotted_image', title='image',vmin=None,vmax=None, mask=None):\n",
    "  \n",
    "  if np.any(mask==None):\n",
    "    mask=np.ones((28,28))\n",
    "  mask = np.reshape(mask,(28,28))\n",
    "  plt.figure()\n",
    "  #plt.title(title)\n",
    "  plt.imshow((image).reshape((28,28))*mask,cmap='gray',vmin=vmin, vmax=vmax)\n",
    "  plt.axis('off')\n",
    "  #plt.colorbar()\n",
    "  if save: \n",
    "    plt.savefig(directory+filename+'.pdf',bbox_inches='tight')\n",
    "  plt.show()\n",
    "  \n",
    "  return True\n",
    "\n",
    "def get_custom_noise(shape, signal_dependent=False, signal =None, sigma_low=0.07, sigma_high=0.22, threshold=0.02 ):\n",
    "  \n",
    "  sigma = sigma_n\n",
    "  \n",
    "  if signal_dependent: \n",
    "    for ii in range(data_size):\n",
    "      sigma[ii][np.where(signal[ii]<=threshold)]= sigma_low\n",
    "      sigma[ii][np.where(signal[ii]>threshold)]= sigma_high\n",
    "      \n",
    "  data_noise = np.ones_like(sigma)*noise_level\n",
    "  \n",
    "  sigma = np.sqrt(sigma**2+data_noise**2)\n",
    "  \n",
    "  return sigma\n",
    "  \n",
    "\n",
    "def make_corrupted_data(x_true, corr_type='mask'):\n",
    "  \n",
    "  mask = np.ones((28,28))\n",
    "  \n",
    "  if corr_type=='mask':\n",
    "    \n",
    "    minx = 0\n",
    "    maxx = 18\n",
    "    \n",
    "    mask[0:28,minx:maxx]=0.\n",
    "    \n",
    "    corr_data = x_true*mask[None,:,:,None]\n",
    "    \n",
    "  elif corr_type=='sparse mask':\n",
    "    \n",
    "    mask    = np.ones(data_dim, dtype=int)\n",
    "    percent = 95\n",
    "    np.random.seed(seed+2)\n",
    "    indices = np.random.choice(np.arange(data_dim), replace=False,size=int(percent/100.*data_dim))\n",
    "    print('precentage masked:', len(indices)/data_dim)\n",
    "    mask[indices] =0 \n",
    "  \n",
    "    corr_data = x_true*mask[None,:,:]\n",
    "    \n",
    "  elif corr_type=='noise':\n",
    "    \n",
    "    np.random.seed(seed+2)\n",
    "    noise = np.reshape(np.random.randn((data_size*data_dim))*noise_level,((data_size,28,28)))\n",
    "    print(x_true.shape)\n",
    "    corr_data = np.reshape(np.squeeze(x_true)+noise,(data_size,28,28))\n",
    "    \n",
    "  elif corr_type=='noise+mask':\n",
    "    \n",
    "    np.random.seed(seed+2)\n",
    "    noise = np.random.randn(data_dim*data_size)*noise_level\n",
    "    \n",
    "    minx = 14\n",
    "    maxx = 28\n",
    "    \n",
    "    mask[0:28,minx:maxx]=0.\n",
    "    mask = mask.reshape((28,28))\n",
    "    \n",
    "    corr_data = x_true+noise\n",
    "    corr_data = corr_data*mask[None,:,:]\n",
    "    \n",
    "  elif corr_type=='none':\n",
    "    \n",
    "    corr_data = x_true\n",
    "    \n",
    "  corr_data = np.expand_dims(corr_data,-1)\n",
    "  \n",
    "  mask = mask.flatten()\n",
    "  \n",
    "  return corr_data, mask"
   ]
  },
  {
   "cell_type": "code",
   "execution_count": 39,
   "metadata": {
    "colab": {},
    "colab_type": "code",
    "id": "9TIQArTJHE87"
   },
   "outputs": [],
   "source": [
    "def fwd_pass(generator,nvp,z,mask):\n",
    "  \n",
    "  fwd_z           = nvp({'z_sample':np.zeros((1,hidden_size)),'sample_size':1, 'u_sample':z},as_dict=True)['fwd_pass']\n",
    "  fwd_z           = generator({'z':z},as_dict=True)['x']\n",
    "  gen_z           = tf.boolean_mask(tf.reshape(fwd_z,[data_size,data_dim,n_channels]),mask, axis=1)\n",
    "\n",
    "  return gen_z\n",
    "\n",
    "\n",
    "def get_likelihood(generator,nvp,z,sigma,mask):\n",
    "  \n",
    "  gen_z           = fwd_pass(generator,nvp,z,mask)\n",
    "  \n",
    "  sigma           = tf.boolean_mask(sigma,mask, axis=1)\n",
    "\n",
    "  likelihood      = tfd.Independent(tfd.MultivariateNormalDiag(loc=gen_z,scale_diag=sigma))\n",
    "\n",
    "  return likelihood\n",
    "\n",
    "def get_prior():\n",
    "  \n",
    "  return tfd.MultivariateNormalDiag(tf.zeros([data_size,hidden_size]), scale_identity_multiplier=1.0, name ='prior')\n",
    "\n",
    "def get_log_posterior(z,x,generator,nvp,sigma,mask, beta):\n",
    "  \n",
    "  likelihood      = get_likelihood(generator,nvp,z,sigma,mask)\n",
    "  \n",
    "  prior           = get_prior()\n",
    "  \n",
    "  masked_x        = tf.boolean_mask(x,mask, axis=1)\n",
    "  \n",
    "  log_posterior   = prior.log_prob(z)+likelihood.log_prob(masked_x)*beta\n",
    "  \n",
    "  return log_posterior\n",
    "\n",
    "\n",
    "def get_recon(generator,nvp, z,sigma,mask):\n",
    "  \n",
    "  prob = get_likelihood(generator,nvp, z,sigma,mask)\n",
    "  \n",
    "  recon= prob.mean()\n",
    "  \n",
    "  return recon\n",
    "\n",
    "def get_hessian(func, z):\n",
    "  \n",
    "  hess             = tf.hessians(func,z)\n",
    "  hess             = tf.gather(hess, 0)\n",
    "  \n",
    "  return(tf.reduce_sum(hess, axis = 2 ))\n",
    "\n",
    "\n",
    "def get_GN_hessian(generator,nvp,z,mask,sigma):\n",
    "\n",
    "\n",
    "  gen_z            = fwd_pass(generator,nvp,z,mask)\n",
    "  \n",
    "  sigma            = tf.boolean_mask(sigma,mask, axis=1)\n",
    "\n",
    "  grad_g           = tf.gather(tf.gradients(gen_z/(sigma),z),0)\n",
    "\n",
    "  grad_g2          = tf.einsum('ij,ik->ijk',grad_g,grad_g)\n",
    "\n",
    "  one              = tf.linalg.eye(hidden_size, batch_shape=[data_size],dtype=tf.float32)\n",
    "\n",
    "  hess_GN          = one+grad_g2\n",
    "  \n",
    "  return hess_GN\n",
    "  \n",
    "def compute_covariance(hessian):\n",
    "  \n",
    "  hessian = transform_diagonal(hessian, None, 1e-4)\n",
    "  cov = tf.linalg.inv(hessian)\n",
    "  \n",
    "  cov = (cov+tf.linalg.transpose(cov))*0.5\n",
    "  \n",
    "  return cov"
   ]
  },
  {
   "cell_type": "code",
   "execution_count": 40,
   "metadata": {
    "colab": {},
    "colab_type": "code",
    "id": "QGyi6PVWx1qd"
   },
   "outputs": [],
   "source": [
    "def minimize_posterior(initial_value, x, custom_mask, noise, my_sess, annealing =True):\n",
    "  \n",
    "  ini = np.reshape(initial_value,[data_size,hidden_size])\n",
    "  \n",
    "  my_sess.run(MAP_reset,feed_dict={input_data: x, MAP_ini:ini, mask:custom_mask,sigma_corr:noise})\n",
    "  \n",
    "  pos_def = False\n",
    "\n",
    "  \n",
    "  posterior_loss = []\n",
    "  for lrate, numiter in zip([1e-1,1e-2,1e-3,1e-4],[10000,10000,10000,10000]):\n",
    "    print('lrate', lrate)\n",
    "    for jj in range(numiter):\n",
    "      if annealing and lrate==1e-1:\n",
    "        inv_T= np.round(0.5*np.exp(-(1.-jj/numiter)),decimals=1)\n",
    "      else:\n",
    "        inv_T= 1.\n",
    "      _, ll = my_sess.run([opt_op_MAP,loss_MAP],feed_dict={input_data: x, mask:custom_mask, sigma_corr:noise, lr: lrate, inverse_T:inv_T})\n",
    "      posterior_loss.append(ll)\n",
    "      if jj%1000==0:\n",
    "        print('iter', jj, 'loss', ll,r'inverse T', inv_T)\n",
    "        \n",
    "  z_value = my_sess.run(MAP,feed_dict={input_data: x, mask:custom_mask, sigma_corr:noise})\n",
    "  \n",
    "  eig     = my_sess.run(tf.linalg.eigvalsh(hessian[0]),feed_dict={input_data: x, mask:custom_mask,sigma_corr:noise})\n",
    "  hess    = my_sess.run(hessian[0],feed_dict={input_data: x, mask:custom_mask,sigma_corr:noise})\n",
    "  hessGN  = my_sess.run(hessian_GN[0],feed_dict={input_data: x, mask:custom_mask,sigma_corr:noise})\n",
    "  print('eig', eig)\n",
    "  if np.all(eig>0.):\n",
    "    pos_def = True\n",
    "  \n",
    "  loss    = ll\n",
    "  plt.figure()\n",
    "  plt.plot(posterior_loss)\n",
    "  plt.ylabel('loss')\n",
    "  plt.xlabel('iteration')\n",
    "  plt.show()\n",
    "  \n",
    "  return z_value, loss, pos_def, hess, hessGN\n",
    "  "
   ]
  },
  {
   "cell_type": "code",
   "execution_count": 41,
   "metadata": {
    "colab": {},
    "colab_type": "code",
    "id": "oiAie-wjUcHN"
   },
   "outputs": [],
   "source": [
    "def get_laplace_sample(num,map_value,x,mymask,noise,my_sess):\n",
    "  \n",
    "  my_sess.run(MAP_reset,feed_dict={MAP_ini:map_value})\n",
    "  my_sess.run(update_mu)\n",
    "  my_sess.run(update_TriL,feed_dict={input_data: x, mask: mymask, sigma_corr:noise})\n",
    "  \n",
    "  samples=[]\n",
    "  for ii in range(num):\n",
    "    my_sess.run(posterior_sample,feed_dict={input_data: x, sigma_corr:noise})\n",
    "    samples.append(my_sess.run(recon,feed_dict={input_data: x, sigma_corr:noise}))\n",
    "    \n",
    "  samples=np.asarray(samples)\n",
    "  return samples\n",
    "\n",
    "def get_gmm_sample(num,x,mymask,noise,my_sess):\n",
    "  \n",
    "  samples=[]\n",
    "  for ii in range(num):\n",
    "    samples.append(my_sess.run(gmm_recon,feed_dict={input_data: x, sigma_corr:noise}))\n",
    "    \n",
    "  samples=np.asarray(samples)\n",
    "  return samples"
   ]
  },
  {
   "cell_type": "code",
   "execution_count": 42,
   "metadata": {
    "colab": {},
    "colab_type": "code",
    "id": "SXhLJToHcp7b"
   },
   "outputs": [],
   "source": [
    "def plot_samples(samples, mask, title='samples', filename='samples'):\n",
    "  plt.figure()\n",
    "  plt.title(title)\n",
    "  for i in range(min(len(samples),16)):\n",
    "      subplot(4,4,i+1)\n",
    "      imshow(np.reshape(samples[i,:],(28,28)),vmin=-0.2,vmax=1.2, cmap='gray')\n",
    "      axis('off')\n",
    "  plt.savefig(plot_path+filename+'.pdf',bbox_inches='tight')\n",
    "  plt.show()\n",
    "  \n",
    "  if corr_type in ['mask', 'sparse mask', 'noise+mask']:\n",
    "    plt.figure()\n",
    "    plt.title('masked'+title)\n",
    "    for i in range(min(len(samples),16)):\n",
    "        subplot(4,4,i+1)\n",
    "        imshow(np.reshape(samples[i,0,:,0]*mask,(28,28)),vmin=-0.2,vmax=1.2, cmap='gray')\n",
    "        axis('off')     \n",
    "    plt.savefig(plot_path+filename+'masked.pdf',bbox_inches='tight')\n",
    "    plt.show()"
   ]
  },
  {
   "cell_type": "code",
   "execution_count": 43,
   "metadata": {
    "colab": {},
    "colab_type": "code",
    "id": "LYAt6f7MQSpa"
   },
   "outputs": [],
   "source": [
    "def get_random_start_values(num, my_sess):\n",
    "  result=[]\n",
    "  for ii in range(num):\n",
    "    result.append(my_sess.run(get_prior().sample()))\n",
    "  return result"
   ]
  },
  {
   "cell_type": "code",
   "execution_count": 44,
   "metadata": {
    "colab": {},
    "colab_type": "code",
    "id": "BaFIFXBnQ3o-"
   },
   "outputs": [],
   "source": [
    "def get_chi2(sigma,data,mean,masking=True, mask=None,threshold=0.02):\n",
    "  \n",
    "  if masking:\n",
    "    mask = np.reshape(mask,data.shape)\n",
    "    data = data[np.where(mask==1)]\n",
    "    mean = mean[np.where(mask==1)]\n",
    "    sigma= sigma[np.where(mask==1)]\n",
    "    \n",
    "  \n",
    "  low = min(sigma.flatten())\n",
    "  high= max(sigma.flatten())\n",
    "  \n",
    "  chi2_tot = np.sum((data-mean)**2/sigma**2)\n",
    "  dof_tot  = len(np.squeeze(data))\n",
    "  \n",
    "  if corr_type not in ['noise','noise+mask']:\n",
    "    chi2_low = np.sum((data[np.where(data<=threshold)]-mean[np.where(data<=threshold)])**2/sigma[np.where(data<=threshold)]**2)\n",
    "    dof_low  = len(np.squeeze(data[np.where(data<=threshold)]))\n",
    "    chi2_high= np.sum((data[np.where(data>threshold)]-mean[np.where(data>threshold)])**2/sigma[np.where(data>threshold)]**2)\n",
    "    dof_high = len(np.squeeze(data[np.where(data>threshold)]))\n",
    "  else:\n",
    "    chi2_low = None\n",
    "    dof_low  = None\n",
    "    chi2_high= None\n",
    "    dof_high = None\n",
    "  \n",
    "  return chi2_tot, dof_tot, chi2_low, dof_low, chi2_high, dof_high, masking"
   ]
  },
  {
   "cell_type": "code",
   "execution_count": 45,
   "metadata": {
    "colab": {},
    "colab_type": "code",
    "id": "yGtEbpIZ2vhx"
   },
   "outputs": [],
   "source": [
    "def plot_minima(minima, losses, var):\n",
    "\n",
    "  plt.figure()\n",
    "  plt.title('Minimization result')\n",
    "  plt.plot(np.arange(len(losses)),losses,ls='',marker='o')\n",
    "  plt.xlabel('# iteration')\n",
    "  plt.ylabel('loss')\n",
    "  plt.savefig(plot_path+'minimzation_results_%s.pdf'%(label),bbox_inches='tight')\n",
    "  plt.show()\n",
    "  \n",
    "  colors = matplotlib.colors.Normalize(vmin=min(losses), vmax=max(losses))\n",
    "  cmap   = matplotlib.cm.get_cmap('Spectral')\n",
    "  \n",
    "  var = np.squeeze(var)\n",
    "  plt.figure()\n",
    "  plt.title('value of hidden variables at minima')\n",
    "  for ii in range(len(minima)):\n",
    "  \n",
    "    yerr_= np.sqrt(var[ii])\n",
    "\n",
    "    plt.errorbar(np.arange(hidden_size),np.squeeze(minima)[ii], marker='o',ls='', c=cmap(colors(losses[ii])), mew=0, yerr=yerr_, label ='%d'%losses[ii])\n",
    "  plt.legend(ncol=4, loc=(1.01,0))\n",
    "  plt.xlabel('# hidden variable')\n",
    "  plt.ylabel('value')\n",
    "  plt.savefig(plot_path+'hidden_values_at_minima_%s.pdf'%(label),bbox_inches='tight')\n",
    "  plt.show()"
   ]
  },
  {
   "cell_type": "code",
   "execution_count": 47,
   "metadata": {
    "colab": {},
    "colab_type": "code",
    "id": "qrZDSLzEIKrn"
   },
   "outputs": [],
   "source": [
    "def get_gmm_parameters(minima, x, noise, mymask, offset):\n",
    "  mu   =[]\n",
    "  w    =[]\n",
    "  sigma=[]\n",
    "  print(len(minima), num_comp)\n",
    "  for ii in range(num_comp):\n",
    "\n",
    "    # do Laplace approximation around this minimum\n",
    "    mu+=[minima[ii][0]]\n",
    "\n",
    "    sess.run(MAP_reset,feed_dict={MAP_ini:minima[ii]})\n",
    "    sigma+=[sess.run(update_TriL,feed_dict={input_data: x, sigma_corr:noise, mask: mymask})]\n",
    "\n",
    "    # correct weighting of different minima according to El20 procedure, with samples at the maxima and well seperated maxima\n",
    "    logdet  = sess.run(tf.linalg.logdet(covariance[0]),feed_dict={input_data: x, sigma_corr:noise, mask: mymask})\n",
    "    logprob = sess.run(nlPost_MAP,feed_dict={input_data: x, sigma_corr:noise, mask: mymask})\n",
    "    w+=[np.exp(0.5*logdet+logprob+offset)]\n",
    "  print(np.asarray(w).shape)\n",
    "  print('weights of Gaussian mixtures:', np.asarray(w)[:,0]/np.sum(np.asarray(w)[:,0]))\n",
    "  mu     = np.reshape(np.asarray(mu),[1,num_comp,hidden_size])\n",
    "  sigma  = np.reshape(np.asarray(sigma)[:,0],[1,num_comp,hidden_size,hidden_size])\n",
    "  w      = np.squeeze(np.asarray(w)[:,0])\n",
    "                         \n",
    "  return mu, sigma, w\n",
    "                                 "
   ]
  },
  {
   "cell_type": "code",
   "execution_count": 48,
   "metadata": {
    "colab": {},
    "colab_type": "code",
    "id": "gQXNNSN7TecV"
   },
   "outputs": [],
   "source": [
    "def plot_prob_2D_GMM(samples, indices):\n",
    "\n",
    "    samples = samples[:,0,:]\n",
    "\n",
    "    samples = np.hstack((np.expand_dims(samples[:,indices[0]],-1),np.expand_dims(samples[:,indices[1]],-1)))\n",
    "\n",
    "    figure=corner.corner(samples)\n",
    "    axes = np.array(figure.axes).reshape((2, 2))\n",
    "\n",
    "    axes[1,0].set_xlabel('latent space variable %d'%indices[0])\n",
    "    axes[1,0].set_ylabel('latent space variable %d'%indices[1])\n",
    "    plt.savefig(plot_path+'posterior_contour_GMM_%s_latent_space_dir_%d_%d.pdf'%(label,indices[0],indices[1]),bbox_inches='tight')\n",
    "    plt.show()\n",
    "    \n",
    "  "
   ]
  },
  {
   "cell_type": "code",
   "execution_count": 49,
   "metadata": {},
   "outputs": [],
   "source": [
    "def transform_diagonal(matrix, transform=tf.nn.softplus, add=0):\n",
    "  diag = tf.linalg.diag_part(matrix)\n",
    "  if transform is not None:\n",
    "    diag = transform(diag)\n",
    "  transformed_diag = diag+add\n",
    "  new_matrix = tf.linalg.set_diag(matrix, transformed_diag)\n",
    "  return new_matrix"
   ]
  },
  {
   "cell_type": "code",
   "execution_count": null,
   "metadata": {
    "colab": {
     "base_uri": "https://localhost:8080/",
     "height": 353
    },
    "colab_type": "code",
    "executionInfo": {
     "elapsed": 14338,
     "status": "ok",
     "timestamp": 1558592190485,
     "user": {
      "displayName": "",
      "photoUrl": "",
      "userId": "18062987068597777273"
     },
     "user_tz": 420
    },
    "id": "yvTEYw44O_5q",
    "outputId": "31ee8455-c44d-493e-e04f-e1d42abffdf7"
   },
   "outputs": [],
   "source": [
    "tf.reset_default_graph()\n",
    "\n",
    "\n",
    "sigma_corr  = tf.placeholder_with_default(noise_n,shape=[1,data_dim,n_channels])\n",
    "mask        = tf.placeholder_with_default(np.ones([data_dim], dtype='float32'),shape=[data_dim])\n",
    "input_data  = tf.placeholder(shape=[data_size,data_dim,n_channels], dtype=tf.float32)\n",
    "\n",
    "inverse_T   = tf.placeholder_with_default(1., shape=[])\n",
    "lr          = tf.placeholder_with_default(0.001,shape=[])\n",
    "\n",
    "encoder     = hub.Module(encoder_path, trainable=False)\n",
    "generator   = hub.Module(generator_path, trainable=False)\n",
    "nvp_funcs   = hub.Module(nvp_path, trainable=False)\n",
    "\n",
    "MAP_ini     = tf.placeholder_with_default(tf.zeros([data_size,hidden_size]),shape=[data_size,hidden_size])\n",
    "MAP         = tf.Variable(MAP_ini)\n",
    "MAP_reset   = tf.stop_gradient(MAP.assign(MAP_ini))\n",
    "\n",
    "nlPost_MAP  = get_log_posterior(MAP, input_data, generator,nvp_funcs, sigma_corr,mask, inverse_T)\n",
    "loss_MAP    = -nlPost_MAP[0]\n",
    "\n",
    "optimizer   = tf.train.AdamOptimizer(learning_rate=lr)\n",
    "\n",
    "opt_op_MAP  = optimizer.minimize(loss_MAP, var_list=[MAP])\n",
    "\n",
    "recon_MAP   = get_recon(generator,nvp_funcs, MAP,sigma_corr,mask)\n",
    "\n",
    "hessian            = get_hessian(-nlPost_MAP,MAP)\n",
    "hessian_GN         = get_GN_hessian(generator,nvp_funcs,MAP,mask,sigma_corr)\n",
    "covariance         = compute_covariance(hessian)\n",
    "variance           = tf.linalg.diag_part(covariance)[0]\n",
    "print(covariance)\n",
    "# \n",
    "\n",
    "# ini_val  = np.ones((1,(hidden_size *(hidden_size +1)) // 2),dtype=np.float32)\n",
    "# with tf.variable_scope(\"Laplace_Posterior\",reuse=tf.AUTO_REUSE):\n",
    "#   mu_new      = tf.Variable(np.ones((1,hidden_size),dtype=np.float32), dtype=np.float32)\n",
    "#   sigma_new_t = ini_val\n",
    "#   sigma_new_t = transform_diagonal(tfp.math.fill_triangular(sigma_new_t))   \n",
    "#   sigma_new_t2 = tf.Variable(sigma_new_t,dtype=tf.float32)\n",
    "    \n",
    "# update_mu          = MAP_update.assign(tf.expand_dims(MAP[0],0))\n",
    "\n",
    "approx_posterior_laplace = tfd.MultivariateNormalFullCovariance(loc=MAP[0],covariance_matrix=covariance[0])\n",
    "\n",
    "\n",
    "\n",
    "#update_TriL        = TriL_update.assign(tf.expand_dims(tf.linalg.cholesky(covariance[0]),0))\n",
    "\n",
    "posterior_sample   = approx_posterior_laplace.sample(64)\n",
    "\n",
    "recon              = get_recon(generator,nvp_funcs, posterior_sample ,sigma_corr,mask)\n",
    "\n",
    "# ini_val2    = np.ones((1,num_comp,(hidden_size *(hidden_size +1)) // 2),dtype=np.float32)\n",
    "# with tf.variable_scope(\"corrupted/gmm\",reuse=tf.AUTO_REUSE):\n",
    "#   mu_gmm      = tf.Variable(np.ones((1,num_comp,hidden_size)), dtype=np.float32)\n",
    "#   sigma_gmm   = tf.Variable(tfp.math.fill_triangular(ini_val2))\n",
    "#   w_gmm       = tf.Variable(np.ones((num_comp))/num_comp, dtype=np.float32)\n",
    "  \n",
    "# sigma_gmmt    = transform_diagonal(sigma_gmm)\n",
    "# w_positive    = tf.math.softplus(w_gmm)\n",
    "# w_rescaled    = tf.squeeze(w_positive/tf.reduce_sum(w_positive))\n",
    "\n",
    "# gmm           = tfd.MixtureSameFamily(mixture_distribution=tfd.Categorical(probs=w_rescaled),components_distribution=tfd.MultivariateNormalTriL(loc=mu_gmm,scale_tril=sigma_gmmt))\n",
    "\n",
    "# mu_ini        = tf.placeholder_with_default(tf.zeros([1,num_comp,hidden_size]),shape=[1,num_comp,hidden_size])\n",
    "# sigma_ini     = tf.placeholder_with_default(tf.ones([1,num_comp,hidden_size, hidden_size]),shape=[1,num_comp,hidden_size, hidden_size])\n",
    "# w_ini         = tf.placeholder_with_default(tf.ones([num_comp])/num_comp,shape=[num_comp])\n",
    "\n",
    "# update_w      = tf.stop_gradient(w_gmm.assign(tfp.math.softplus_inverse(w_ini)))\n",
    "# update_mugmm  = tf.stop_gradient(mu_gmm.assign(mu_ini))\n",
    "# update_TriLgmm= tf.stop_gradient(sigma_gmm.assign(transform_diagonal(sigma_ini)))\n",
    "\n",
    "# gmm_sample    = gmm.sample()\n",
    "# gmm_sample    = tf.repeat(gmm_sample, params['batch_size'], axis=0)\n",
    "# # print(gmm_sample)\n",
    "# gmm_recon     = get_recon(generator,nvp_funcs, gmm_sample ,sigma_corr,mask)\n"
   ]
  },
  {
   "cell_type": "code",
   "execution_count": 51,
   "metadata": {},
   "outputs": [],
   "source": [
    "minima_path = os.path.join('../minimas/',label)\n",
    "try:\n",
    "    os.makedirs(minima_path)\n",
    "except:\n",
    "    pass"
   ]
  },
  {
   "cell_type": "code",
   "execution_count": 52,
   "metadata": {
    "colab": {
     "base_uri": "https://localhost:8080/",
     "height": 4721
    },
    "colab_type": "code",
    "executionInfo": {
     "elapsed": 131558,
     "status": "ok",
     "timestamp": 1558592307817,
     "user": {
      "displayName": "",
      "photoUrl": "",
      "userId": "18062987068597777273"
     },
     "user_tz": 420
    },
    "id": "Soh1tnGH1FTW",
    "outputId": "48802731-2a32-48fc-fd12-071300e5c583"
   },
   "outputs": [
    {
     "data": {
      "image/png": "[encoded data removed]",
      "text/plain": [
       "<Figure size 432x288 with 1 Axes>"
      ]
     },
     "metadata": {
      "needs_background": "light"
     },
     "output_type": "display_data"
    },
    {
     "name": "stdout",
     "output_type": "stream",
     "text": [
      "noise (64, 28, 28, 1)\n",
      "(64, 28, 28, 1)\n",
      "(64, 28, 28, 1)\n"
     ]
    },
    {
     "data": {
      "image/png": "[encoded data removed]",
      "text/plain": [
       "<Figure size 432x288 with 1 Axes>"
      ]
     },
     "metadata": {
      "needs_background": "light"
     },
     "output_type": "display_data"
    },
    {
     "data": {
      "image/png": "[encoded data removed]",
      "text/plain": [
       "<Figure size 432x288 with 1 Axes>"
      ]
     },
     "metadata": {
      "needs_background": "light"
     },
     "output_type": "display_data"
    },
    {
     "data": {
      "image/png": "[encoded data removed]",
      "text/plain": [
       "<Figure size 432x288 with 1 Axes>"
      ]
     },
     "metadata": {
      "needs_background": "light"
     },
     "output_type": "display_data"
    },
    {
     "name": "stdout",
     "output_type": "stream",
     "text": [
      "progress in % 0.0\n",
      "lrate 0.1\n",
      "iter 0 loss 267.05457 inverse T 0.2\n",
      "iter 1000 loss 264.4007 inverse T 0.2\n",
      "iter 2000 loss 264.24213 inverse T 0.2\n",
      "iter 3000 loss 264.2541 inverse T 0.2\n",
      "iter 4000 loss 392.0798 inverse T 0.3\n",
      "iter 5000 loss 392.08273 inverse T 0.3\n",
      "iter 6000 loss 392.07507 inverse T 0.3\n",
      "iter 7000 loss 519.91223 inverse T 0.4\n",
      "iter 8000 loss 519.849 inverse T 0.4\n",
      "iter 9000 loss 647.62415 inverse T 0.5\n",
      "lrate 0.01\n",
      "iter 0 loss 1286.3456 inverse T 1.0\n",
      "iter 1000 loss 1286.2365 inverse T 1.0\n",
      "iter 2000 loss 1286.2361 inverse T 1.0\n",
      "iter 3000 loss 1286.2361 inverse T 1.0\n",
      "iter 4000 loss 1286.2437 inverse T 1.0\n",
      "iter 5000 loss 1286.237 inverse T 1.0\n",
      "iter 6000 loss 1286.2363 inverse T 1.0\n",
      "iter 7000 loss 1286.2448 inverse T 1.0\n",
      "iter 8000 loss 1286.2369 inverse T 1.0\n",
      "iter 9000 loss 1286.239 inverse T 1.0\n",
      "lrate 0.001\n",
      "iter 0 loss 1286.2368 inverse T 1.0\n",
      "iter 1000 loss 1286.2346 inverse T 1.0\n",
      "iter 2000 loss 1286.2343 inverse T 1.0\n",
      "iter 3000 loss 1286.2347 inverse T 1.0\n",
      "iter 4000 loss 1286.2345 inverse T 1.0\n",
      "iter 5000 loss 1286.2344 inverse T 1.0\n",
      "iter 6000 loss 1286.2345 inverse T 1.0\n",
      "iter 7000 loss 1286.2345 inverse T 1.0\n",
      "iter 8000 loss 1286.2346 inverse T 1.0\n",
      "iter 9000 loss 1286.2344 inverse T 1.0\n",
      "lrate 0.0001\n",
      "iter 0 loss 1286.2347 inverse T 1.0\n",
      "iter 1000 loss 1286.2343 inverse T 1.0\n",
      "iter 2000 loss 1286.2343 inverse T 1.0\n",
      "iter 3000 loss 1286.2343 inverse T 1.0\n",
      "iter 4000 loss 1286.2344 inverse T 1.0\n",
      "iter 5000 loss 1286.2344 inverse T 1.0\n",
      "iter 6000 loss 1286.2343 inverse T 1.0\n",
      "iter 7000 loss 1286.2344 inverse T 1.0\n",
      "iter 8000 loss 1286.2343 inverse T 1.0\n",
      "iter 9000 loss 1286.2344 inverse T 1.0\n",
      "eig [  5.8536043  14.464201   18.078798   22.36724    29.208529   51.662094\n",
      "  82.99907   189.37593  ]\n"
     ]
    },
    {
     "data": {
      "image/png": "[encoded data removed]",
      "text/plain": [
       "<Figure size 432x288 with 1 Axes>"
      ]
     },
     "metadata": {
      "needs_background": "light"
     },
     "output_type": "display_data"
    },
    {
     "data": {
      "image/png": "[encoded data removed]",
      "text/plain": [
       "<Figure size 432x288 with 1 Axes>"
      ]
     },
     "metadata": {
      "needs_background": "light"
     },
     "output_type": "display_data"
    },
    {
     "name": "stdout",
     "output_type": "stream",
     "text": [
      "hessian postive definite\n",
      "progress in % 10.0\n",
      "lrate 0.1\n",
      "iter 0 loss 271.66403 inverse T 0.2\n",
      "iter 1000 loss 263.18658 inverse T 0.2\n",
      "iter 2000 loss 263.19693 inverse T 0.2\n",
      "iter 3000 loss 263.2105 inverse T 0.2\n",
      "iter 4000 loss 390.35583 inverse T 0.3\n",
      "iter 5000 loss 390.3296 inverse T 0.3\n",
      "iter 6000 loss 390.3684 inverse T 0.3\n",
      "iter 7000 loss 517.3986 inverse T 0.4\n",
      "iter 8000 loss 517.41254 inverse T 0.4\n",
      "iter 9000 loss 644.5372 inverse T 0.5\n",
      "lrate 0.01\n",
      "iter 0 loss 1280.2136 inverse T 1.0\n",
      "iter 1000 loss 1279.7931 inverse T 1.0\n",
      "iter 2000 loss 1279.7946 inverse T 1.0\n",
      "iter 3000 loss 1279.8016 inverse T 1.0\n",
      "iter 4000 loss 1279.7963 inverse T 1.0\n",
      "iter 5000 loss 1279.795 inverse T 1.0\n",
      "iter 6000 loss 1279.795 inverse T 1.0\n",
      "iter 7000 loss 1279.7926 inverse T 1.0\n",
      "iter 8000 loss 1279.8009 inverse T 1.0\n",
      "iter 9000 loss 1279.796 inverse T 1.0\n",
      "lrate 0.001\n",
      "iter 0 loss 1279.7938 inverse T 1.0\n",
      "iter 1000 loss 1279.7917 inverse T 1.0\n",
      "iter 2000 loss 1279.7921 inverse T 1.0\n",
      "iter 3000 loss 1279.7924 inverse T 1.0\n",
      "iter 4000 loss 1279.7921 inverse T 1.0\n",
      "iter 5000 loss 1279.7917 inverse T 1.0\n",
      "iter 6000 loss 1279.7919 inverse T 1.0\n",
      "iter 7000 loss 1279.7921 inverse T 1.0\n",
      "iter 8000 loss 1279.7921 inverse T 1.0\n",
      "iter 9000 loss 1279.7919 inverse T 1.0\n",
      "lrate 0.0001\n",
      "iter 0 loss 1279.7921 inverse T 1.0\n",
      "iter 1000 loss 1279.7916 inverse T 1.0\n",
      "iter 2000 loss 1279.7916 inverse T 1.0\n",
      "iter 3000 loss 1279.7917 inverse T 1.0\n",
      "iter 4000 loss 1279.7916 inverse T 1.0\n",
      "iter 5000 loss 1279.7916 inverse T 1.0\n",
      "iter 6000 loss 1279.7916 inverse T 1.0\n",
      "iter 7000 loss 1279.7916 inverse T 1.0\n",
      "iter 8000 loss 1279.7916 inverse T 1.0\n",
      "iter 9000 loss 1279.7915 inverse T 1.0\n",
      "eig [  4.9603066  15.253626   24.098764   30.178898   36.152725   55.574062\n",
      "  68.388016  166.67657  ]\n"
     ]
    },
    {
     "data": {
      "image/png": "[encoded data removed]",
      "text/plain": [
       "<Figure size 432x288 with 1 Axes>"
      ]
     },
     "metadata": {
      "needs_background": "light"
     },
     "output_type": "display_data"
    },
    {
     "data": {
      "image/png": "[encoded data removed]",
      "text/plain": [
       "<Figure size 432x288 with 1 Axes>"
      ]
     },
     "metadata": {
      "needs_background": "light"
     },
     "output_type": "display_data"
    },
    {
     "name": "stdout",
     "output_type": "stream",
     "text": [
      "hessian postive definite\n",
      "progress in % 20.0\n",
      "lrate 0.1\n",
      "iter 0 loss 272.63974 inverse T 0.2\n",
      "iter 1000 loss 263.22046 inverse T 0.2\n",
      "iter 2000 loss 263.20212 inverse T 0.2\n",
      "iter 3000 loss 263.20612 inverse T 0.2\n",
      "iter 4000 loss 390.33466 inverse T 0.3\n",
      "iter 5000 loss 390.34665 inverse T 0.3\n",
      "iter 6000 loss 390.34058 inverse T 0.3\n",
      "iter 7000 loss 517.3952 inverse T 0.4\n",
      "iter 8000 loss 517.4153 inverse T 0.4\n",
      "iter 9000 loss 644.4245 inverse T 0.5\n",
      "lrate 0.01\n",
      "iter 0 loss 1279.4945 inverse T 1.0\n",
      "iter 1000 loss 1279.3851 inverse T 1.0\n",
      "iter 2000 loss 1279.3851 inverse T 1.0\n",
      "iter 3000 loss 1279.3851 inverse T 1.0\n",
      "iter 4000 loss 1279.3888 inverse T 1.0\n",
      "iter 5000 loss 1279.3867 inverse T 1.0\n",
      "iter 6000 loss 1279.3857 inverse T 1.0\n",
      "iter 7000 loss 1279.3864 inverse T 1.0\n",
      "iter 8000 loss 1279.3844 inverse T 1.0\n",
      "iter 9000 loss 1279.3843 inverse T 1.0\n",
      "lrate 0.001\n",
      "iter 0 loss 1279.2703 inverse T 1.0\n",
      "iter 1000 loss 1279.269 inverse T 1.0\n",
      "iter 2000 loss 1279.2687 inverse T 1.0\n",
      "iter 3000 loss 1279.2693 inverse T 1.0\n",
      "iter 4000 loss 1279.2688 inverse T 1.0\n",
      "iter 5000 loss 1279.2684 inverse T 1.0\n",
      "iter 6000 loss 1279.2684 inverse T 1.0\n",
      "iter 7000 loss 1279.2689 inverse T 1.0\n",
      "iter 8000 loss 1279.2689 inverse T 1.0\n",
      "iter 9000 loss 1279.2687 inverse T 1.0\n",
      "lrate 0.0001\n",
      "iter 0 loss 1279.2683 inverse T 1.0\n",
      "iter 1000 loss 1279.2682 inverse T 1.0\n",
      "iter 2000 loss 1279.2682 inverse T 1.0\n",
      "iter 3000 loss 1279.2682 inverse T 1.0\n",
      "iter 4000 loss 1279.2682 inverse T 1.0\n",
      "iter 5000 loss 1279.2682 inverse T 1.0\n",
      "iter 6000 loss 1279.2683 inverse T 1.0\n",
      "iter 7000 loss 1279.2682 inverse T 1.0\n",
      "iter 8000 loss 1279.2682 inverse T 1.0\n",
      "iter 9000 loss 1279.2683 inverse T 1.0\n",
      "eig [ 10.538687  19.053802  27.064537  38.391235  41.77045   65.596054\n",
      "  69.3369   124.94057 ]\n"
     ]
    },
    {
     "data": {
      "image/png": "[encoded data removed]",
      "text/plain": [
       "<Figure size 432x288 with 1 Axes>"
      ]
     },
     "metadata": {
      "needs_background": "light"
     },
     "output_type": "display_data"
    },
    {
     "data": {
      "image/png": "[encoded data removed]",
      "text/plain": [
       "<Figure size 432x288 with 1 Axes>"
      ]
     },
     "metadata": {
      "needs_background": "light"
     },
     "output_type": "display_data"
    },
    {
     "name": "stdout",
     "output_type": "stream",
     "text": [
      "hessian postive definite\n",
      "progress in % 30.0\n",
      "lrate 0.1\n",
      "iter 0 loss 273.86603 inverse T 0.2\n",
      "iter 1000 loss 263.21655 inverse T 0.2\n",
      "iter 2000 loss 263.19528 inverse T 0.2\n",
      "iter 3000 loss 263.20172 inverse T 0.2\n",
      "iter 4000 loss 390.3561 inverse T 0.3\n",
      "iter 5000 loss 390.34607 inverse T 0.3\n",
      "iter 6000 loss 390.30753 inverse T 0.3\n",
      "iter 7000 loss 517.4605 inverse T 0.4\n",
      "iter 8000 loss 517.42847 inverse T 0.4\n",
      "iter 9000 loss 644.53064 inverse T 0.5\n",
      "lrate 0.01\n",
      "iter 0 loss 1279.9202 inverse T 1.0\n",
      "iter 1000 loss 1279.795 inverse T 1.0\n",
      "iter 2000 loss 1279.7948 inverse T 1.0\n",
      "iter 3000 loss 1279.7958 inverse T 1.0\n",
      "iter 4000 loss 1279.8041 inverse T 1.0\n",
      "iter 5000 loss 1279.7947 inverse T 1.0\n",
      "iter 6000 loss 1279.7974 inverse T 1.0\n",
      "iter 7000 loss 1279.8021 inverse T 1.0\n",
      "iter 8000 loss 1279.7946 inverse T 1.0\n",
      "iter 9000 loss 1279.7948 inverse T 1.0\n",
      "lrate 0.001\n",
      "iter 0 loss 1279.7947 inverse T 1.0\n",
      "iter 1000 loss 1279.7917 inverse T 1.0\n",
      "iter 2000 loss 1279.792 inverse T 1.0\n",
      "iter 3000 loss 1279.792 inverse T 1.0\n",
      "iter 4000 loss 1279.7919 inverse T 1.0\n",
      "iter 5000 loss 1279.7926 inverse T 1.0\n",
      "iter 6000 loss 1279.7922 inverse T 1.0\n",
      "iter 7000 loss 1279.7922 inverse T 1.0\n",
      "iter 8000 loss 1279.792 inverse T 1.0\n",
      "iter 9000 loss 1279.7922 inverse T 1.0\n",
      "lrate 0.0001\n",
      "iter 0 loss 1279.7922 inverse T 1.0\n",
      "iter 1000 loss 1279.7915 inverse T 1.0\n",
      "iter 2000 loss 1279.7916 inverse T 1.0\n",
      "iter 3000 loss 1279.7916 inverse T 1.0\n",
      "iter 4000 loss 1279.7916 inverse T 1.0\n",
      "iter 5000 loss 1279.7915 inverse T 1.0\n",
      "iter 6000 loss 1279.7916 inverse T 1.0\n",
      "iter 7000 loss 1279.7916 inverse T 1.0\n",
      "iter 8000 loss 1279.7915 inverse T 1.0\n",
      "iter 9000 loss 1279.7916 inverse T 1.0\n",
      "eig [  5.5126247  15.118842   24.647266   30.148169   36.13698    56.220867\n",
      "  67.27759   166.8063   ]\n"
     ]
    },
    {
     "data": {
      "image/png": "[encoded data removed]",
      "text/plain": [
       "<Figure size 432x288 with 1 Axes>"
      ]
     },
     "metadata": {
      "needs_background": "light"
     },
     "output_type": "display_data"
    },
    {
     "data": {
      "image/png": "[encoded data removed]",
      "text/plain": [
       "<Figure size 432x288 with 1 Axes>"
      ]
     },
     "metadata": {
      "needs_background": "light"
     },
     "output_type": "display_data"
    },
    {
     "name": "stdout",
     "output_type": "stream",
     "text": [
      "hessian postive definite\n",
      "progress in % 40.0\n",
      "lrate 0.1\n",
      "iter 0 loss 267.02023 inverse T 0.2\n",
      "iter 1000 loss 263.20325 inverse T 0.2\n",
      "iter 2000 loss 263.21597 inverse T 0.2\n",
      "iter 3000 loss 263.2039 inverse T 0.2\n",
      "iter 4000 loss 390.33807 inverse T 0.3\n",
      "iter 5000 loss 390.3555 inverse T 0.3\n",
      "iter 6000 loss 390.34573 inverse T 0.3\n",
      "iter 7000 loss 517.43115 inverse T 0.4\n",
      "iter 8000 loss 517.40356 inverse T 0.4\n",
      "iter 9000 loss 644.54175 inverse T 0.5\n",
      "lrate 0.01\n",
      "iter 0 loss 1279.5405 inverse T 1.0\n",
      "iter 1000 loss 1279.3854 inverse T 1.0\n",
      "iter 2000 loss 1279.3878 inverse T 1.0\n",
      "iter 3000 loss 1279.3846 inverse T 1.0\n",
      "iter 4000 loss 1279.276 inverse T 1.0\n",
      "iter 5000 loss 1279.2701 inverse T 1.0\n",
      "iter 6000 loss 1279.2703 inverse T 1.0\n",
      "iter 7000 loss 1279.2714 inverse T 1.0\n",
      "iter 8000 loss 1279.2719 inverse T 1.0\n",
      "iter 9000 loss 1279.2704 inverse T 1.0\n",
      "lrate 0.001\n",
      "iter 0 loss 1279.2732 inverse T 1.0\n",
      "iter 1000 loss 1279.269 inverse T 1.0\n",
      "iter 2000 loss 1279.2686 inverse T 1.0\n",
      "iter 3000 loss 1279.2686 inverse T 1.0\n",
      "iter 4000 loss 1279.2688 inverse T 1.0\n",
      "iter 5000 loss 1279.2686 inverse T 1.0\n",
      "iter 6000 loss 1279.2686 inverse T 1.0\n",
      "iter 7000 loss 1279.2684 inverse T 1.0\n",
      "iter 8000 loss 1279.2683 inverse T 1.0\n",
      "iter 9000 loss 1279.2689 inverse T 1.0\n",
      "lrate 0.0001\n",
      "iter 0 loss 1279.2683 inverse T 1.0\n",
      "iter 1000 loss 1279.2682 inverse T 1.0\n",
      "iter 2000 loss 1279.2682 inverse T 1.0\n",
      "iter 3000 loss 1279.2682 inverse T 1.0\n",
      "iter 4000 loss 1279.2682 inverse T 1.0\n",
      "iter 5000 loss 1279.2683 inverse T 1.0\n",
      "iter 6000 loss 1279.2682 inverse T 1.0\n",
      "iter 7000 loss 1279.2682 inverse T 1.0\n",
      "iter 8000 loss 1279.2682 inverse T 1.0\n",
      "iter 9000 loss 1279.2683 inverse T 1.0\n",
      "eig [ 10.549436  19.07953   26.980677  38.34529   41.711784  65.48993\n",
      "  69.42349  124.93567 ]\n"
     ]
    },
    {
     "data": {
      "image/png": "[encoded data removed]",
      "text/plain": [
       "<Figure size 432x288 with 1 Axes>"
      ]
     },
     "metadata": {
      "needs_background": "light"
     },
     "output_type": "display_data"
    },
    {
     "data": {
      "image/png": "[encoded data removed]",
      "text/plain": [
       "<Figure size 432x288 with 1 Axes>"
      ]
     },
     "metadata": {
      "needs_background": "light"
     },
     "output_type": "display_data"
    },
    {
     "name": "stdout",
     "output_type": "stream",
     "text": [
      "hessian postive definite\n",
      "progress in % 50.0\n",
      "lrate 0.1\n",
      "iter 0 loss 271.25385 inverse T 0.2\n",
      "iter 1000 loss 264.16162 inverse T 0.2\n",
      "iter 2000 loss 264.16418 inverse T 0.2\n",
      "iter 3000 loss 264.15945 inverse T 0.2\n",
      "iter 4000 loss 391.92102 inverse T 0.3\n",
      "iter 5000 loss 391.9136 inverse T 0.3\n",
      "iter 6000 loss 391.9224 inverse T 0.3\n",
      "iter 7000 loss 519.64215 inverse T 0.4\n",
      "iter 8000 loss 519.6785 inverse T 0.4\n",
      "iter 9000 loss 647.3656 inverse T 0.5\n",
      "lrate 0.01\n",
      "iter 0 loss 1285.8131 inverse T 1.0\n",
      "iter 1000 loss 1285.7025 inverse T 1.0\n",
      "iter 2000 loss 1285.7058 inverse T 1.0\n",
      "iter 3000 loss 1285.7056 inverse T 1.0\n",
      "iter 4000 loss 1285.7037 inverse T 1.0\n",
      "iter 5000 loss 1285.7028 inverse T 1.0\n",
      "iter 6000 loss 1285.7019 inverse T 1.0\n",
      "iter 7000 loss 1285.7023 inverse T 1.0\n",
      "iter 8000 loss 1285.7036 inverse T 1.0\n",
      "iter 9000 loss 1285.7019 inverse T 1.0\n",
      "lrate 0.001\n",
      "iter 0 loss 1285.7032 inverse T 1.0\n",
      "iter 1000 loss 1285.7007 inverse T 1.0\n",
      "iter 2000 loss 1285.7006 inverse T 1.0\n",
      "iter 3000 loss 1285.7007 inverse T 1.0\n",
      "iter 4000 loss 1285.7008 inverse T 1.0\n",
      "iter 5000 loss 1285.7004 inverse T 1.0\n",
      "iter 6000 loss 1285.7004 inverse T 1.0\n",
      "iter 7000 loss 1285.7006 inverse T 1.0\n",
      "iter 8000 loss 1285.7006 inverse T 1.0\n",
      "iter 9000 loss 1285.7009 inverse T 1.0\n",
      "lrate 0.0001\n",
      "iter 0 loss 1285.7008 inverse T 1.0\n",
      "iter 1000 loss 1285.7004 inverse T 1.0\n",
      "iter 2000 loss 1285.7006 inverse T 1.0\n",
      "iter 3000 loss 1285.7006 inverse T 1.0\n",
      "iter 4000 loss 1285.7004 inverse T 1.0\n",
      "iter 5000 loss 1285.7006 inverse T 1.0\n",
      "iter 6000 loss 1285.7004 inverse T 1.0\n",
      "iter 7000 loss 1285.7006 inverse T 1.0\n",
      "iter 8000 loss 1285.7006 inverse T 1.0\n",
      "iter 9000 loss 1285.7004 inverse T 1.0\n",
      "eig [  8.212472  18.40944   27.763004  32.319756  36.824703  54.540516\n",
      "  86.130554 144.142   ]\n"
     ]
    },
    {
     "data": {
      "image/png": "[encoded data removed]",
      "text/plain": [
       "<Figure size 432x288 with 1 Axes>"
      ]
     },
     "metadata": {
      "needs_background": "light"
     },
     "output_type": "display_data"
    },
    {
     "data": {
      "image/png": "[encoded data removed]",
      "text/plain": [
       "<Figure size 432x288 with 1 Axes>"
      ]
     },
     "metadata": {
      "needs_background": "light"
     },
     "output_type": "display_data"
    },
    {
     "name": "stdout",
     "output_type": "stream",
     "text": [
      "hessian postive definite\n",
      "progress in % 60.0\n",
      "lrate 0.1\n",
      "iter 0 loss 272.73502 inverse T 0.2\n",
      "iter 1000 loss 263.21558 inverse T 0.2\n",
      "iter 2000 loss 263.2035 inverse T 0.2\n",
      "iter 3000 loss 263.20303 inverse T 0.2\n",
      "iter 4000 loss 390.32257 inverse T 0.3\n",
      "iter 5000 loss 390.35022 inverse T 0.3\n",
      "iter 6000 loss 390.3548 inverse T 0.3\n",
      "iter 7000 loss 517.39996 inverse T 0.4\n",
      "iter 8000 loss 517.41864 inverse T 0.4\n",
      "iter 9000 loss 644.4669 inverse T 0.5\n",
      "lrate 0.01\n",
      "iter 0 loss 1279.6149 inverse T 1.0\n",
      "iter 1000 loss 1279.2766 inverse T 1.0\n",
      "iter 2000 loss 1279.2745 inverse T 1.0\n",
      "iter 3000 loss 1279.2747 inverse T 1.0\n",
      "iter 4000 loss 1279.275 inverse T 1.0\n",
      "iter 5000 loss 1279.2712 inverse T 1.0\n",
      "iter 6000 loss 1279.272 inverse T 1.0\n",
      "iter 7000 loss 1279.2698 inverse T 1.0\n",
      "iter 8000 loss 1279.2832 inverse T 1.0\n",
      "iter 9000 loss 1279.2699 inverse T 1.0\n",
      "lrate 0.001\n",
      "iter 0 loss 1279.2714 inverse T 1.0\n",
      "iter 1000 loss 1279.2683 inverse T 1.0\n",
      "iter 2000 loss 1279.2686 inverse T 1.0\n",
      "iter 3000 loss 1279.2681 inverse T 1.0\n",
      "iter 4000 loss 1279.2687 inverse T 1.0\n",
      "iter 5000 loss 1279.2686 inverse T 1.0\n",
      "iter 6000 loss 1279.2682 inverse T 1.0\n",
      "iter 7000 loss 1279.2686 inverse T 1.0\n",
      "iter 8000 loss 1279.2686 inverse T 1.0\n",
      "iter 9000 loss 1279.2686 inverse T 1.0\n",
      "lrate 0.0001\n",
      "iter 0 loss 1279.2692 inverse T 1.0\n",
      "iter 1000 loss 1279.2681 inverse T 1.0\n",
      "iter 2000 loss 1279.2682 inverse T 1.0\n",
      "iter 3000 loss 1279.2682 inverse T 1.0\n",
      "iter 4000 loss 1279.2682 inverse T 1.0\n",
      "iter 5000 loss 1279.2683 inverse T 1.0\n",
      "iter 6000 loss 1279.2682 inverse T 1.0\n",
      "iter 7000 loss 1279.2683 inverse T 1.0\n",
      "iter 8000 loss 1279.2683 inverse T 1.0\n",
      "iter 9000 loss 1279.2683 inverse T 1.0\n",
      "eig [ 10.535015  19.060228  27.064165  38.38391   41.758686  65.592026\n",
      "  69.326    124.92128 ]\n"
     ]
    },
    {
     "data": {
      "image/png": "[encoded data removed]",
      "text/plain": [
       "<Figure size 432x288 with 1 Axes>"
      ]
     },
     "metadata": {
      "needs_background": "light"
     },
     "output_type": "display_data"
    },
    {
     "data": {
      "image/png": "[encoded data removed]",
      "text/plain": [
       "<Figure size 432x288 with 1 Axes>"
      ]
     },
     "metadata": {
      "needs_background": "light"
     },
     "output_type": "display_data"
    },
    {
     "name": "stdout",
     "output_type": "stream",
     "text": [
      "hessian postive definite\n",
      "progress in % 70.0\n",
      "lrate 0.1\n",
      "iter 0 loss 271.87173 inverse T 0.2\n",
      "iter 1000 loss 263.20282 inverse T 0.2\n",
      "iter 2000 loss 263.20578 inverse T 0.2\n",
      "iter 3000 loss 263.21118 inverse T 0.2\n",
      "iter 4000 loss 390.35226 inverse T 0.3\n",
      "iter 5000 loss 390.34192 inverse T 0.3\n",
      "iter 6000 loss 390.35785 inverse T 0.3\n",
      "iter 7000 loss 517.4893 inverse T 0.4\n",
      "iter 8000 loss 517.4237 inverse T 0.4\n",
      "iter 9000 loss 644.4661 inverse T 0.5\n",
      "lrate 0.01\n",
      "iter 0 loss 1279.571 inverse T 1.0\n",
      "iter 1000 loss 1279.3912 inverse T 1.0\n",
      "iter 2000 loss 1279.3892 inverse T 1.0\n",
      "iter 3000 loss 1279.3878 inverse T 1.0\n",
      "iter 4000 loss 1279.3882 inverse T 1.0\n",
      "iter 5000 loss 1279.3876 inverse T 1.0\n",
      "iter 6000 loss 1279.389 inverse T 1.0\n",
      "iter 7000 loss 1279.388 inverse T 1.0\n",
      "iter 8000 loss 1279.3895 inverse T 1.0\n",
      "iter 9000 loss 1279.3878 inverse T 1.0\n",
      "lrate 0.001\n",
      "iter 0 loss 1279.3873 inverse T 1.0\n",
      "iter 1000 loss 1279.3865 inverse T 1.0\n",
      "iter 2000 loss 1279.3868 inverse T 1.0\n",
      "iter 3000 loss 1279.3865 inverse T 1.0\n",
      "iter 4000 loss 1279.3866 inverse T 1.0\n",
      "iter 5000 loss 1279.387 inverse T 1.0\n",
      "iter 6000 loss 1279.387 inverse T 1.0\n",
      "iter 7000 loss 1279.3867 inverse T 1.0\n",
      "iter 8000 loss 1279.3867 inverse T 1.0\n",
      "iter 9000 loss 1279.3867 inverse T 1.0\n",
      "lrate 0.0001\n",
      "iter 0 loss 1279.3867 inverse T 1.0\n",
      "iter 1000 loss 1279.3865 inverse T 1.0\n",
      "iter 2000 loss 1279.3862 inverse T 1.0\n",
      "iter 3000 loss 1279.3864 inverse T 1.0\n",
      "iter 4000 loss 1279.3864 inverse T 1.0\n",
      "iter 5000 loss 1279.3864 inverse T 1.0\n",
      "iter 6000 loss 1279.3864 inverse T 1.0\n",
      "iter 7000 loss 1279.3864 inverse T 1.0\n",
      "iter 8000 loss 1279.3864 inverse T 1.0\n",
      "iter 9000 loss 1279.3864 inverse T 1.0\n",
      "eig [ 10.618036  12.653136  14.775962  22.03393   28.732351  51.55487\n",
      "  70.74031  104.27464 ]\n"
     ]
    },
    {
     "data": {
      "image/png": "[encoded data removed]",
      "text/plain": [
       "<Figure size 432x288 with 1 Axes>"
      ]
     },
     "metadata": {
      "needs_background": "light"
     },
     "output_type": "display_data"
    },
    {
     "data": {
      "image/png": "[encoded data removed]",
      "text/plain": [
       "<Figure size 432x288 with 1 Axes>"
      ]
     },
     "metadata": {
      "needs_background": "light"
     },
     "output_type": "display_data"
    },
    {
     "name": "stdout",
     "output_type": "stream",
     "text": [
      "hessian postive definite\n",
      "progress in % 80.0\n",
      "lrate 0.1\n",
      "iter 0 loss 270.80997 inverse T 0.2\n",
      "iter 1000 loss 263.20306 inverse T 0.2\n",
      "iter 2000 loss 263.2035 inverse T 0.2\n",
      "iter 3000 loss 263.2053 inverse T 0.2\n",
      "iter 4000 loss 390.32602 inverse T 0.3\n",
      "iter 5000 loss 390.40826 inverse T 0.3\n",
      "iter 6000 loss 390.33746 inverse T 0.3\n",
      "iter 7000 loss 517.407 inverse T 0.4\n",
      "iter 8000 loss 517.426 inverse T 0.4\n",
      "iter 9000 loss 644.5329 inverse T 0.5\n",
      "lrate 0.01\n",
      "iter 0 loss 1279.5481 inverse T 1.0\n",
      "iter 1000 loss 1279.4352 inverse T 1.0\n",
      "iter 2000 loss 1279.4353 inverse T 1.0\n",
      "iter 3000 loss 1279.4377 inverse T 1.0\n",
      "iter 4000 loss 1279.4363 inverse T 1.0\n",
      "iter 5000 loss 1279.4374 inverse T 1.0\n",
      "iter 6000 loss 1279.4384 inverse T 1.0\n",
      "iter 7000 loss 1279.3868 inverse T 1.0\n",
      "iter 8000 loss 1279.3898 inverse T 1.0\n",
      "iter 9000 loss 1279.3873 inverse T 1.0\n",
      "lrate 0.001\n",
      "iter 0 loss 1279.3889 inverse T 1.0\n",
      "iter 1000 loss 1279.3865 inverse T 1.0\n",
      "iter 2000 loss 1279.3864 inverse T 1.0\n",
      "iter 3000 loss 1279.3862 inverse T 1.0\n",
      "iter 4000 loss 1279.3862 inverse T 1.0\n",
      "iter 5000 loss 1279.3864 inverse T 1.0\n",
      "iter 6000 loss 1279.386 inverse T 1.0\n",
      "iter 7000 loss 1279.3862 inverse T 1.0\n",
      "iter 8000 loss 1279.3861 inverse T 1.0\n",
      "iter 9000 loss 1279.3864 inverse T 1.0\n",
      "lrate 0.0001\n",
      "iter 0 loss 1279.3861 inverse T 1.0\n",
      "iter 1000 loss 1279.386 inverse T 1.0\n",
      "iter 2000 loss 1279.386 inverse T 1.0\n",
      "iter 3000 loss 1279.386 inverse T 1.0\n",
      "iter 4000 loss 1279.386 inverse T 1.0\n",
      "iter 5000 loss 1279.386 inverse T 1.0\n",
      "iter 6000 loss 1279.386 inverse T 1.0\n",
      "iter 7000 loss 1279.386 inverse T 1.0\n",
      "iter 8000 loss 1279.386 inverse T 1.0\n",
      "iter 9000 loss 1279.386 inverse T 1.0\n",
      "eig [  9.022258  11.885362  15.27546   21.33584   24.789791  47.916\n",
      "  71.64833  104.61405 ]\n"
     ]
    },
    {
     "data": {
      "image/png": "[encoded data removed]",
      "text/plain": [
       "<Figure size 432x288 with 1 Axes>"
      ]
     },
     "metadata": {
      "needs_background": "light"
     },
     "output_type": "display_data"
    },
    {
     "data": {
      "image/png": "[encoded data removed]",
      "text/plain": [
       "<Figure size 432x288 with 1 Axes>"
      ]
     },
     "metadata": {
      "needs_background": "light"
     },
     "output_type": "display_data"
    },
    {
     "name": "stdout",
     "output_type": "stream",
     "text": [
      "hessian postive definite\n",
      "progress in % 90.0\n",
      "lrate 0.1\n",
      "iter 0 loss 274.1624 inverse T 0.2\n",
      "iter 1000 loss 264.30106 inverse T 0.2\n",
      "iter 2000 loss 264.31146 inverse T 0.2\n",
      "iter 3000 loss 264.33087 inverse T 0.2\n",
      "iter 4000 loss 392.31262 inverse T 0.3\n",
      "iter 5000 loss 392.28073 inverse T 0.3\n",
      "iter 6000 loss 392.27454 inverse T 0.3\n",
      "iter 7000 loss 520.27655 inverse T 0.4\n",
      "iter 8000 loss 520.2915 inverse T 0.4\n",
      "iter 9000 loss 648.2217 inverse T 0.5\n",
      "lrate 0.01\n",
      "iter 0 loss 1287.911 inverse T 1.0\n",
      "iter 1000 loss 1287.8556 inverse T 1.0\n",
      "iter 2000 loss 1287.8553 inverse T 1.0\n",
      "iter 3000 loss 1287.8544 inverse T 1.0\n",
      "iter 4000 loss 1287.8541 inverse T 1.0\n",
      "iter 5000 loss 1287.8601 inverse T 1.0\n",
      "iter 6000 loss 1287.8535 inverse T 1.0\n",
      "iter 7000 loss 1287.8557 inverse T 1.0\n",
      "iter 8000 loss 1287.8572 inverse T 1.0\n",
      "iter 9000 loss 1287.8556 inverse T 1.0\n",
      "lrate 0.001\n",
      "iter 0 loss 1287.856 inverse T 1.0\n",
      "iter 1000 loss 1287.8518 inverse T 1.0\n",
      "iter 2000 loss 1287.852 inverse T 1.0\n",
      "iter 3000 loss 1287.8512 inverse T 1.0\n",
      "iter 4000 loss 1287.8514 inverse T 1.0\n",
      "iter 5000 loss 1287.8519 inverse T 1.0\n",
      "iter 6000 loss 1287.8517 inverse T 1.0\n",
      "iter 7000 loss 1287.8512 inverse T 1.0\n",
      "iter 8000 loss 1287.8516 inverse T 1.0\n",
      "iter 9000 loss 1287.8514 inverse T 1.0\n",
      "lrate 0.0001\n",
      "iter 0 loss 1287.8512 inverse T 1.0\n",
      "iter 1000 loss 1287.8512 inverse T 1.0\n",
      "iter 2000 loss 1287.8512 inverse T 1.0\n",
      "iter 3000 loss 1287.8511 inverse T 1.0\n",
      "iter 4000 loss 1287.8511 inverse T 1.0\n",
      "iter 5000 loss 1287.8512 inverse T 1.0\n",
      "iter 6000 loss 1287.8513 inverse T 1.0\n",
      "iter 7000 loss 1287.8511 inverse T 1.0\n",
      "iter 8000 loss 1287.8512 inverse T 1.0\n",
      "iter 9000 loss 1287.8512 inverse T 1.0\n",
      "eig [ 4.905553   6.1257277  7.5552883 15.874673  18.907719  26.298899\n",
      " 42.55246   94.406494 ]\n"
     ]
    },
    {
     "data": {
      "image/png": "[encoded data removed]",
      "text/plain": [
       "<Figure size 432x288 with 1 Axes>"
      ]
     },
     "metadata": {
      "needs_background": "light"
     },
     "output_type": "display_data"
    },
    {
     "data": {
      "image/png": "[encoded data removed]",
      "text/plain": [
       "<Figure size 432x288 with 1 Axes>"
      ]
     },
     "metadata": {
      "needs_background": "light"
     },
     "output_type": "display_data"
    },
    {
     "name": "stdout",
     "output_type": "stream",
     "text": [
      "hessian postive definite\n"
     ]
    }
   ],
   "source": [
    "if __name__ == \"__main__\":\n",
    "  sess = tf.Session()\n",
    "  sess.run(tf.global_variables_initializer())\n",
    "  plot_path = params['plot_dir']\n",
    "  \n",
    "  truth = x_test[num_mnist:num_mnist+data_size]\n",
    "  plot_image(truth[0], directory=plot_path, filename='truth_%s'%label, title='truth')\n",
    "  print(corr_type, truth.shape)\n",
    "  data, custom_mask = make_corrupted_data(truth, corr_type=corr_type)\n",
    "  print(data.shape)\n",
    "  plot_image(data[0], directory=plot_path, filename='input_data_%s'%label, title='data')\n",
    "  plot_image(custom_mask, directory=plot_path, filename='mask_data_%s'%label, title='mask')\n",
    "  \n",
    "  noise = get_custom_noise(data.shape, signal_dependent=False, signal=truth)\n",
    "  plot_image(noise[0], directory=plot_path, filename='noise_%s'%label, title='noise')\n",
    "  \n",
    "  data = np.reshape(data,(-1,28*28,1))\n",
    "  custom_mask = np.reshape(custom_mask,(28*28))\n",
    "  noise = np.sqrt(noise_n**2+noise_level**2)\n",
    "  \n",
    "  tf.random.set_random_seed(seed)\n",
    "  inits = get_random_start_values(10, sess)\n",
    "\n",
    "  try:\n",
    "    minima, min_loss, min_var,recons, hesss, hesssGN = pickle.load(open(minima_path+'minima_%s.pkl'%label,'rb'))\n",
    "  except:\n",
    "  \n",
    "    minima  =[]\n",
    "    min_loss=[]\n",
    "    min_var =[]\n",
    "    recons  =[]\n",
    "    hesss   =[]\n",
    "    hesssGN =[]\n",
    "    for jj,init in enumerate(inits):\n",
    "      print('progress in %', jj/len(inits)*100)\n",
    "      min_z, min_l, pos_def,hess,hessGN    = minimize_posterior(init, data,custom_mask,noise,sess)\n",
    "      rec                           = sess.run(recon_MAP, feed_dict={sigma_corr:noise})\n",
    "      var                           = sess.run(variance, feed_dict={input_data: data,mask:custom_mask,sigma_corr:noise})\n",
    "  \n",
    "      plot_image(rec[0], directory=plot_path, filename='recon_%s_minimum%d'%(label,jj), title='reconstruction with loss %.1f'%min_l)\n",
    "      if pos_def:\n",
    "        print('hessian postive definite')\n",
    "        minima.append(min_z)\n",
    "        min_loss.append(min_l)\n",
    "        min_var.append(var)\n",
    "        recons.append(rec)\n",
    "        hesss.append(hess)\n",
    "        hesssGN.append(hessGN)\n",
    "    \n",
    "    order    = np.argsort(min_loss)\n",
    "    min_loss = np.asarray(min_loss)[order]\n",
    "    minima   = np.asarray(minima)[order]\n",
    "    min_var  = np.asarray(min_var)[order]\n",
    "    hesss    = np.asarray(hesss)[order]\n",
    "    hesssGN  = np.asarray(hesssGN)[order]\n",
    "    \n",
    "    pickle.dump([minima, min_loss, min_var,recons, hesss, hesssGN],open(minima_path+'minima_%s.pkl'%label,'wb'))\n",
    "\n",
    "#   lowest_minimum = sess.run(MAP_reset, feed_dict={MAP_ini:minima[0]})\n",
    "#   rec     = sess.run(recon_MAP, feed_dict={MAP_ini:minima[0],sigma_corr:noise})\n",
    "#   plot_image(rec[0]+0.5, directory=plot_path, filename='lowest_minimum_%s'%(label), title='reconstruction', vmin=0, vmax=1)\n",
    "#   if corr_type in ['mask', 'sparse mask', 'noise+mask']:\n",
    "#     plot_image(rec[0]+0.5, directory=plot_path, filename='lowest_minimum_%s_masked'%(label), title='masked reconstruction', vmin=0, vmax=1, mask = custom_mask)\n",
    "    \n",
    "#   samples  = sess.run(posterior_sample, feed_dict={MAP_ini:minima[0],input_data: data,sigma_corr:noise})\n",
    "#   print(np.std(samples-minima[0][0]))\n",
    "#   recs     = sess.run(recon_MAP, feed_dict={MAP_ini:samples, sigma_corr:noise,input_data: data,sigma_corr:noise})\n",
    "#   #plot_samples(recs+0.5, custom_mask, title='Samples from Laplace approximation', filename='samples_laplace_deepest_minimum_%s'%label)\n",
    "#   for ii in range(16):\n",
    "#     plt.subplot(4,4,ii+1)\n",
    "#     plt.imshow((recs[ii]+0.5).reshape(28,28),cmap='gray')\n",
    "#     plt.axis('off')\n",
    "#   mu_, sigma_, w_ = get_gmm_parameters([minima[0],minima[1]], data, noise, custom_mask, min_loss[0])\n",
    "#   print(sigma_,mu_,w_)\n",
    "#   _ = sess.run([update_w, update_mugmm,update_TriLgmm], feed_dict={mu_ini:mu_, w_ini:w_, sigma_ini:sigma_ })\n",
    "\n",
    "#   samples = get_gmm_sample(16,data,custom_mask,noise,sess)\n",
    "#   plot_samples(samples[:,0:1,:,:]+0.5, custom_mask, title='GMM samples', filename='gmm_samples_%s'%label)\n",
    "  \n",
    "# #   more_samples = []\n",
    "# #   for ii in range(10000):\n",
    "# #     more_samples+=[sess.run(gmm_sample,feed_dict={input_data: data, sigma_corr:noise})]\n",
    "# #   more_samples=np.asarray(more_samples)\n",
    "  \n",
    "# #   for indices in [[0,1],[1,2],[3,8]]:\n",
    "# #     plot_prob_2D_GMM(more_samples, indices)\n",
    "  "
   ]
  },
  {
   "cell_type": "code",
   "execution_count": 59,
   "metadata": {},
   "outputs": [
    {
     "data": {
      "text/plain": [
       "10"
      ]
     },
     "execution_count": 59,
     "metadata": {},
     "output_type": "execute_result"
    }
   ],
   "source": [
    "len(min_loss)"
   ]
  },
  {
   "cell_type": "code",
   "execution_count": 60,
   "metadata": {},
   "outputs": [
    {
     "data": {
      "text/plain": [
       "<matplotlib.collections.PathCollection at 0x2aafc6537d60>"
      ]
     },
     "execution_count": 60,
     "metadata": {},
     "output_type": "execute_result"
    },
    {
     "data": {
      "image/png": "[encoded data removed]",
      "text/plain": [
       "<Figure size 432x288 with 1 Axes>"
      ]
     },
     "metadata": {
      "needs_background": "light"
     },
     "output_type": "display_data"
    }
   ],
   "source": [
    "plt.scatter(np.arange(len(min_loss)),min_loss)"
   ]
  },
  {
   "cell_type": "code",
   "execution_count": 61,
   "metadata": {},
   "outputs": [
    {
     "name": "stdout",
     "output_type": "stream",
     "text": [
      "[1.76601340e-01 6.25907314e-01 1.95869692e-01 3.43590074e-04\n",
      " 4.11193671e-04 8.66870924e-04]\n"
     ]
    },
    {
     "data": {
      "image/png": "[encoded data removed]",
      "text/plain": [
       "<Figure size 432x288 with 1 Axes>"
      ]
     },
     "metadata": {
      "needs_background": "light"
     },
     "output_type": "display_data"
    }
   ],
   "source": [
    "w=[]\n",
    "for ii in [0,3,5,7,8,9]:\n",
    "    hess    = hesss[ii]\n",
    "    cov     = np.linalg.inv(hess)\n",
    "    _, logdet = np.linalg.slogdet(cov)\n",
    "    logprob   = -min_loss[ii]\n",
    "    #print(logprob,logdet)\n",
    "    w+=[np.exp(0.5*logdet+logprob+900)]\n",
    "w=np.asarray(w)/np.sum(np.asarray(w))\n",
    "plt.plot(w)\n",
    "print(w)\n",
    "index_gauss =np.sum(np.random.multinomial(1, w,500000),axis=0)\n",
    "_=plt.plot(index_gauss/500000)\n",
    "\n",
    "samples = []\n",
    "for ii, n in enumerate([0,3,5,7,8,9]):\n",
    "    for jj in range(index_gauss[ii]):\n",
    "        cov = np.linalg.inv(hesss[n])\n",
    "        samples.append(np.dot(np.linalg.cholesky(cov),np.random.randn(8))+minima[n][0])\n",
    "samples=np.asarray(samples)"
   ]
  },
  {
   "cell_type": "code",
   "execution_count": 62,
   "metadata": {},
   "outputs": [
    {
     "data": {
      "image/png": "[encoded data removed]",
      "text/plain": [
       "<Figure size 360x288 with 20 Axes>"
      ]
     },
     "metadata": {
      "needs_background": "light"
     },
     "output_type": "display_data"
    }
   ],
   "source": [
    "ii       = 0\n",
    "recs     = sess.run(MAP_reset, feed_dict={MAP_ini:samples[ii:ii+64], sigma_corr:noise,input_data: data,sigma_corr:noise})\n",
    "recs     = sess.run(recon_MAP, feed_dict={MAP_ini:samples[ii:ii+64], sigma_corr:noise,input_data: data,sigma_corr:noise})\n",
    "\n",
    "recs     = np.reshape(recs,(-1,28,28))+0.5\n",
    "  #plot_samples(recs+0.5, custom_mask, title='Samples from Laplace approximation', filename='samples_laplace_deepest_minimum_%s'%label)\n",
    "plt.figure(figsize=(5,4))\n",
    "for ii in range(10):\n",
    "    plt.subplot(4,5,ii+1)\n",
    "    plt.imshow((recs[ii]).reshape(28,28),cmap='gray')\n",
    "    plt.axis('off')\n",
    "for ii in range(10):\n",
    "    plt.subplot(4,5,10+ii+1)\n",
    "    masked = recs[ii]\n",
    "    masked[np.where(custom_mask.reshape(28,28)==0)]=0\n",
    "    plt.imshow(masked,cmap='gray')\n",
    "    plt.axis('off')\n",
    "plt.tight_layout()\n",
    "plt.savefig(os.path.join(params['plot_dir']+'posterior_samples_example1.pdf'),bbox_inches='tight')\n",
    "\n",
    "\n",
    "# plt.figure(figsize=(5,5))\n",
    "# for ii in range(32):\n",
    "#     plt.subplot(8,8,ii+1)\n",
    "\n",
    "#     plt.axis('off')\n",
    "#     plt.tight_layout()\n",
    "# plt.savefig(os.path.join(params['plot_dir']+'posterior_samples_maksed_example1.pdf'),bbox_inches='tight')"
   ]
  },
  {
   "cell_type": "code",
   "execution_count": 63,
   "metadata": {},
   "outputs": [
    {
     "data": {
      "image/png": "[encoded data removed]",
      "text/plain": [
       "<Figure size 432x288 with 1 Axes>"
      ]
     },
     "metadata": {
      "needs_background": "light"
     },
     "output_type": "display_data"
    },
    {
     "data": {
      "text/plain": [
       "True"
      ]
     },
     "execution_count": 63,
     "metadata": {},
     "output_type": "execute_result"
    }
   ],
   "source": [
    "recs     = sess.run(MAP_reset, feed_dict={MAP_ini:minima[0], sigma_corr:noise,input_data: data,sigma_corr:noise})\n",
    "recs     = sess.run(recon_MAP, feed_dict={MAP_ini:minima[0], sigma_corr:noise,input_data: data,sigma_corr:noise})\n",
    "plot_image(recs[0], directory=plot_path, filename='reconstruction', title='reconstruction')"
   ]
  },
  {
   "cell_type": "code",
   "execution_count": 64,
   "metadata": {},
   "outputs": [],
   "source": [
    "from mcmcplot import mcmcplot as mcp"
   ]
  },
  {
   "cell_type": "code",
   "execution_count": 65,
   "metadata": {},
   "outputs": [
    {
     "data": {
      "text/plain": [
       "(500000, 2)"
      ]
     },
     "execution_count": 65,
     "metadata": {},
     "output_type": "execute_result"
    }
   ],
   "source": [
    "samples_cut=np.vstack((samples[:,0],samples[:,1])).T\n",
    "samples_cut.shape"
   ]
  },
  {
   "cell_type": "code",
   "execution_count": 66,
   "metadata": {},
   "outputs": [
    {
     "data": {
      "image/png": "[encoded data removed]",
      "text/plain": [
       "<Figure size 432x432 with 3 Axes>"
      ]
     },
     "metadata": {
      "needs_background": "light"
     },
     "output_type": "display_data"
    }
   ],
   "source": [
    "fjd, used_settings = mcp.plot_joint_distributions(\n",
    "    chains=samples_cut,names=['latent dim 0', 'latent dim 1'],\n",
    "    settings=None,\n",
    "    return_settings=True)\n",
    "a = fjd.ax_joint\n",
    "tmp = a.yaxis.get_label()\n",
    "tmp.set_fontsize(20)\n",
    "tmp = a.xaxis.get_label()\n",
    "tmp.set_fontsize(20)\n",
    "plt.savefig(os.path.join(params['plot_dir']+'distribution.pdf'),bbox_inches='tight')"
   ]
  },
  {
   "cell_type": "code",
   "execution_count": null,
   "metadata": {},
   "outputs": [],
   "source": []
  }
 ],
 "metadata": {
  "accelerator": "GPU",
  "colab": {
   "collapsed_sections": [],
   "name": "ImageCorruptionMNIST-solidmask.ipynb",
   "provenance": [
    {
     "file_id": "1MNU95Mz_d__oADtBAIStGI4it5x7Bhld",
     "timestamp": 1568328262524
    },
    {
     "file_id": "1wol-99_eTQox1JzmLDi2Hkb85P1KMGhQ",
     "timestamp": 1558592479445
    },
    {
     "file_id": "1BC1IGBcqr_cxOcbE7jRtReUznBoGME_s",
     "timestamp": 1558470820075
    },
    {
     "file_id": "17TLFq9rlzJ3Sa6d4pbhhLlyEA-52Xi-L",
     "timestamp": 1558456554236
    },
    {
     "file_id": "",
     "timestamp": 1557532862331
    }
   ],
   "version": "0.3.2"
  },
  "kernelspec": {
   "display_name": "tf22",
   "language": "python",
   "name": "tf22"
  },
  "language_info": {
   "codemirror_mode": {
    "name": "ipython",
    "version": 3
   },
   "file_extension": ".py",
   "mimetype": "text/x-python",
   "name": "python",
   "nbconvert_exporter": "python",
   "pygments_lexer": "ipython3",
   "version": "3.8.3"
  }
 },
 "nbformat": 4,
 "nbformat_minor": 4
}
