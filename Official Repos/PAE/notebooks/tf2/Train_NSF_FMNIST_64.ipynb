{
 "cells": [
  {
   "cell_type": "code",
   "execution_count": 1,
   "metadata": {
    "colab": {
     "base_uri": "https://localhost:8080/",
     "height": 35
    },
    "colab_type": "code",
    "id": "D-Fe5G8m1FTC",
    "outputId": "e13b192d-d978-43b8-84f1-d6b359f555b1"
   },
   "outputs": [],
   "source": [
    "import tensorflow.compat.v1 as tf\n",
    "tf.disable_eager_execution()\n",
    "import numpy as np\n",
    "import os\n",
    "import matplotlib\n",
    "import matplotlib.pyplot as plt\n",
    "import matplotlib.cm as cm\n",
    "from matplotlib import rcParams\n",
    "import sys\n",
    "import pickle\n",
    "from functools import partial\n",
    " \n",
    "plt.rcParams.update({'font.size': 16,                                                                                                                                                    \n",
    "                     'axes.labelsize': 16, 'legend.fontsize': 12, \n",
    "                     'xtick.labelsize': 16, 'ytick.labelsize': 16, 'axes.titlesize': 16,\n",
    "                     'axes.linewidth': 1.5}) "
   ]
  },
  {
   "cell_type": "code",
   "execution_count": 2,
   "metadata": {},
   "outputs": [
    {
     "name": "stdout",
     "output_type": "stream",
     "text": [
      "2.2.0\n"
     ]
    }
   ],
   "source": [
    "print(tf.__version__)"
   ]
  },
  {
   "cell_type": "code",
   "execution_count": 3,
   "metadata": {},
   "outputs": [
    {
     "name": "stdout",
     "output_type": "stream",
     "text": [
      "WARNING:tensorflow:From <ipython-input-3-17bb7203622b>:1: is_gpu_available (from tensorflow.python.framework.test_util) is deprecated and will be removed in a future version.\n",
      "Instructions for updating:\n",
      "Use `tf.config.list_physical_devices('GPU')` instead.\n"
     ]
    },
    {
     "data": {
      "text/plain": [
       "True"
      ]
     },
     "execution_count": 3,
     "metadata": {},
     "output_type": "execute_result"
    }
   ],
   "source": [
    "tf.test.is_gpu_available()"
   ]
  },
  {
   "cell_type": "code",
   "execution_count": 5,
   "metadata": {
    "colab": {},
    "colab_type": "code",
    "id": "-AEYmOsH1FTI"
   },
   "outputs": [],
   "source": [
    "import tensorflow_probability as tfp\n",
    "import tensorflow_hub as hub\n",
    "tfd = tfp.distributions\n",
    "tfb = tfp.bijectors"
   ]
  },
  {
   "cell_type": "code",
   "execution_count": 11,
   "metadata": {
    "colab": {},
    "colab_type": "code",
    "id": "GI5FLHJsZLTV"
   },
   "outputs": [],
   "source": [
    "from pae.model_tf2 import get_prior, get_posterior, get_likelihood"
   ]
  },
  {
   "cell_type": "code",
   "execution_count": 12,
   "metadata": {
    "colab": {},
    "colab_type": "code",
    "id": "V9oAjWb9ZLTc"
   },
   "outputs": [],
   "source": [
    "import pae.create_datasets as crd"
   ]
  },
  {
   "cell_type": "code",
   "execution_count": 13,
   "metadata": {
    "colab": {
     "base_uri": "https://localhost:8080/",
     "height": 126
    },
    "colab_type": "code",
    "id": "SV1Y2txlhckE",
    "outputId": "4f3db526-999c-417b-b1ae-655ef8fa471f"
   },
   "outputs": [],
   "source": [
    "param_file = 'params_fmnist_-1_64_infoGAN_AE_v2rot_full_sigma'\n"
   ]
  },
  {
   "cell_type": "code",
   "execution_count": 15,
   "metadata": {
    "colab": {
     "base_uri": "https://localhost:8080/",
     "height": 35
    },
    "colab_type": "code",
    "id": "6XiJf-LnhnVi",
    "outputId": "274de933-961d-4520-95d3-3ccc82d19d41"
   },
   "outputs": [],
   "source": [
    "PROJECT_PATH = \"../../\" \n",
    "PARAMS_PATH = os.path.join(PROJECT_PATH,'params')"
   ]
  },
  {
   "cell_type": "code",
   "execution_count": 16,
   "metadata": {
    "colab": {
     "base_uri": "https://localhost:8080/",
     "height": 35
    },
    "colab_type": "code",
    "id": "5XLfz152ZLTn",
    "outputId": "22303587-5ca0-4d16-a580-98e774b5acfa"
   },
   "outputs": [],
   "source": [
    "params   = pickle.load(open(os.path.join(PARAMS_PATH,param_file+'.pkl'),'rb'))"
   ]
  },
  {
   "cell_type": "code",
   "execution_count": 17,
   "metadata": {},
   "outputs": [],
   "source": [
    "if not os.path.isdir(params['plot_dir']):\n",
    "    os.makedirs(params['plot_dir'])\n",
    "if not os.path.isdir(params['data_dir']):\n",
    "    os.makedirs(params['data_dir'])"
   ]
  },
  {
   "cell_type": "code",
   "execution_count": null,
   "metadata": {},
   "outputs": [],
   "source": []
  },
  {
   "cell_type": "code",
   "execution_count": 21,
   "metadata": {
    "colab": {},
    "colab_type": "code",
    "id": "8puPFE90P0aD"
   },
   "outputs": [],
   "source": [
    "generator_path   = os.path.join(params['module_dir'],'decoder')\n",
    "encoder_path     = os.path.join(params['module_dir'],'encoder')\n",
    "nvp_path         = os.path.join(params['module_dir'],'hybrid1')"
   ]
  },
  {
   "cell_type": "code",
   "execution_count": 22,
   "metadata": {},
   "outputs": [
    {
     "name": "stdout",
     "output_type": "stream",
     "text": [
      "loading fmnist dataset\n"
     ]
    }
   ],
   "source": [
    "train_input_fn, eval_input_fn = crd.build_input_fns(params,label=params['class_label'],flatten=False,num_repeat=15)"
   ]
  },
  {
   "cell_type": "code",
   "execution_count": null,
   "metadata": {},
   "outputs": [],
   "source": [
    "tf.reset_default_graph()\n",
    "\n",
    "\n",
    "\n",
    "traindata     = train_input_fn()\n",
    "validdata     = eval_input_fn()\n",
    "encoder       = hub.Module(encoder_path, trainable=False)\n",
    "generator     = hub.Module(generator_path, trainable=False)\n",
    "\n",
    "posterior     = get_posterior(encoder)\n",
    "likelihood    = get_likelihood(generator,params)\n",
    "\n",
    "# inspect the model\n",
    "zt    = posterior(traindata).mean()\n",
    "recont = likelihood(zt).mean()\n",
    "\n",
    "zv    = posterior(validdata).mean()\n",
    "reconv = likelihood(zv).mean()\n"
   ]
  },
  {
   "cell_type": "code",
   "execution_count": 24,
   "metadata": {},
   "outputs": [],
   "source": [
    "sess = tf.Session()\n",
    "sess.run(tf.global_variables_initializer())"
   ]
  },
  {
   "cell_type": "code",
   "execution_count": 25,
   "metadata": {},
   "outputs": [],
   "source": [
    "if params['data_set']=='celeba':\n",
    "    train_size = 162770\n",
    "    val_size   = 182637-162770 \n",
    "else:\n",
    "    train_size = 50000\n",
    "    val_size   = 10000"
   ]
  },
  {
   "cell_type": "code",
   "execution_count": 26,
   "metadata": {},
   "outputs": [
    {
     "name": "stdout",
     "output_type": "stream",
     "text": [
      "50000\n"
     ]
    }
   ],
   "source": [
    "print(train_size)"
   ]
  },
  {
   "cell_type": "code",
   "execution_count": null,
   "metadata": {},
   "outputs": [],
   "source": [
    "print(train_size//params['batch_size']+1)\n",
    "enc_path = os.path.join('encoded/',params['data_set'],str(params['latent_size']))\n",
    "print(os.path.join(params['data_dir'],enc_path))\n",
    "if not os.path.isdir(os.path.join(params['data_dir'],enc_path)):\n",
    "    os.makedirs(os.path.join(params['data_dir'],enc_path))"
   ]
  },
  {
   "cell_type": "code",
   "execution_count": 28,
   "metadata": {
    "colab": {
     "base_uri": "https://localhost:8080/",
     "height": 71
    },
    "colab_type": "code",
    "id": "igyd5aQ5ZLT-",
    "outputId": "5e4229b3-5b31-4947-9d4e-fb66faa8426b"
   },
   "outputs": [
    {
     "name": "stdout",
     "output_type": "stream",
     "text": [
      "0\n",
      "100\n",
      "200\n",
      "300\n",
      "400\n",
      "500\n",
      "600\n",
      "700\n"
     ]
    }
   ],
   "source": [
    "try:\n",
    "    assert(False)\n",
    "    z_sample = np.load(os.path.join(params['data_dir'],enc_path,'train.npy'))\n",
    "except:\n",
    "    z_sample=[]\n",
    "    for ii in range(train_size//params['batch_size']+1):\n",
    "        if ii%100==0:\n",
    "            print(ii)\n",
    "        z_sample+=[sess.run(zt)]\n",
    "        \n",
    "    z_sample = np.asarray(z_sample).reshape((-1,params['latent_size']))\n",
    "    z_sample = z_sample[0:train_size]\n",
    "    \n",
    "    np.save(os.path.join(params['data_dir'],enc_path,'train.npy'),z_sample)"
   ]
  },
  {
   "cell_type": "code",
   "execution_count": 29,
   "metadata": {},
   "outputs": [
    {
     "name": "stdout",
     "output_type": "stream",
     "text": [
      "0\n",
      "100\n"
     ]
    }
   ],
   "source": [
    "try:\n",
    "    assert(False)\n",
    "    z_sample_valid = np.load(os.path.join(params['data_dir'],enc_path,'valid.npy'))\n",
    "except:\n",
    "    z_sample_valid=[]\n",
    "\n",
    "    for ii in range(val_size//params['batch_size']+1):\n",
    "        if ii%100==0:\n",
    "            print(ii)\n",
    "        z_sample_valid+=[sess.run(zv)]\n",
    "    z_sample_valid=np.asarray(z_sample_valid).reshape((-1,params['latent_size']))\n",
    "    z_sample_valid= z_sample_valid[0:val_size]\n",
    "    np.save(os.path.join(params['data_dir'],enc_path,'valid.npy'),z_sample_valid)"
   ]
  },
  {
   "cell_type": "code",
   "execution_count": 30,
   "metadata": {},
   "outputs": [
    {
     "data": {
      "text/plain": [
       "2.5036771"
      ]
     },
     "execution_count": 30,
     "metadata": {},
     "output_type": "execute_result"
    }
   ],
   "source": [
    "np.amax(z_sample)\n",
    "np.amax(z_sample_valid)"
   ]
  },
  {
   "cell_type": "code",
   "execution_count": 31,
   "metadata": {},
   "outputs": [],
   "source": [
    "nvp_depth    = 18\n",
    "dims         = np.asarray(20*[64])\n",
    "nvp_size     = np.arange(nvp_depth)\n",
    "indices      = np.arange(params['latent_size'])\n",
    "#permutations = [np.random.permutation(np.arange(params['latent_size'])) for ii in range(nvp_depth)]\n",
    "#swapping     = np.concatenate((indices[params['latent_size']//2:params['latent_size']],indices[0:params['latent_size']//2]))"
   ]
  },
  {
   "cell_type": "code",
   "execution_count": 32,
   "metadata": {},
   "outputs": [],
   "source": [
    "def trainable_lu_factorization(\n",
    "    event_size, batch_shape=(), seed=None, dtype=tf.float32, name=None):\n",
    "    with tf.name_scope(name or 'trainable_lu_factorization'):\n",
    "        event_size = tf.convert_to_tensor(\n",
    "            event_size, dtype_hint=tf.int32, name='event_size')\n",
    "        batch_shape = tf.convert_to_tensor(\n",
    "            batch_shape, dtype_hint=event_size.dtype, name='batch_shape')\n",
    "        random_matrix = tf.random.uniform(\n",
    "            shape=tf.concat([batch_shape, [event_size, event_size]], axis=0),\n",
    "            dtype=dtype,\n",
    "            seed=seed)\n",
    "        random_orthonormal = tf.linalg.qr(random_matrix)[0]\n",
    "        lower_upper, permutation = tf.linalg.lu(random_orthonormal)\n",
    "        lower_upper = tf.Variable(\n",
    "            initial_value=lower_upper,\n",
    "            trainable=True,\n",
    "            name='lower_upper')\n",
    "        # Initialize a non-trainable variable for the permutation indices so\n",
    "        # that its value isn't re-sampled from run-to-run.\n",
    "        permutation = tf.Variable(\n",
    "            initial_value=permutation,\n",
    "            trainable=False,\n",
    "            name='permutation')\n",
    "        return lower_upper, permutation\n"
   ]
  },
  {
   "cell_type": "code",
   "execution_count": 33,
   "metadata": {},
   "outputs": [],
   "source": [
    "class SplineParams(tf.Module):\n",
    "\n",
    "    def __init__(self, nunits, nbins=32):\n",
    "        self._nbins = nbins\n",
    "        self._nunits= nunits\n",
    "        self._built = False\n",
    "        self._bin_widths = None\n",
    "        self._bin_heights = None\n",
    "        self._knot_slopes = None\n",
    "\n",
    "    def _bin_positions(self, x):\n",
    "        x = tf.reshape(x, [-1,self._nunits,self._nbins])\n",
    "        net = tf.layers.Dense(self._nunits)(x)\n",
    "        net = tf.nn.leaky_relu(net)\n",
    "        net = tf.layers.Dense(self._nunits)(net)\n",
    "        net = tf.nn.leaky_relu(net)\n",
    "        net = tf.layers.Dense(self._nbins)(net)\n",
    "        net = tf.reshape(net, [-1,self._nunits, self._nbins])\n",
    "        return tf.math.softmax(net, axis=-1) * (2 - self._nbins * 1e-2) + 1e-2\n",
    "\n",
    "    def _slopes(self, x):\n",
    "        x = tf.reshape(x, [-1,  self._nunits, ( self._nbins - 1)])\n",
    "#         net = tf.layers.Dense(self._nunits)(x)\n",
    "#         net = tf.nn.leaky_relu(net)\n",
    "#         net = tf.layers.Dense(self._nbins-1)(net)\n",
    "#         net = tf.reshape(net, [-1,  self._nunits, ( self._nbins - 1)])\n",
    "        return tf.math.softplus(x) + 1e-2\n",
    "\n",
    "    def __call__(self, x, nunits):\n",
    "\n",
    "        bin_positions = self._bin_positions\n",
    "        if not self._built:\n",
    "            self._bin_widths  = tf.layers.Dense(self._nunits * self._nbins, activation=bin_positions, name='w')\n",
    "            self._bin_heights = tf.layers.Dense(self._nunits * self._nbins, activation=bin_positions, name='h')\n",
    "            self._knot_slopes = tf.layers.Dense(self._nunits * (self._nbins - 1), activation=self._slopes, name='s')\n",
    "        self._built = True\n",
    "        result = tfb.RationalQuadraticSpline(bin_widths=self._bin_widths(x),bin_heights=self._bin_heights(x),knot_slopes=self._knot_slopes(x))\n",
    "        \n",
    "        return result"
   ]
  },
  {
   "cell_type": "code",
   "execution_count": null,
   "metadata": {},
   "outputs": [],
   "source": [
    "tf.reset_default_graph()\n",
    "\n",
    "lr            = tf.placeholder_with_default(0.001,shape=[])\n",
    "data          = tf.placeholder(shape=[None,params['latent_size']],dtype=tf.float32)\n",
    "\n",
    "optimizer     = tf.train.AdamOptimizer(learning_rate=lr)\n",
    "\n",
    "def init_once(x, name):\n",
    "    return tf.get_variable(name, initializer=x, trainable=False)\n",
    "\n",
    "\n",
    "#nvp_size      = [[params['latent_size'],params['latent_size']] for ii in range(nvp_depth)]\n",
    "#[64,64,64,64,32,32,8,8])#\n",
    "\n",
    "def get_nvp():\n",
    "    base_dis          = get_prior(params['latent_size'])\n",
    "    chain             = []\n",
    "    reduction         = (params['latent_size']-dims)/params['latent_size']#np.repeat(np.arange(nvp_depth//2)/(nvp_depth//2),2)# np.repeat([0],nvp_depth)#\n",
    "    current_size      = []\n",
    "    perms_swap        = []\n",
    "    perms_rand        = []\n",
    "    perms_train       = []\n",
    "    splines           = []\n",
    "    size              = []\n",
    "    #current_size      = params['latent_size']\n",
    "    for i,s in enumerate(nvp_size):\n",
    "        current_size  = np.int(params['latent_size']*(1-reduction[i]))\n",
    "        swapping      = np.concatenate((np.arange(current_size//2,current_size),np.arange(0, current_size//2)))\n",
    "        perms_swap.append(tfb.Permute(permutation=init_once(swapping,name=\"perm_swap%d\"%i)))\n",
    "        permutation   = np.random.permutation(np.arange(0, current_size))\n",
    "        perms_rand.append(tfb.Permute(permutation=init_once(permutation,name=\"perm_rand%d\"%i)))\n",
    "        perms_train.append(tfb.MatvecLU(*trainable_lu_factorization(current_size),validate_args=True, name=\"perms_train%d\"%i))\n",
    "        splines.append(SplineParams(current_size//2))\n",
    "        size.append(current_size)\n",
    "        print(current_size, size)\n",
    "    \n",
    "    chain.append(tfb.Scale(10))\n",
    "    for i,s in enumerate(nvp_size):\n",
    "        if i%2==0:\n",
    "            chain.append(tfb.Blockwise(bijectors=[perms_train[i],tfb.Identity()],block_sizes=[size[i],params['latent_size']-size[i]]))\n",
    "        else:\n",
    "            chain.append(tfb.Blockwise(bijectors=[perms_swap[i],tfb.Identity()],block_sizes=[size[i],params['latent_size']-size[i]]))\n",
    "        if i<2: \n",
    "            bijector1 = tfb.RealNVP(num_masked=size[i]-size[i]//2,bijector_fn=splines[i])\n",
    "        if i<10 and i>2:\n",
    "            bijector1 = tfb.RealNVP(num_masked=size[i]-size[i]//2,shift_and_log_scale_fn=tfb.real_nvp_default_template(hidden_layers=[params['latent_size'],params['latent_size']]))                 \n",
    "        else:\n",
    "            bijector1 = tfb.RealNVP(num_masked=size[i]-size[i]//2,shift_and_log_scale_fn=tfb.real_nvp_default_template(hidden_layers=[params['latent_size'],params['latent_size']],shift_only=True))  \n",
    "        bijector2 = tfb.Identity()\n",
    "        chain.append(tfb.Blockwise(bijectors=[bijector1, bijector2], block_sizes=[size[i],params['latent_size']-size[i]]))\n",
    "        \n",
    "    chain.append(tfb.Scale(0.1))\n",
    "    \n",
    "    # p(x) is Gaussian, chain: y=g(x)\n",
    "    nvp=tfd.TransformedDistribution(distribution=tfd.Normal(0,1),bijector=tfb.Chain(chain),name='mynvp', event_shape=(params['latent_size'],))\n",
    "                 \n",
    "    return nvp\n",
    "\n",
    "def nvp_module_spec():\n",
    "    z_sample     = tf.placeholder(tf.float32, shape=[None,params['latent_size']])\n",
    "    sample_size  = tf.placeholder(tf.int32, shape=[])\n",
    "    u_sample     = tf.placeholder(tf.float32, shape=[None,params['latent_size']])\n",
    "    nvp_         = get_nvp()\n",
    "    log_prob     = nvp_.log_prob(z_sample)\n",
    "    nvp_sample   = nvp_.sample(sample_size)\n",
    "    nvp_fwd_pass = nvp_.bijector.forward(u_sample)\n",
    "    nvp_bwd_pass = nvp_.bijector.inverse(z_sample)\n",
    "    hub.add_signature(inputs={'z_sample':z_sample,'sample_size':sample_size, 'u_sample':u_sample}\\\n",
    "                      ,outputs={'log_prob':log_prob, 'sample':nvp_sample, 'fwd_pass': nvp_fwd_pass, 'bwd_pass': nvp_bwd_pass})\n",
    "\n",
    "nvp_spec  = hub.create_module_spec(nvp_module_spec)\n",
    "#nvp_funcs = hub.Module(nvp_path, trainable=True)#\n",
    "nvp_funcs = hub.Module(nvp_spec, name='nvp_funcs',trainable=True)\n",
    "loss      = -tf.reduce_mean(nvp_funcs({'z_sample':data,'sample_size':1, 'u_sample':np.zeros((1,params['latent_size']))},as_dict=True)['log_prob'])\n",
    "\n",
    "opt_op_nvp= optimizer.minimize(loss)\n"
   ]
  },
  {
   "cell_type": "code",
   "execution_count": 41,
   "metadata": {},
   "outputs": [],
   "source": [
    "sess = tf.Session()\n",
    "sess.run(tf.global_variables_initializer())"
   ]
  },
  {
   "cell_type": "code",
   "execution_count": 42,
   "metadata": {},
   "outputs": [],
   "source": [
    "nvp_tloss = []\n",
    "nvp_vloss = []\n",
    "ii     = 0"
   ]
  },
  {
   "cell_type": "code",
   "execution_count": 43,
   "metadata": {},
   "outputs": [
    {
     "name": "stdout",
     "output_type": "stream",
     "text": [
      "epoch  0\n",
      "64.98299 65.000015\n",
      "-1.083132 -1.2194546\n",
      "-5.124582 -6.24915\n",
      "-9.356637 -9.250914\n",
      "-10.620428 -11.144848\n",
      "-12.228474 -12.428339\n",
      "-12.817284 -12.685997\n",
      "-14.178993 -14.26675\n",
      "epoch  1\n",
      "-15.90553 -15.347754\n",
      "-15.851585 -15.71036\n",
      "-17.369469 -16.509296\n",
      "-16.800367 -17.110838\n",
      "-16.484081 -17.303669\n",
      "-18.233906 -18.24634\n",
      "-18.132944 -18.217438\n",
      "-19.349327 -19.07344\n",
      "epoch  2\n",
      "-18.881824 -18.432829\n",
      "-20.00169 -18.704988\n",
      "-18.23804 -19.333834\n",
      "-19.982578 -19.992466\n",
      "-20.11393 -20.40797\n",
      "-20.219484 -20.396677\n",
      "-20.457848 -20.475227\n",
      "-20.653196 -21.331928\n",
      "epoch  3\n",
      "-21.949501 -20.785244\n",
      "-22.041666 -21.358192\n",
      "-20.617014 -21.511124\n",
      "-22.772453 -21.917593\n",
      "-23.143839 -22.288584\n",
      "-21.96418 -22.386404\n",
      "-21.783703 -22.192398\n",
      "-22.125238 -22.01257\n",
      "epoch  4\n",
      "-23.711374 -22.353996\n",
      "-23.818583 -22.864712\n",
      "-23.341455 -23.050556\n",
      "-24.311604 -23.0182\n",
      "-23.574814 -23.046011\n",
      "-21.75868 -22.429934\n",
      "-22.846066 -23.27523\n",
      "-23.326454 -23.630966\n",
      "epoch  5\n",
      "-24.747414 -23.267855\n",
      "-22.155495 -22.952023\n",
      "-22.836605 -23.611454\n",
      "-23.330376 -23.269201\n",
      "-24.653189 -23.872377\n",
      "-23.728773 -24.153572\n",
      "-25.739916 -24.3368\n",
      "-24.900957 -23.812021\n",
      "epoch  6\n",
      "-24.478842 -23.940079\n",
      "-23.433449 -24.198915\n",
      "-24.471737 -24.092487\n",
      "-24.094885 -24.433348\n",
      "-25.32447 -24.87967\n",
      "-24.833529 -24.42961\n",
      "-24.506344 -24.71765\n",
      "-25.337563 -24.575552\n",
      "epoch  7\n",
      "-24.135693 -24.594948\n",
      "-25.148178 -24.949318\n",
      "-24.491747 -24.3964\n",
      "-26.836056 -25.158741\n",
      "-26.057285 -25.197424\n",
      "-26.24146 -24.65469\n",
      "-23.549309 -25.046904\n",
      "-25.492615 -25.297804\n",
      "epoch  8\n",
      "-26.157818 -25.140448\n",
      "-26.30769 -25.179693\n",
      "-25.204803 -25.32014\n",
      "-26.132278 -24.778667\n",
      "-25.613434 -25.426718\n",
      "-26.301744 -25.691122\n",
      "-26.817612 -25.533634\n",
      "-25.146551 -25.066847\n",
      "epoch  9\n",
      "-27.222635 -25.751995\n",
      "-25.89012 -26.085173\n",
      "-27.259626 -25.756748\n",
      "-25.555927 -25.685694\n",
      "-26.606777 -25.569632\n",
      "-26.339214 -25.80764\n",
      "-26.800003 -26.466087\n",
      "-25.79272 -25.624632\n",
      "epoch  10\n",
      "-25.886845 -26.132572\n",
      "-27.517038 -26.10619\n",
      "-27.034575 -26.303137\n",
      "-27.314642 -26.633366\n",
      "-26.865955 -26.030787\n",
      "-25.19455 -25.655624\n",
      "-27.051956 -26.183031\n",
      "-28.059875 -26.427235\n",
      "epoch  11\n",
      "-26.028667 -26.103052\n",
      "-26.621017 -25.801113\n",
      "-26.536522 -26.127691\n",
      "-27.097225 -26.604744\n",
      "-26.801159 -26.388344\n",
      "-27.73249 -26.58227\n",
      "-27.900183 -26.521887\n",
      "-27.394798 -26.557467\n",
      "epoch  12\n",
      "-27.4221 -26.683874\n",
      "-26.296576 -26.04127\n",
      "-27.706678 -26.513975\n",
      "-28.373446 -26.67137\n",
      "-26.463127 -26.211271\n",
      "-26.0033 -26.91985\n",
      "-27.499043 -26.531313\n",
      "-27.73524 -26.818575\n",
      "epoch  13\n",
      "-27.173698 -26.98437\n",
      "-28.399607 -27.051838\n",
      "-26.885885 -26.807207\n",
      "-27.689257 -27.143806\n",
      "-27.14043 -26.520681\n",
      "-27.480042 -27.260656\n",
      "-29.137478 -26.995237\n",
      "-28.080181 -27.073044\n",
      "epoch  14\n",
      "-29.02362 -27.145275\n",
      "-27.196377 -26.902618\n",
      "-29.239065 -27.231344\n",
      "-27.846478 -26.849546\n",
      "-27.96156 -27.03275\n",
      "-28.583967 -27.034798\n",
      "-28.867908 -27.405159\n",
      "-28.202482 -27.031103\n",
      "epoch  15\n",
      "-27.432045 -26.730425\n",
      "-28.155933 -27.27634\n",
      "-27.977455 -27.13667\n",
      "-28.717 -27.04585\n",
      "-27.957005 -26.899437\n",
      "-28.143896 -27.929188\n",
      "-28.670267 -27.226337\n",
      "-28.175514 -27.671656\n",
      "epoch  16\n",
      "-28.889954 -26.6229\n",
      "-29.205833 -27.360706\n",
      "-29.721365 -27.58815\n",
      "-28.500154 -27.525387\n",
      "-29.788963 -27.546122\n",
      "-28.017656 -27.318634\n",
      "-29.866302 -28.005238\n",
      "-28.879633 -27.406332\n",
      "epoch  17\n",
      "-29.255064 -27.791807\n",
      "-29.128141 -27.79612\n",
      "-28.81897 -27.648188\n",
      "-29.849916 -27.568813\n",
      "-27.645664 -27.822306\n",
      "-28.49468 -27.595062\n",
      "-29.235535 -27.423574\n",
      "-28.896576 -27.50675\n",
      "epoch  18\n",
      "-28.096905 -27.625465\n",
      "-28.866467 -27.727865\n",
      "-28.28033 -27.868195\n",
      "-29.642523 -27.57775\n",
      "-30.122435 -27.52629\n",
      "-28.577892 -27.128695\n",
      "-27.843357 -27.71777\n",
      "-29.708023 -28.162943\n",
      "epoch  19\n",
      "-29.212631 -28.050587\n",
      "-28.925081 -27.937431\n",
      "-29.340164 -28.4202\n",
      "-28.86942 -27.624624\n",
      "-27.371296 -27.725176\n",
      "-28.959003 -27.995487\n",
      "-28.748148 -27.881088\n",
      "-29.185755 -28.193481\n",
      "epoch  20\n",
      "-29.32814 -27.945337\n",
      "-28.600065 -28.228434\n",
      "-28.820953 -27.869905\n",
      "-28.263172 -27.911303\n",
      "-28.224588 -28.084538\n",
      "-29.979855 -28.0627\n",
      "-29.605782 -28.471918\n",
      "-29.57435 -28.145319\n",
      "epoch  21\n",
      "-29.26782 -28.201704\n",
      "-29.139906 -27.89413\n",
      "-29.57821 -28.42653\n",
      "-28.734144 -27.7562\n",
      "-29.763966 -28.385462\n",
      "-28.335228 -28.452862\n",
      "-29.42075 -28.579512\n",
      "-30.655407 -28.231625\n",
      "epoch  22\n",
      "-29.199087 -28.616444\n",
      "-29.480656 -28.274485\n",
      "-29.011948 -28.357113\n",
      "-28.775087 -27.8853\n",
      "-28.792305 -28.467325\n",
      "-29.701057 -28.334318\n",
      "-30.191914 -28.513494\n",
      "-29.484898 -28.62505\n",
      "epoch  23\n",
      "-29.949682 -28.888012\n",
      "-31.075476 -28.62625\n",
      "-29.509846 -28.125391\n",
      "-29.743242 -28.196888\n",
      "-31.801443 -28.265488\n",
      "-29.074738 -28.70011\n",
      "-30.450333 -28.5282\n",
      "-28.328964 -28.2901\n",
      "epoch  24\n",
      "-29.488867 -28.726091\n",
      "-29.024775 -28.495579\n",
      "-29.15848 -28.896082\n",
      "-31.232645 -28.52441\n",
      "-30.929955 -28.793072\n",
      "-31.036434 -28.280588\n",
      "-29.445366 -28.853891\n",
      "-28.296125 -28.283518\n",
      "epoch  25\n",
      "-29.360884 -28.440441\n",
      "-29.995638 -27.844229\n",
      "-29.98383 -28.965971\n",
      "-28.823675 -28.517832\n",
      "-28.744202 -28.385256\n",
      "-30.413498 -28.890293\n",
      "-28.28587 -28.809391\n",
      "-29.20808 -28.241802\n",
      "epoch  26\n",
      "-29.180813 -29.009745\n",
      "-30.020872 -29.056063\n",
      "-29.239975 -29.194784\n",
      "-30.332422 -29.065002\n",
      "-31.191877 -28.547907\n",
      "-29.512718 -28.817585\n",
      "-30.349957 -28.879808\n",
      "-29.95972 -29.187618\n",
      "epoch  27\n",
      "-29.155802 -28.525944\n",
      "-29.792814 -28.359516\n",
      "-30.698362 -28.73998\n",
      "-30.46673 -29.021744\n",
      "-29.471254 -29.108587\n",
      "-30.790804 -28.777668\n",
      "-28.145464 -28.712475\n",
      "-30.751709 -28.821613\n",
      "epoch  28\n",
      "-31.349812 -28.827627\n",
      "-29.890875 -28.920748\n",
      "-29.281136 -28.726553\n",
      "-29.355356 -28.29592\n",
      "-30.680008 -28.754538\n",
      "-28.028679 -29.083822\n",
      "-31.325718 -29.536253\n",
      "-29.480234 -29.03077\n",
      "epoch  29\n",
      "-30.260235 -29.074488\n",
      "-31.60969 -28.596003\n",
      "-29.816946 -28.595259\n",
      "-30.247726 -28.63242\n",
      "-31.847256 -29.060106\n",
      "-30.319078 -28.954153\n",
      "-30.54848 -29.39635\n",
      "-30.277666 -29.157644\n",
      "epoch  30\n",
      "-30.00347 -28.942274\n",
      "-30.555943 -28.786674\n",
      "-30.159758 -28.383318\n",
      "-29.964432 -29.287462\n",
      "-29.11915 -28.996695\n",
      "-30.800613 -29.227913\n",
      "-30.993038 -29.140654\n",
      "-30.14743 -29.273766\n",
      "epoch  31\n",
      "-31.137442 -29.408419\n",
      "-30.714127 -29.188137\n",
      "-29.96482 -28.699526\n",
      "-30.421906 -29.212618\n",
      "-30.386904 -29.30426\n",
      "-29.898415 -28.530193\n",
      "-30.38824 -29.285059\n",
      "-30.768242 -29.444279\n",
      "epoch  32\n",
      "-30.180046 -29.154943\n",
      "-30.172333 -29.379562\n",
      "-30.406319 -29.275038\n",
      "-30.224443 -28.747059\n",
      "-30.873203 -29.191324\n",
      "-30.456034 -29.381504\n",
      "-28.780033 -29.039738\n",
      "-31.087944 -29.200296\n",
      "epoch  33\n",
      "-31.116558 -29.369413\n",
      "-30.999916 -29.452982\n",
      "-30.251673 -29.391977\n",
      "-31.357628 -29.544237\n",
      "-30.26115 -29.103662\n",
      "-29.971924 -29.134306\n",
      "-29.526257 -29.506544\n",
      "-31.13974 -29.477365\n",
      "epoch  34\n",
      "-29.08806 -28.907488\n",
      "-30.608858 -29.716974\n",
      "-31.475151 -29.350431\n",
      "-30.185818 -28.926031\n",
      "-30.719109 -29.382515\n",
      "-31.08141 -29.200047\n",
      "-30.61507 -29.910088\n",
      "-30.574827 -29.547121\n",
      "epoch  35\n",
      "-30.78189 -29.630041\n",
      "-32.45307 -29.059082\n",
      "-30.752804 -29.58469\n",
      "-31.827198 -29.153265\n",
      "-31.068752 -29.460815\n",
      "-30.849031 -28.965672\n",
      "-30.95628 -29.529688\n",
      "-30.08576 -29.511038\n",
      "epoch  36\n",
      "-30.989946 -29.576544\n",
      "-31.21672 -29.067625\n",
      "-29.968037 -29.001\n",
      "-30.563942 -29.207745\n",
      "-29.931908 -29.126537\n",
      "-31.333708 -29.52823\n",
      "-31.656136 -29.82835\n",
      "-30.39626 -29.409624\n",
      "epoch  37\n",
      "-30.161245 -29.771454\n",
      "-32.183167 -29.82955\n",
      "-30.970785 -29.796469\n",
      "-29.88755 -29.490719\n",
      "-31.701199 -29.375626\n",
      "-31.220018 -29.793007\n",
      "-30.75739 -29.38618\n",
      "-30.493357 -29.90041\n",
      "epoch  38\n",
      "-31.420853 -29.970688\n",
      "-29.602943 -29.544569\n",
      "-31.076878 -29.576662\n",
      "-30.744972 -29.18868\n",
      "-32.44149 -29.656298\n",
      "-29.946293 -29.15361\n",
      "-31.229198 -29.681353\n",
      "-30.436821 -29.89622\n",
      "epoch  39\n",
      "-31.649015 -29.891174\n",
      "-32.903027 -29.82\n",
      "-32.713627 -29.6419\n",
      "-31.249876 -29.659702\n",
      "-30.515476 -29.405344\n",
      "-31.252426 -29.36961\n",
      "-30.654959 -29.951637\n",
      "-31.630606 -30.009874\n",
      "epoch  40\n",
      "-31.52231 -29.43257\n",
      "-31.906034 -30.243422\n",
      "-30.196377 -30.037745\n",
      "-30.749502 -29.43776\n",
      "-31.131205 -29.641853\n",
      "-30.955061 -29.806473\n",
      "-31.569271 -29.773094\n",
      "-32.204113 -29.853374\n",
      "epoch  41\n",
      "-31.046633 -29.939444\n",
      "-30.023666 -29.828312\n",
      "-31.895031 -30.080626\n",
      "-31.913406 -29.64115\n",
      "-32.39834 -29.969713\n",
      "-31.81578 -29.88255\n",
      "-31.325335 -30.199947\n",
      "-32.210663 -30.239363\n",
      "epoch  42\n",
      "-30.98837 -29.445625\n",
      "-31.595552 -29.760824\n",
      "-32.60942 -29.698156\n",
      "-31.437305 -30.109007\n",
      "-31.349852 -29.902094\n",
      "-32.27774 -30.008924\n",
      "-31.070385 -29.64855\n",
      "-31.571476 -30.098888\n",
      "epoch  43\n",
      "-31.90285 -29.882013\n",
      "-32.130558 -30.160118\n",
      "-31.681145 -29.998482\n",
      "-31.12721 -30.31215\n",
      "-32.26969 -29.871794\n",
      "-32.104935 -30.331463\n",
      "-31.17725 -30.423475\n",
      "-29.893848 -29.997934\n",
      "epoch  44\n",
      "-31.917461 -30.09521\n",
      "-31.190893 -30.207457\n",
      "-32.18489 -30.3244\n",
      "-32.021103 -29.737272\n",
      "-31.562551 -29.925516\n",
      "-30.826788 -30.093216\n",
      "-31.072868 -30.08883\n",
      "-31.594337 -29.745369\n",
      "epoch  45\n",
      "-31.662035 -29.87332\n",
      "-31.41248 -29.829746\n",
      "-32.429928 -30.189438\n",
      "-31.773247 -29.844557\n",
      "-31.881344 -29.981262\n",
      "-31.679657 -29.544363\n",
      "-30.723787 -29.995329\n",
      "-31.45348 -30.092306\n",
      "epoch  46\n",
      "-32.03082 -30.192297\n",
      "-32.127415 -30.216106\n",
      "-31.7693 -29.848125\n",
      "-32.500553 -30.01735\n",
      "-31.732285 -30.204662\n",
      "-31.597858 -30.1532\n",
      "-33.466763 -30.36921\n",
      "-31.010967 -29.852169\n",
      "epoch  47\n",
      "-32.564896 -30.329275\n",
      "-30.945425 -30.283016\n",
      "-31.859352 -30.167818\n",
      "-32.012104 -30.23186\n",
      "-32.047176 -30.07025\n",
      "-31.823067 -30.256157\n",
      "-30.962593 -30.326166\n",
      "-31.353813 -30.104635\n",
      "epoch  48\n",
      "-31.551706 -30.683945\n",
      "-32.163204 -29.796194\n",
      "-32.379314 -30.285915\n",
      "-31.804358 -30.138275\n",
      "-31.795622 -30.379808\n",
      "-31.993052 -30.1203\n",
      "-31.964458 -30.039326\n",
      "-32.19997 -30.330107\n",
      "epoch  49\n",
      "-32.11266 -30.366787\n",
      "-31.62284 -29.938028\n",
      "-29.959581 -29.816532\n",
      "-33.009956 -30.143118\n",
      "-31.363335 -30.553125\n",
      "-32.672035 -30.243446\n",
      "-31.670792 -30.404434\n",
      "-32.18788 -30.471373\n",
      "epoch  50\n",
      "-31.73544 -30.207355\n",
      "-30.79515 -29.98067\n",
      "-33.342228 -30.398338\n",
      "-34.2 -30.599075\n",
      "-31.142105 -30.27588\n",
      "-30.774519 -30.187063\n",
      "-31.76691 -30.286062\n",
      "-33.6041 -30.572603\n",
      "epoch  51\n",
      "-30.886074 -30.04055\n",
      "-35.080933 -33.531662\n",
      "-35.787373 -33.39921\n",
      "-34.694736 -33.447605\n",
      "epoch  52\n",
      "-35.63869 -33.14098\n",
      "-34.246655 -32.848232\n",
      "-33.78348 -33.13355\n",
      "-34.54349 -33.26028\n",
      "epoch  53\n",
      "-34.278084 -33.073277\n",
      "-35.98552 -32.810905\n",
      "-35.061375 -33.004475\n",
      "-34.870476 -32.94073\n",
      "epoch  54\n",
      "-35.34568 -32.68993\n",
      "-35.36019 -32.809673\n",
      "-35.640408 -32.70501\n",
      "-34.744118 -33.001297\n",
      "epoch  55\n",
      "-33.909893 -32.36248\n",
      "-34.937122 -32.957188\n",
      "-34.654213 -32.714916\n",
      "-34.715237 -32.756046\n",
      "epoch  56\n",
      "-34.78662 -32.602276\n",
      "-35.728664 -32.693638\n",
      "-35.056297 -32.709927\n",
      "-34.543488 -32.521317\n",
      "epoch  57\n",
      "-35.27847 -32.890995\n",
      "-33.26393 -32.589462\n",
      "-34.371258 -32.65574\n",
      "-34.619144 -32.843437\n",
      "epoch  58\n",
      "-34.248745 -32.813713\n",
      "-34.41915 -32.93293\n",
      "-36.272957 -32.77356\n",
      "-35.170723 -32.791637\n",
      "epoch  59\n",
      "-35.39516 -32.861164\n",
      "-36.29318 -32.73549\n",
      "-34.40751 -33.077156\n",
      "-35.645023 -32.693554\n",
      "epoch  60\n",
      "-34.878983 -33.097633\n",
      "-35.933887 -32.94765\n",
      "-35.47638 -32.83451\n",
      "-35.12384 -32.807495\n",
      "epoch  61\n",
      "-36.929405 -32.993732\n",
      "-35.919083 -32.968346\n",
      "-36.474453 -32.81166\n",
      "-35.850464 -33.079914\n",
      "epoch  62\n",
      "-35.283836 -32.777554\n",
      "-36.771957 -32.87825\n",
      "-35.817627 -33.291393\n",
      "-35.224567 -33.197086\n",
      "epoch  63\n",
      "-35.046707 -32.9679\n",
      "-34.748238 -32.89705\n",
      "-35.34735 -33.26876\n",
      "-35.24246 -32.99822\n",
      "epoch  64\n",
      "-34.970333 -32.98995\n",
      "-35.503754 -32.282436\n",
      "-35.785362 -33.036655\n",
      "-34.704575 -32.971783\n",
      "epoch  65\n",
      "-35.828274 -33.039455\n",
      "-35.64153 -32.59138\n",
      "-35.571636 -32.807953\n",
      "-35.02837 -33.04897\n",
      "epoch  66\n",
      "-34.39738 -32.854195\n",
      "-34.92251 -32.82665\n",
      "-35.475807 -32.861404\n",
      "-36.021626 -32.976204\n",
      "epoch  67\n",
      "-35.955215 -32.95939\n",
      "-35.80408 -33.20224\n",
      "-35.299904 -32.85565\n",
      "-38.01904 -32.883488\n",
      "epoch  68\n",
      "-35.996563 -32.85724\n",
      "-35.503567 -32.677467\n",
      "-36.928722 -33.114292\n",
      "-36.00317 -33.060658\n",
      "epoch  69\n",
      "-35.366962 -33.059265\n",
      "-34.70287 -33.02942\n",
      "-34.972008 -33.001007\n",
      "-35.811024 -32.738327\n",
      "epoch  70\n",
      "-36.41607 -33.206036\n",
      "-35.81177 -33.14795\n",
      "-35.627438 -33.18536\n",
      "-35.085075 -32.757298\n",
      "epoch  71\n",
      "-35.845726 -33.313583\n",
      "-38.089687 -35.14804\n",
      "epoch  72\n",
      "-38.409653 -35.37501\n",
      "-37.800068 -34.89775\n",
      "epoch  73\n",
      "-38.68312 -35.16865\n",
      "-38.411255 -34.896862\n",
      "epoch  74\n",
      "-38.550236 -34.88835\n",
      "-37.746838 -34.70483\n",
      "epoch  75\n",
      "-38.362114 -35.086224\n",
      "-38.53956 -34.80067\n",
      "epoch  76\n",
      "-37.867878 -34.77955\n",
      "-38.128258 -34.729454\n",
      "epoch  77\n",
      "-38.43293 -34.849567\n",
      "-37.601933 -34.755783\n",
      "epoch  78\n",
      "-37.69378 -34.56899\n",
      "-37.717575 -34.631237\n",
      "epoch  79\n",
      "-37.439842 -34.822083\n",
      "-38.273094 -34.719555\n",
      "epoch  80\n",
      "-38.4249 -34.847275\n",
      "-39.02086 -34.785267\n",
      "epoch  81\n",
      "-39.32449 -34.55005\n",
      "-41.149635 -37.23802\n",
      "epoch  82\n",
      "-41.631004 -37.33389\n",
      "-41.351414 -37.29996\n",
      "epoch  83\n",
      "-42.243076 -37.339012\n",
      "-40.873253 -37.3248\n",
      "epoch  84\n",
      "-41.44521 -37.35447\n",
      "-43.00815 -37.33213\n",
      "epoch  85\n",
      "-41.613995 -37.39563\n",
      "-41.44886 -37.369373\n",
      "epoch  86\n",
      "-41.955444 -37.34783\n",
      "-42.46074 -37.335068\n",
      "epoch  87\n",
      "-42.110115 -37.381603\n",
      "-40.937958 -37.350452\n",
      "epoch  88\n",
      "-42.66271 -37.370956\n",
      "-43.224945 -37.30228\n",
      "epoch  89\n",
      "-40.94649 -37.36481\n",
      "-42.027603 -37.304462\n",
      "epoch  90\n",
      "-40.521168 -37.38451\n",
      "-42.35414 -37.329075\n",
      "epoch  91\n",
      "-42.907074 -37.367218\n",
      "-42.385353 -37.337036\n",
      "epoch  92\n",
      "-41.250324 -37.30902\n",
      "-41.065826 -37.352512\n",
      "epoch  93\n",
      "-41.66071 -37.31627\n",
      "-41.846844 -37.333145\n",
      "epoch  94\n",
      "-41.78394 -37.37273\n",
      "-41.456463 -37.31265\n",
      "epoch  95\n",
      "-42.27317 -37.356945\n",
      "-41.440445 -37.353867\n",
      "epoch  96\n",
      "-40.889236 -37.286263\n",
      "-41.917213 -37.354855\n",
      "epoch  97\n",
      "-41.57159 -37.326283\n",
      "-42.471664 -37.301895\n",
      "epoch  98\n",
      "-41.823402 -37.350185\n",
      "-42.055546 -37.31753\n",
      "epoch  99\n",
      "-41.796803 -37.339645\n",
      "-42.529602 -37.331223\n",
      "epoch  100\n",
      "-41.21371 -37.368755\n",
      "-41.28974 -37.35328\n",
      "epoch  101\n",
      "-41.186394 -37.351963\n",
      "-41.376938 -37.078465\n",
      "-42.29888 -37.114807\n",
      "-42.962086 -37.12431\n",
      "epoch  102\n",
      "-43.310654 -37.16935\n",
      "-41.53476 -37.12594\n",
      "-43.0879 -37.13955\n",
      "-41.095093 -37.173923\n",
      "epoch  103\n",
      "-42.42414 -37.20965\n",
      "-41.815933 -37.099026\n",
      "-40.32312 -37.179115\n",
      "-42.15828 -37.218212\n",
      "epoch  104\n",
      "-41.3327 -37.21417\n",
      "-41.609295 -37.236504\n",
      "-40.996925 -37.150375\n",
      "-42.275238 -37.199093\n",
      "epoch  105\n",
      "-42.145615 -37.217735\n",
      "-41.254604 -37.15678\n",
      "-41.314114 -37.179012\n",
      "-42.278625 -37.1788\n",
      "epoch  106\n",
      "-44.053963 -37.204395\n",
      "-42.371845 -37.15513\n",
      "-41.82816 -37.20169\n",
      "-41.36006 -37.209457\n",
      "epoch  107\n",
      "-40.393547 -37.152107\n",
      "-43.834988 -37.111877\n",
      "-42.961445 -37.203392\n",
      "-43.449287 -37.189407\n",
      "epoch  108\n",
      "-42.169273 -37.18098\n",
      "-42.789997 -37.205444\n",
      "-41.332542 -37.130615\n",
      "-43.146095 -37.220318\n",
      "epoch  109\n",
      "-43.304413 -37.189575\n",
      "-43.35527 -37.26019\n",
      "-41.463596 -37.1957\n",
      "-41.282986 -37.17575\n",
      "epoch  110\n",
      "-43.219833 -37.162624\n",
      "-42.04806 -37.119007\n",
      "-42.54721 -37.099987\n",
      "-42.171722 -37.143593\n",
      "epoch  111\n",
      "-42.293007 -37.186314\n",
      "-41.363613 -37.146942\n",
      "-40.839012 -37.16908\n",
      "-42.288124 -37.163704\n",
      "epoch  112\n",
      "-42.357323 -37.2119\n",
      "-42.241833 -37.235565\n",
      "-42.377506 -37.205788\n",
      "-42.7685 -37.201393\n",
      "epoch  113\n",
      "-43.011322 -37.15091\n",
      "-41.27762 -37.20495\n",
      "-41.708664 -37.149292\n",
      "-42.1843 -37.169228\n",
      "epoch  114\n",
      "-42.05582 -37.183014\n",
      "-43.83366 -37.204212\n",
      "-41.68201 -37.1817\n",
      "-41.39328 -37.211845\n",
      "epoch  115\n",
      "-41.99867 -37.171818\n",
      "-43.023773 -37.171207\n",
      "-41.708893 -37.18805\n",
      "-41.308098 -37.210773\n",
      "epoch  116\n",
      "-42.816696 -37.214336\n",
      "-42.712738 -37.135624\n",
      "-41.09275 -37.193077\n",
      "-41.619125 -37.137608\n",
      "epoch  117\n",
      "-42.987972 -37.16664\n",
      "-41.907673 -37.14237\n",
      "-41.772324 -37.163567\n",
      "-41.78507 -37.159573\n",
      "epoch  118\n",
      "-43.74649 -37.162136\n",
      "-42.33944 -37.143536\n",
      "-41.851597 -37.177883\n",
      "-42.178734 -37.17895\n",
      "epoch  119\n",
      "-42.583942 -37.204475\n",
      "-42.375645 -37.14936\n",
      "-43.979153 -37.13987\n",
      "-42.9557 -37.1223\n",
      "epoch  120\n",
      "-42.011677 -37.14715\n",
      "-42.515476 -37.13628\n",
      "-41.15861 -37.121956\n",
      "-40.661716 -37.200127\n",
      "epoch  121\n",
      "-42.31445 -37.1564\n",
      "-42.453735 -37.106213\n",
      "-41.466057 -37.13438\n",
      "-42.558716 -37.15408\n",
      "epoch  122\n",
      "-43.852978 -37.173855\n",
      "-43.130173 -37.134964\n",
      "-42.152737 -37.18633\n",
      "-40.97816 -37.14427\n",
      "epoch  123\n",
      "-43.341335 -37.180733\n",
      "-42.723415 -37.13242\n",
      "-41.57999 -37.165436\n",
      "-43.755642 -37.178677\n",
      "epoch  124\n",
      "-41.64799 -37.19729\n",
      "-41.881176 -37.154133\n",
      "-41.74104 -37.06764\n",
      "-41.891182 -37.14329\n",
      "epoch  125\n",
      "-41.47741 -37.218952\n",
      "-42.75639 -37.141792\n",
      "-41.474487 -37.154976\n",
      "-42.714584 -37.180065\n",
      "epoch  126\n",
      "-41.843643 -37.196526\n",
      "-41.819695 -37.15164\n",
      "-43.12917 -37.193886\n",
      "-43.041454 -37.113007\n",
      "epoch  127\n",
      "-43.0951 -37.155968\n",
      "-42.2379 -37.110905\n",
      "-41.85867 -37.158367\n",
      "-42.333702 -37.155\n",
      "epoch  128\n",
      "-42.60749 -37.19043\n",
      "-42.26005 -37.16924\n",
      "-42.161186 -37.128494\n",
      "-42.528324 -37.186802\n",
      "epoch  129\n",
      "-40.391453 -37.121464\n",
      "-43.00635 -37.13011\n",
      "-42.59856 -37.039455\n",
      "-40.738003 -37.223873\n",
      "epoch  130\n",
      "-42.59122 -37.211548\n",
      "-42.689354 -37.09598\n",
      "-43.520622 -37.105724\n",
      "-41.197098 -37.09687\n",
      "epoch  131\n",
      "-40.533794 -37.122128\n",
      "-43.5236 -37.1331\n",
      "-42.394592 -37.102318\n",
      "-42.92073 -37.066288\n",
      "epoch  132\n",
      "-41.792107 -37.16765\n",
      "-42.938354 -37.04711\n",
      "-42.549614 -37.16628\n",
      "-42.097668 -37.15773\n",
      "epoch  133\n",
      "-42.161247 -37.190594\n",
      "-42.711617 -37.12471\n",
      "-41.18787 -37.110695\n",
      "-41.71389 -37.111664\n",
      "epoch  134\n",
      "-42.70773 -37.12345\n",
      "-43.081505 -37.1617\n",
      "-42.12296 -37.14542\n",
      "-43.590828 -37.157486\n",
      "epoch  135\n",
      "-42.355347 -37.197533\n",
      "-42.545204 -37.146053\n",
      "-41.482132 -37.069843\n",
      "-41.506638 -37.154774\n",
      "epoch  136\n",
      "-40.708973 -37.165787\n",
      "-41.58943 -37.100273\n",
      "-41.161102 -37.185528\n",
      "-42.657486 -37.10962\n",
      "epoch  137\n",
      "-41.77701 -37.125763\n",
      "-42.530098 -37.1224\n",
      "-42.25873 -37.13054\n",
      "-41.86658 -37.14505\n",
      "epoch  138\n",
      "-42.53262 -37.131176\n",
      "-41.818817 -37.116016\n",
      "-42.214302 -37.119488\n",
      "-42.240547 -37.09224\n",
      "epoch  139\n",
      "-42.45716 -37.220127\n",
      "-41.385513 -37.086945\n",
      "-41.122574 -37.16819\n",
      "-41.339207 -37.155544\n"
     ]
    }
   ],
   "source": [
    "learning_rate = 1e-3\n",
    "batchsize = 32\n",
    "epoch = train_size//batchsize\n",
    "n_epochs = 140\n",
    "while ii<n_epochs:\n",
    "    print('epoch ', ii)\n",
    "    jj = 0\n",
    "    if ii>50:\n",
    "        batchsize = 64\n",
    "    if ii>70:\n",
    "        batchsize=128\n",
    "    if ii>80:\n",
    "        learning_rate = 1e-4\n",
    "    if ii>100:\n",
    "        batchsize=64\n",
    "    epoch = train_size//batchsize\n",
    "    while jj<epoch:\n",
    "        noise = np.random.normal(size=(batchsize,params['latent_size']))*2e-2\n",
    "        _, ll = sess.run([opt_op_nvp,loss],  feed_dict={lr: learning_rate, data:z_sample[jj*batchsize:(jj+1)*batchsize]+noise})\n",
    "        if jj%200==0:\n",
    "            np.random.shuffle(z_sample_valid)\n",
    "            l_v = sess.run(loss,  feed_dict={lr: learning_rate,lr: learning_rate,data:z_sample_valid})\n",
    "            nvp_vloss+=[l_v]\n",
    "            inds = np.random.randint(low=0, high=train_size, size=1024)\n",
    "            l_t = sess.run(loss,  feed_dict={lr: learning_rate,lr: learning_rate,data:z_sample[inds]})\n",
    "            nvp_tloss+=[l_t]\n",
    "            print(l_t, l_v)\n",
    "#             sample = sess.run(fwd_pass)\n",
    "#             print(np.amax(sample))\n",
    "#         if jj==0:\n",
    "#             nn = np.random.randint(low=0,high=63)\n",
    "#             plt.scatter(z_sample_valid[:500,nn],z_sample_valid[:500,nn+1],s=1, label='encoded data valid')\n",
    "#             plt.scatter(z_sample[:500,nn],z_sample[:500,nn+1],s=2, label='encoded data') \n",
    "#             plt.scatter(latent_samples[:500,nn],latent_samples[:500,nn+1],s=2, label='RealNVP samples') \n",
    "#             plt.show()\n",
    "        jj+=1\n",
    "    if ii%10==0 and ii>0:\n",
    "        nvp_path         = os.path.join(params['module_dir'],'hybrid1_nepoch%d'%ii)\n",
    "        nvp_funcs.export(nvp_path,sess)\n",
    "        \n",
    "    np.random.shuffle(z_sample)\n",
    "    ii+=1"
   ]
  },
  {
   "cell_type": "code",
   "execution_count": 44,
   "metadata": {},
   "outputs": [
    {
     "data": {
      "text/plain": [
       "0.01854675520093447"
      ]
     },
     "execution_count": 44,
     "metadata": {},
     "output_type": "execute_result"
    }
   ],
   "source": [
    "max(np.random.normal(size=10000)*5e-3)"
   ]
  },
  {
   "cell_type": "code",
   "execution_count": 71,
   "metadata": {},
   "outputs": [
    {
     "data": {
      "image/png": "[encoded data removed]",
      "text/plain": [
       "<Figure size 432x288 with 1 Axes>"
      ]
     },
     "metadata": {
      "needs_background": "light"
     },
     "output_type": "display_data"
    }
   ],
   "source": [
    "plt.figure()\n",
    "plt.plot(nvp_tloss,label='training loss')\n",
    "plt.plot(nvp_vloss,label='validation loss' )\n",
    "plt.xlabel('# iteration')\n",
    "plt.ylabel('RealNVP loss')\n",
    "plt.ylim(-50,0)\n",
    "plt.legend()\n",
    "plt.savefig(os.path.join(params['plot_dir'],'RealNVP_loss.pdf'),bbox_inches='tight')"
   ]
  },
  {
   "cell_type": "code",
   "execution_count": 46,
   "metadata": {},
   "outputs": [
    {
     "data": {
      "text/plain": [
       "-37.183258"
      ]
     },
     "execution_count": 46,
     "metadata": {},
     "output_type": "execute_result"
    }
   ],
   "source": [
    "sess.run(loss,  feed_dict={lr: learning_rate,lr: learning_rate,data:z_sample_valid})"
   ]
  },
  {
   "cell_type": "code",
   "execution_count": null,
   "metadata": {},
   "outputs": [],
   "source": [
    "print(nvp_path)"
   ]
  },
  {
   "cell_type": "code",
   "execution_count": 48,
   "metadata": {
    "colab": {
     "base_uri": "https://localhost:8080/",
     "height": 787
    },
    "colab_type": "code",
    "id": "yvTEYw44O_5q",
    "outputId": "eb03d58e-34da-4cac-c0f4-c034d3d47397"
   },
   "outputs": [
    {
     "name": "stdout",
     "output_type": "stream",
     "text": [
      "INFO:tensorflow:Saver not created because there are no variables in the graph to restore\n"
     ]
    },
    {
     "name": "stderr",
     "output_type": "stream",
     "text": [
      "INFO:tensorflow:Saver not created because there are no variables in the graph to restore\n"
     ]
    },
    {
     "name": "stdout",
     "output_type": "stream",
     "text": [
      "INFO:tensorflow:Saver not created because there are no variables in the graph to restore\n"
     ]
    },
    {
     "name": "stderr",
     "output_type": "stream",
     "text": [
      "INFO:tensorflow:Saver not created because there are no variables in the graph to restore\n"
     ]
    },
    {
     "name": "stdout",
     "output_type": "stream",
     "text": [
      "INFO:tensorflow:Saver not created because there are no variables in the graph to restore\n"
     ]
    },
    {
     "name": "stderr",
     "output_type": "stream",
     "text": [
      "INFO:tensorflow:Saver not created because there are no variables in the graph to restore\n"
     ]
    },
    {
     "name": "stdout",
     "output_type": "stream",
     "text": [
      "INFO:tensorflow:Saver not created because there are no variables in the graph to restore\n"
     ]
    },
    {
     "name": "stderr",
     "output_type": "stream",
     "text": [
      "INFO:tensorflow:Saver not created because there are no variables in the graph to restore\n"
     ]
    },
    {
     "name": "stdout",
     "output_type": "stream",
     "text": [
      "INFO:tensorflow:Saver not created because there are no variables in the graph to restore\n"
     ]
    },
    {
     "name": "stderr",
     "output_type": "stream",
     "text": [
      "INFO:tensorflow:Saver not created because there are no variables in the graph to restore\n"
     ]
    }
   ],
   "source": [
    "tf.reset_default_graph()\n",
    "\n",
    "lr            = tf.placeholder_with_default(0.001,shape=[])\n",
    "sigma         = tf.placeholder_with_default(0.1,shape=[])\n",
    "sample_size   = tf.placeholder_with_default(params['batch_size'],shape=[])\n",
    "data          = train_input_fn()\n",
    "validdata     = eval_input_fn()\n",
    "encoder       = hub.Module(encoder_path, trainable=False)\n",
    "generator     = hub.Module(generator_path, trainable=False)\n",
    "nvp_funcs     = hub.Module(nvp_path, trainable=False)\n",
    "optimizer     = tf.train.AdamOptimizer(learning_rate=lr)\n",
    "\n",
    "prior         = get_prior(params['latent_size'])\n",
    "posterior     = get_posterior(encoder)\n",
    "likelihood    = get_likelihood(generator,params)\n",
    "\n",
    "# inspect the model\n",
    "z_      = posterior(validdata).mean()\n",
    "recon   = likelihood(z_).mean()\n",
    "prior_sample = prior.sample(sample_size)\n",
    "x_old   = likelihood(prior_sample).mean()\n",
    "\n",
    "\n",
    "nvp_sample = nvp_funcs({'z_sample':np.zeros((1,params['latent_size'])),'sample_size':1, 'u_sample':prior_sample}, as_dict=True)['fwd_pass']\n",
    "x_new      = likelihood(nvp_sample).mean()\n",
    " \n",
    "# # ---------------------------end train nvp ----------------- #\n",
    "\n",
    "# #comment train nvp above section above and uncomment this for loading the trained module\n",
    "\n",
    "# #"
   ]
  },
  {
   "cell_type": "code",
   "execution_count": 49,
   "metadata": {
    "colab": {},
    "colab_type": "code",
    "id": "Soh1tnGH1FTW"
   },
   "outputs": [],
   "source": [
    "sess = tf.Session()\n",
    "sess.run(tf.global_variables_initializer())"
   ]
  },
  {
   "cell_type": "code",
   "execution_count": 50,
   "metadata": {
    "colab": {},
    "colab_type": "code",
    "id": "Tts2_qqiZLUR"
   },
   "outputs": [],
   "source": [
    "rec, d = sess.run([recon,validdata])"
   ]
  },
  {
   "cell_type": "code",
   "execution_count": 51,
   "metadata": {
    "colab": {},
    "colab_type": "code",
    "id": "6FxkYOnkZLUY"
   },
   "outputs": [],
   "source": [
    "x_sample = sess.run(x_old)"
   ]
  },
  {
   "cell_type": "code",
   "execution_count": 56,
   "metadata": {},
   "outputs": [
    {
     "name": "stdout",
     "output_type": "stream",
     "text": [
      "[28 28  1]\n"
     ]
    }
   ],
   "source": [
    "shape=params['data_shape']"
   ]
  },
  {
   "cell_type": "code",
   "execution_count": 65,
   "metadata": {
    "colab": {
     "base_uri": "https://localhost:8080/",
     "height": 247
    },
    "colab_type": "code",
    "id": "vQtp4nklZLUc",
    "outputId": "a317d12d-f2e7-4957-cab9-e2fe35949e6a"
   },
   "outputs": [
    {
     "data": {
      "image/png": "[encoded data removed]",
      "text/plain": [
       "<Figure size 576x288 with 8 Axes>"
      ]
     },
     "metadata": {
      "needs_background": "light"
     },
     "output_type": "display_data"
    }
   ],
   "source": [
    "jj=1\n",
    "plt.figure(figsize=(4*2,2*2))\n",
    "for ii in range(4):\n",
    "    plt.subplot(2,4,jj)\n",
    "    plt.imshow(np.squeeze((d[ii]+0.5).reshape(shape)),cmap='gray',vmin=0, vmax=1)\n",
    "    plt.axis('off')\n",
    "    jj+=1\n",
    "    plt.subplot(2,4,jj)\n",
    "    plt.imshow(np.squeeze((rec[ii]+0.5).reshape(shape)),cmap='gray',vmin=0, vmax=1)\n",
    "    plt.axis('off')\n",
    "    jj+=1\n"
   ]
  },
  {
   "cell_type": "code",
   "execution_count": 68,
   "metadata": {
    "colab": {
     "base_uri": "https://localhost:8080/",
     "height": 548
    },
    "colab_type": "code",
    "id": "RgjwDx6JZLVH",
    "outputId": "8a200255-50f0-4c47-8f18-6319dfe8b665"
   },
   "outputs": [
    {
     "data": {
      "image/png": "[encoded data removed]",
      "text/plain": [
       "<Figure size 720x720 with 16 Axes>"
      ]
     },
     "metadata": {
      "needs_background": "light"
     },
     "output_type": "display_data"
    },
    {
     "data": {
      "image/png": "[encoded data removed]",
      "text/plain": [
       "<Figure size 720x720 with 16 Axes>"
      ]
     },
     "metadata": {
      "needs_background": "light"
     },
     "output_type": "display_data"
    },
    {
     "data": {
      "image/png": "[encoded data removed]",
      "text/plain": [
       "<Figure size 720x720 with 16 Axes>"
      ]
     },
     "metadata": {
      "needs_background": "light"
     },
     "output_type": "display_data"
    },
    {
     "data": {
      "image/png": "[encoded data removed]",
      "text/plain": [
       "<Figure size 720x720 with 16 Axes>"
      ]
     },
     "metadata": {
      "needs_background": "light"
     },
     "output_type": "display_data"
    }
   ],
   "source": [
    "s_no_nvp, s_nvp = sess.run([x_old,x_new])\n",
    "\n",
    "plt.figure(figsize=(10,10))\n",
    "plt.subplots_adjust(left=None, bottom=None, right=None, top=None, wspace=0.05, hspace=0.05)\n",
    "for ii in range(16):\n",
    "    plt.subplot(4,4,ii+1)\n",
    "    plt.imshow(np.squeeze((s_nvp[ii]+0.5).reshape(shape)),cmap='gray',vmin=0, vmax=1)\n",
    "    plt.axis('off')\n",
    "plt.savefig(os.path.join(params['plot_dir'],'NVP_samples.pdf'),bbox_inches='tight')\n",
    "plt.show()\n",
    "plt.figure(figsize=(10,10))\n",
    "plt.subplots_adjust(left=None, bottom=None, right=None, top=None, wspace=0.05, hspace=0.05)\n",
    "for ii in range(16):\n",
    "    plt.subplot(4,4,ii+1)\n",
    "    plt.imshow(np.squeeze((s_no_nvp[ii]+0.5).reshape(shape)),cmap='gray',vmin=0, vmax=1)\n",
    "    plt.axis('off')\n",
    "plt.savefig(os.path.join(params['plot_dir'],'raw_samples.pdf'),bbox_inches='tight')\n",
    "plt.show()\n",
    "plt.figure(figsize=(10,10))\n",
    "plt.subplots_adjust(left=None, bottom=None, right=None, top=None, wspace=0.05, hspace=0.05)\n",
    "for ii in range(16):\n",
    "    plt.subplot(4,4,ii+1)\n",
    "    plt.imshow(np.squeeze((rec[ii]+0.5).reshape(shape)),cmap='gray',vmin=0, vmax=1)\n",
    "    plt.axis('off')\n",
    "plt.savefig(os.path.join(params['plot_dir'],'reconstructions.pdf'),bbox_inches='tight')\n",
    "plt.show()\n",
    "plt.figure(figsize=(10,10))\n",
    "plt.subplots_adjust(left=None, bottom=None, right=None, top=None, wspace=0.05, hspace=0.05)\n",
    "for ii in range(16):\n",
    "    plt.subplot(4,4,ii+1)\n",
    "    plt.imshow(np.squeeze((d[ii]+0.5).reshape(shape)),cmap='gray',vmin=0, vmax=1)\n",
    "    plt.axis('off')\n",
    "plt.savefig(os.path.join(params['plot_dir'],'inputs.pdf'),bbox_inches='tight')\n",
    "plt.show()"
   ]
  },
  {
   "cell_type": "code",
   "execution_count": 49,
   "metadata": {
    "colab": {
     "base_uri": "https://localhost:8080/",
     "height": 189
    },
    "colab_type": "code",
    "id": "Wu9VWnXmZLVJ",
    "outputId": "2381a87f-6ebf-44c2-daa0-79c600b03917"
   },
   "outputs": [
    {
     "data": {
      "image/png": "[encoded data removed]",
      "text/plain": [
       "<Figure size 1152x1152 with 32 Axes>"
      ]
     },
     "metadata": {
      "needs_background": "light"
     },
     "output_type": "display_data"
    }
   ],
   "source": [
    "plt.figure(figsize=(16,16))\n",
    "for nn in range(params['latent_size']-params['latent_size']//2):\n",
    "    plt.subplot(8,8,nn+1)\n",
    "    #plt.scatter(prior_s[:5000,nn],prior_s[:5000,nn+1],s=2, label='prior samples') \n",
    "    plt.scatter(z_sample_valid[:5000,nn],z_sample_valid[:5000,nn+1],s=1, label='encoded data valid')\n",
    "    plt.scatter(z_sample[:5000,nn],z_sample[:5000,nn+1],s=2, label='encoded data')\n",
    "    plt.scatter(z_sample_nvp[:5000,nn],z_sample_nvp[:5000,nn+1],s=2, label='RealNVP samples') \n",
    "    plt.ylabel('dim %d'%nn)\n",
    "    plt.xlabel('dim %d'%(nn+1))\n",
    "    plt.tight_layout()\n",
    "    plt.xlim(-5,5)\n",
    "    plt.ylim(-5,5)\n",
    "plt.legend(loc=(1.02,0.4))\n",
    "plt.savefig(os.path.join(params['plot_dir'],'latent_space_samples.pdf'),bbox_inches='tight')"
   ]
  },
  {
   "cell_type": "code",
   "execution_count": null,
   "metadata": {
    "colab": {
     "base_uri": "https://localhost:8080/",
     "height": 35
    },
    "colab_type": "code",
    "id": "ChWpb2mIZLVR",
    "outputId": "d5f0aada-329c-4d90-866a-8a01f76ab0dd"
   },
   "outputs": [],
   "source": []
  },
  {
   "cell_type": "code",
   "execution_count": 50,
   "metadata": {
    "colab": {},
    "colab_type": "code",
    "id": "XdDkZoh8ZLVT"
   },
   "outputs": [],
   "source": [
    "pickle.dump(params,open(os.path.join(PARAMS_PATH,param_file+'.pkl'),'wb'))"
   ]
  },
  {
   "cell_type": "code",
   "execution_count": null,
   "metadata": {},
   "outputs": [],
   "source": []
  }
 ],
 "metadata": {
  "accelerator": "GPU",
  "colab": {
   "collapsed_sections": [],
   "include_colab_link": true,
   "name": "TrainNVP and measure Reconstruction Noise.ipynb",
   "provenance": []
  },
  "kernelspec": {
   "display_name": "tf22",
   "language": "python",
   "name": "tf22"
  },
  "language_info": {
   "codemirror_mode": {
    "name": "ipython",
    "version": 3
   },
   "file_extension": ".py",
   "mimetype": "text/x-python",
   "name": "python",
   "nbconvert_exporter": "python",
   "pygments_lexer": "ipython3",
   "version": "3.8.3"
  }
 },
 "nbformat": 4,
 "nbformat_minor": 4
}
